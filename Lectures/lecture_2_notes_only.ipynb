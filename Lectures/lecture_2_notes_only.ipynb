{
 "cells": [
  {
   "cell_type": "code",
   "execution_count": 1,
   "metadata": {},
   "outputs": [
    {
     "data": {
      "text/html": [
       "<style>.container { width:80% !important; }</style>"
      ],
      "text/plain": [
       "<IPython.core.display.HTML object>"
      ]
     },
     "metadata": {},
     "output_type": "display_data"
    }
   ],
   "source": [
    "from IPython.core.display import display, HTML; display(HTML(\"<style>.container { width:80% !important; }</style>\"))"
   ]
  },
  {
   "cell_type": "code",
   "execution_count": 2,
   "metadata": {},
   "outputs": [
    {
     "name": "stdout",
     "output_type": "stream",
     "text": [
      "Populating the interactive namespace from numpy and matplotlib\n"
     ]
    }
   ],
   "source": [
    "import numpy as np\n",
    "import pandas as pd\n",
    "%pylab inline"
   ]
  },
  {
   "cell_type": "markdown",
   "metadata": {},
   "source": [
    "# START WITH SLIDES\n",
    "$ \\\\ $\n",
    "$ \\\\ $$ \\\\ $$ \\\\ $\n",
    "$ \\\\ $\n",
    "$ \\\\ $\n",
    "-"
   ]
  },
  {
   "cell_type": "markdown",
   "metadata": {},
   "source": [
    "# PART I: MOTIVATION"
   ]
  },
  {
   "cell_type": "markdown",
   "metadata": {},
   "source": [
    "# $ \\\\ $\n",
    "# $ \\\\ $\n",
    "# $ \\\\ $"
   ]
  },
  {
   "cell_type": "code",
   "execution_count": null,
   "metadata": {},
   "outputs": [],
   "source": []
  },
  {
   "cell_type": "markdown",
   "metadata": {},
   "source": [
    "# PART II: A SIMPLE TEXT CLASSIFICATION PROBLEM AND BAG OF WORDS"
   ]
  },
  {
   "cell_type": "markdown",
   "metadata": {},
   "source": [
    "## Let's look at some text"
   ]
  },
  {
   "cell_type": "code",
   "execution_count": 3,
   "metadata": {},
   "outputs": [
    {
     "name": "stderr",
     "output_type": "stream",
     "text": [
      "Using TensorFlow backend.\n"
     ]
    }
   ],
   "source": [
    "import numpy as np\n",
    "import pandas as pd\n",
    "\n",
    "from keras.datasets import imdb, reuters\n",
    "from sklearn.datasets import fetch_20newsgroups"
   ]
  },
  {
   "cell_type": "markdown",
   "metadata": {},
   "source": [
    "### From: http://people.csail.mit.edu/jrennie/20Newsgroups/\n",
    "\n",
    "\n",
    "#### The 20 Newsgroups data set is a collection of approximately 20,000 newsgroup documents, partitioned (nearly) evenly across 20 different newsgroups. To the best of my knowledge, it was originally collected by Ken Lang, probably for his Newsweeder: Learning to filter netnews paper, though he does not explicitly mention this collection. The 20 newsgroups collection has become a popular data set for experiments in text applications of machine learning techniques, such as text classification and text clustering."
   ]
  },
  {
   "cell_type": "markdown",
   "metadata": {},
   "source": [
    "## Available Categories:\n",
    " - alt.atheism\n",
    " - comp.graphics\n",
    " - comp.os.ms-windows.misc\n",
    " - comp.sys.ibm.pc.hardware\n",
    " - comp.sys.mac.hardware\n",
    " - comp.windows.x\n",
    " - misc.forsale\n",
    " - rec.autos\n",
    " - rec.motorcycles\n",
    " - rec.sport.baseball\n",
    " - rec.sport.hockey\n",
    " - sci.crypt\n",
    " - sci.electronics\n",
    " - sci.med\n",
    " - sci.space\n",
    " - soc.religion.christian\n",
    " - talk.politics.guns\n",
    " - talk.politics.mideast\n",
    " - talk.politics.misc\n",
    " - talk.religion.misc"
   ]
  },
  {
   "cell_type": "code",
   "execution_count": 4,
   "metadata": {},
   "outputs": [],
   "source": [
    "data = fetch_20newsgroups(\n",
    "    subset='train', \n",
    "    categories=['sci.med', 'comp.windows.x']\n",
    ")"
   ]
  },
  {
   "cell_type": "code",
   "execution_count": 5,
   "metadata": {},
   "outputs": [
    {
     "data": {
      "text/plain": [
       "['DESCR', 'data', 'filenames', 'target', 'target_names']"
      ]
     },
     "execution_count": 5,
     "metadata": {},
     "output_type": "execute_result"
    }
   ],
   "source": [
    "dir(data)"
   ]
  },
  {
   "cell_type": "code",
   "execution_count": 6,
   "metadata": {},
   "outputs": [
    {
     "name": "stdout",
     "output_type": "stream",
     "text": [
      "DESCR: str\n",
      "data: list\n",
      "filenames: ndarray\n",
      "target: ndarray\n",
      "target_names: list\n"
     ]
    }
   ],
   "source": [
    "for attr in dir(data):\n",
    "    print('{}: {}'.format(attr, type(getattr(data, attr)).__name__))"
   ]
  },
  {
   "cell_type": "code",
   "execution_count": 7,
   "metadata": {},
   "outputs": [
    {
     "ename": "AttributeError",
     "evalue": "description",
     "output_type": "error",
     "traceback": [
      "\u001b[0;31m---------------------------------------------------------------------------\u001b[0m",
      "\u001b[0;31mKeyError\u001b[0m                                  Traceback (most recent call last)",
      "\u001b[0;32m~/anaconda3/envs/MIT/lib/python3.6/site-packages/sklearn/utils/__init__.py\u001b[0m in \u001b[0;36m__getattr__\u001b[0;34m(self, key)\u001b[0m\n\u001b[1;32m     70\u001b[0m         \u001b[0;32mtry\u001b[0m\u001b[0;34m:\u001b[0m\u001b[0;34m\u001b[0m\u001b[0;34m\u001b[0m\u001b[0m\n\u001b[0;32m---> 71\u001b[0;31m             \u001b[0;32mreturn\u001b[0m \u001b[0mself\u001b[0m\u001b[0;34m[\u001b[0m\u001b[0mkey\u001b[0m\u001b[0;34m]\u001b[0m\u001b[0;34m\u001b[0m\u001b[0;34m\u001b[0m\u001b[0m\n\u001b[0m\u001b[1;32m     72\u001b[0m         \u001b[0;32mexcept\u001b[0m \u001b[0mKeyError\u001b[0m\u001b[0;34m:\u001b[0m\u001b[0;34m\u001b[0m\u001b[0;34m\u001b[0m\u001b[0m\n",
      "\u001b[0;31mKeyError\u001b[0m: 'description'",
      "\nDuring handling of the above exception, another exception occurred:\n",
      "\u001b[0;31mAttributeError\u001b[0m                            Traceback (most recent call last)",
      "\u001b[0;32m<ipython-input-7-a6d2415ee843>\u001b[0m in \u001b[0;36m<module>\u001b[0;34m\u001b[0m\n\u001b[0;32m----> 1\u001b[0;31m \u001b[0mdata\u001b[0m\u001b[0;34m.\u001b[0m\u001b[0mdescription\u001b[0m\u001b[0;34m\u001b[0m\u001b[0;34m\u001b[0m\u001b[0m\n\u001b[0m",
      "\u001b[0;32m~/anaconda3/envs/MIT/lib/python3.6/site-packages/sklearn/utils/__init__.py\u001b[0m in \u001b[0;36m__getattr__\u001b[0;34m(self, key)\u001b[0m\n\u001b[1;32m     71\u001b[0m             \u001b[0;32mreturn\u001b[0m \u001b[0mself\u001b[0m\u001b[0;34m[\u001b[0m\u001b[0mkey\u001b[0m\u001b[0;34m]\u001b[0m\u001b[0;34m\u001b[0m\u001b[0;34m\u001b[0m\u001b[0m\n\u001b[1;32m     72\u001b[0m         \u001b[0;32mexcept\u001b[0m \u001b[0mKeyError\u001b[0m\u001b[0;34m:\u001b[0m\u001b[0;34m\u001b[0m\u001b[0;34m\u001b[0m\u001b[0m\n\u001b[0;32m---> 73\u001b[0;31m             \u001b[0;32mraise\u001b[0m \u001b[0mAttributeError\u001b[0m\u001b[0;34m(\u001b[0m\u001b[0mkey\u001b[0m\u001b[0;34m)\u001b[0m\u001b[0;34m\u001b[0m\u001b[0;34m\u001b[0m\u001b[0m\n\u001b[0m\u001b[1;32m     74\u001b[0m \u001b[0;34m\u001b[0m\u001b[0m\n\u001b[1;32m     75\u001b[0m     \u001b[0;32mdef\u001b[0m \u001b[0m__setstate__\u001b[0m\u001b[0;34m(\u001b[0m\u001b[0mself\u001b[0m\u001b[0;34m,\u001b[0m \u001b[0mstate\u001b[0m\u001b[0;34m)\u001b[0m\u001b[0;34m:\u001b[0m\u001b[0;34m\u001b[0m\u001b[0;34m\u001b[0m\u001b[0m\n",
      "\u001b[0;31mAttributeError\u001b[0m: description"
     ]
    }
   ],
   "source": [
    "data.description"
   ]
  },
  {
   "cell_type": "code",
   "execution_count": 8,
   "metadata": {},
   "outputs": [
    {
     "data": {
      "text/plain": [
       "['comp.windows.x', 'sci.med']"
      ]
     },
     "execution_count": 8,
     "metadata": {},
     "output_type": "execute_result"
    }
   ],
   "source": [
    "data.target_names"
   ]
  },
  {
   "cell_type": "code",
   "execution_count": 9,
   "metadata": {},
   "outputs": [
    {
     "name": "stdout",
     "output_type": "stream",
     "text": [
      "From: urathi@net4.ICS.UCI.EDU (Unmesh Rathi)\n",
      "Subject: Motif++ and Interviews\n",
      "Lines: 12\n",
      "\n",
      "Hi,\n",
      "\tI am in the process of making the decision whether I should\n",
      "write c++ wrappers for motif myself or use Motif++ or Interviews.\n",
      "Though I have downloaded the tar files, I fail to see any\n",
      "documentation. I have two questions:\n",
      "\t1) If you have used these or similar c++sy toolkits what has been\n",
      "your experience?\n",
      "\t2) Where do I find reference books /documentation for them?\n",
      "\n",
      "any and all input will be greatly appreciated.\n",
      "\n",
      "/unmesh\n",
      "\n"
     ]
    }
   ],
   "source": [
    "print(data.data[1])"
   ]
  },
  {
   "cell_type": "code",
   "execution_count": 10,
   "metadata": {},
   "outputs": [],
   "source": [
    "data = fetch_20newsgroups(\n",
    "    subset='all', \n",
    "    categories=['sci.med', 'comp.windows.x'], \n",
    "    remove=('headers', 'footers', 'quotes')  # remove crud\n",
    ")"
   ]
  },
  {
   "cell_type": "code",
   "execution_count": 11,
   "metadata": {},
   "outputs": [
    {
     "name": "stdout",
     "output_type": "stream",
     "text": [
      "I know that there is a relationship between Fibromyalgia and deep \n",
      "sleep.  I believe that there are five levels of sleep.  I think \n",
      "that R.E.M. sleep is the third deepest level of sleep and that \n",
      "there are two deeper levels of sleep.  If I am in error in any of \n",
      "this, please let me know.\n",
      "\n",
      "Which level of sleep is thought to be deficient in people with \n",
      "Fibromyalgia?  Are there any known sleep disturbances associated \n",
      "with CFS?  What sleep disturbances (if any) are associated with \n",
      "clinical depression?  Do antidepressants correct the sleep \n",
      "disturbances in these diseases?  Are there any good books or \n",
      "medical journal articles about sleep disturbances and these \n",
      "diseases?  Thank you in advance for all replies.\n"
     ]
    }
   ],
   "source": [
    "print(data.data[10])"
   ]
  },
  {
   "cell_type": "code",
   "execution_count": null,
   "metadata": {},
   "outputs": [],
   "source": []
  },
  {
   "cell_type": "markdown",
   "metadata": {},
   "source": [
    "# Approach: Turn text into numbers by counting\n",
    "## This is a simple and VERY powerful approach for working with text\n",
    "$ \\\\ $ \n",
    "$ \\\\ $ \n",
    "$ \\\\ $ \n",
    "$ \\\\ $ \n",
    "# GO TO SLIDES\n",
    "$ \\\\ $ \n",
    "$ \\\\ $ "
   ]
  },
  {
   "cell_type": "code",
   "execution_count": 12,
   "metadata": {},
   "outputs": [
    {
     "name": "stdout",
     "output_type": "stream",
     "text": [
      "I know that there is a relationship between Fibromyalgia and deep \n",
      "sleep.  I believe that there are five levels of sleep.  I think \n",
      "that R.E.M. sleep is the third deepest level of sleep and that \n",
      "there are two deeper levels of sleep.  If I am in error in any of \n",
      "this, please let me know.\n",
      "\n",
      "Which level of sleep is thought to be deficient in people with \n",
      "Fibromyalgia?  Are there any known sleep disturbances associated \n",
      "with CFS?  What sleep disturbances (if any) are associated with \n",
      "clinical depression?  Do antidepressants correct the sleep \n",
      "disturbances in these diseases?  Are there any good books or \n",
      "medical journal articles about sleep disturbances and these \n",
      "diseases?  Thank you in advance for all replies.\n"
     ]
    }
   ],
   "source": [
    "text = data.data[10]\n",
    "print(text)"
   ]
  },
  {
   "cell_type": "code",
   "execution_count": 13,
   "metadata": {},
   "outputs": [
    {
     "data": {
      "text/plain": [
       "['I',\n",
       " 'know',\n",
       " 'that',\n",
       " 'there',\n",
       " 'is',\n",
       " 'a',\n",
       " 'relationship',\n",
       " 'between',\n",
       " 'Fibromyalgia',\n",
       " 'and']"
      ]
     },
     "execution_count": 13,
     "metadata": {},
     "output_type": "execute_result"
    }
   ],
   "source": [
    "words = text.split() # this is a built-in function of Python\n",
    "words[:10]"
   ]
  },
  {
   "cell_type": "code",
   "execution_count": null,
   "metadata": {},
   "outputs": [],
   "source": []
  },
  {
   "cell_type": "markdown",
   "metadata": {},
   "source": [
    "## Recipe:\n",
    " - Standardize vocabulary: find all the unique words\n",
    " - Turn documents into numbers by counting words\n",
    " \n",
    "## This effectively one-hot-encodes the words\n",
    "## $D$ documents will become a $D \\text{ x } N_{words}$ matrix\n",
    "### where $N_{words}$ is the number of unique words in the text.\n",
    "\n",
    "\n",
    "## This is often called a \"term-document matrix\""
   ]
  },
  {
   "cell_type": "code",
   "execution_count": null,
   "metadata": {},
   "outputs": [],
   "source": []
  },
  {
   "cell_type": "code",
   "execution_count": 14,
   "metadata": {},
   "outputs": [
    {
     "data": {
      "text/plain": [
       "72"
      ]
     },
     "execution_count": 14,
     "metadata": {},
     "output_type": "execute_result"
    }
   ],
   "source": [
    "unique_words = list(set(words))\n",
    "len(unique_words)"
   ]
  },
  {
   "cell_type": "code",
   "execution_count": null,
   "metadata": {},
   "outputs": [],
   "source": []
  },
  {
   "cell_type": "code",
   "execution_count": 15,
   "metadata": {},
   "outputs": [
    {
     "data": {
      "text/plain": [
       "sleep              7\n",
       "there              5\n",
       "of                 5\n",
       "in                 5\n",
       "that               4\n",
       "disturbances       4\n",
       "I                  4\n",
       "and                3\n",
       "sleep.             3\n",
       "are                3\n",
       "any                3\n",
       "is                 3\n",
       "with               3\n",
       "associated         2\n",
       "level              2\n",
       "the                2\n",
       "levels             2\n",
       "Are                2\n",
       "diseases?          2\n",
       "these              2\n",
       "think              1\n",
       "(if                1\n",
       "known              1\n",
       "thought            1\n",
       "all                1\n",
       "deeper             1\n",
       "any)               1\n",
       "you                1\n",
       "journal            1\n",
       "deepest            1\n",
       "                  ..\n",
       "know.              1\n",
       "let                1\n",
       "third              1\n",
       "relationship       1\n",
       "for                1\n",
       "depression?        1\n",
       "this,              1\n",
       "please             1\n",
       "antidepressants    1\n",
       "If                 1\n",
       "deep               1\n",
       "or                 1\n",
       "Fibromyalgia       1\n",
       "to                 1\n",
       "believe            1\n",
       "advance            1\n",
       "medical            1\n",
       "five               1\n",
       "Thank              1\n",
       "R.E.M.             1\n",
       "Fibromyalgia?      1\n",
       "What               1\n",
       "CFS?               1\n",
       "am                 1\n",
       "two                1\n",
       "Do                 1\n",
       "know               1\n",
       "be                 1\n",
       "error              1\n",
       "Which              1\n",
       "Length: 72, dtype: int64"
      ]
     },
     "execution_count": 15,
     "metadata": {},
     "output_type": "execute_result"
    }
   ],
   "source": [
    "# Let's turn a single document into a vector\n",
    "document_vector = np.zeros(len(unique_words), dtype=np.int64)\n",
    "for word in words:\n",
    "    index = unique_words.index(word) # at this step you create a number from the word\n",
    "    document_vector[index] += 1\n",
    "pd.Series(document_vector, index=unique_words).sort_values(ascending=False)"
   ]
  },
  {
   "cell_type": "code",
   "execution_count": null,
   "metadata": {},
   "outputs": [],
   "source": []
  },
  {
   "cell_type": "markdown",
   "metadata": {},
   "source": [
    "## Pure python implementation"
   ]
  },
  {
   "cell_type": "code",
   "execution_count": 16,
   "metadata": {},
   "outputs": [
    {
     "name": "stdout",
     "output_type": "stream",
     "text": [
      "60045\n"
     ]
    }
   ],
   "source": [
    "# Count all the unique words in the data (takes ~2s)\n",
    "unique_words = set()\n",
    "for text in data.data:\n",
    "    words = text.split()\n",
    "    unique_words = unique_words.union(words)\n",
    "unique_words = list(set(unique_words))\n",
    "print(len(unique_words))"
   ]
  },
  {
   "cell_type": "markdown",
   "metadata": {},
   "source": [
    "## How big will our document matrix be?\n",
    "## $D \\text{ x }N_{words} \\text{ x }\\frac{8Bytes}{int}$"
   ]
  },
  {
   "cell_type": "code",
   "execution_count": 17,
   "metadata": {},
   "outputs": [
    {
     "name": "stdout",
     "output_type": "stream",
     "text": [
      "906.14MB\n"
     ]
    }
   ],
   "source": [
    "print('{:.2f}MB'.format(len(data.data) * len(unique_words) * 8 / 1024 / 1024))"
   ]
  },
  {
   "cell_type": "code",
   "execution_count": 1,
   "metadata": {},
   "outputs": [],
   "source": [
    "# DO NOT RUN THE CELL BELOW!"
   ]
  },
  {
   "cell_type": "code",
   "execution_count": null,
   "metadata": {},
   "outputs": [],
   "source": [
    "# DO NOT RUN\n",
    "term_doc_matrix = np.zeros((len(data.data), len(unique_words)))\n",
    "for document_index, text in enumerate(data.data):\n",
    "    words = text.split()\n",
    "    for word in words:\n",
    "        word_index = unique_words.index(word)\n",
    "        term_doc_matrix[document_index, word_index] += 1"
   ]
  },
  {
   "cell_type": "code",
   "execution_count": null,
   "metadata": {},
   "outputs": [],
   "source": []
  },
  {
   "cell_type": "markdown",
   "metadata": {},
   "source": [
    "# Question: how many of these entries will be non-zero?\n",
    " - How many unique words, how many words per document?"
   ]
  },
  {
   "cell_type": "code",
   "execution_count": null,
   "metadata": {},
   "outputs": [],
   "source": []
  },
  {
   "cell_type": "markdown",
   "metadata": {},
   "source": [
    "## Thankfully, this has been implemented better than we can, with numpy\n",
    " - Only pass through the data once!\n",
    " - Use sparse matrices!"
   ]
  },
  {
   "cell_type": "code",
   "execution_count": 18,
   "metadata": {},
   "outputs": [],
   "source": [
    "data_train = fetch_20newsgroups(\n",
    "    subset='train', \n",
    "    categories=['sci.med', 'comp.windows.x'], \n",
    "    remove=('headers', 'footers', 'quotes')\n",
    ")\n",
    "data_test = fetch_20newsgroups(\n",
    "    subset='test', \n",
    "    categories=['sci.med', 'comp.windows.x'], \n",
    "    remove=('headers', 'footers', 'quotes')\n",
    ")"
   ]
  },
  {
   "cell_type": "code",
   "execution_count": 19,
   "metadata": {},
   "outputs": [
    {
     "data": {
      "text/plain": [
       "0.5004212299915753"
      ]
     },
     "execution_count": 19,
     "metadata": {},
     "output_type": "execute_result"
    }
   ],
   "source": [
    "data_train.target.mean()"
   ]
  },
  {
   "cell_type": "markdown",
   "metadata": {},
   "source": [
    "### Sklearn `CountVectorizer`\n",
    " - turns words into vectors of word counts"
   ]
  },
  {
   "cell_type": "code",
   "execution_count": 23,
   "metadata": {},
   "outputs": [],
   "source": [
    "from sklearn.feature_extraction.text import CountVectorizer\n",
    "#CountVectorizer?"
   ]
  },
  {
   "cell_type": "markdown",
   "metadata": {},
   "source": [
    "## Recipe:\n",
    " - Make a `CountVectorizer`\n",
    " - `fit` it: (i.e. find all the unique words)\n",
    " - use it to turn __each__ document into a vector of words counts"
   ]
  },
  {
   "cell_type": "code",
   "execution_count": 21,
   "metadata": {},
   "outputs": [
    {
     "data": {
      "text/plain": [
       "scipy.sparse.csr.csr_matrix"
      ]
     },
     "execution_count": 21,
     "metadata": {},
     "output_type": "execute_result"
    }
   ],
   "source": [
    "vec = CountVectorizer(lowercase=False)\n",
    "vec.fit(data_train.data)\n",
    "term_document_matrix_train = vec.transform(data_train.data)\n",
    "term_document_matrix_test = vec.transform(data_test.data)\n",
    "\n",
    "type(term_document_matrix_train)"
   ]
  },
  {
   "cell_type": "code",
   "execution_count": 32,
   "metadata": {},
   "outputs": [],
   "source": [
    "# What does CountVectorizer do:\n",
    "# in vec.transform(data_train.data) you take the data of the data_train dataset (remember that data_train.data[0] gives you first\n",
    "# text passage of data_train dataset) and transforms the words into numbers and the numbers are then put in vector form\n",
    "# e.g.    The(2)     cat(14)     home(4)      house(105)\n",
    "# doc1    3          1           18           0               (original sentence: The cat is home the home the home)\n",
    "# doc2    2          1           0            1               (original sentence: The cat is fat because it is in the house)"
   ]
  },
  {
   "cell_type": "code",
   "execution_count": 26,
   "metadata": {},
   "outputs": [
    {
     "data": {
      "text/plain": [
       "(1187, 24958)"
      ]
     },
     "execution_count": 26,
     "metadata": {},
     "output_type": "execute_result"
    }
   ],
   "source": [
    "term_document_matrix_train.shape\n",
    "# 1187: number of documents in dataset\n",
    "# 24958: number of unique words in all the 1187 documents"
   ]
  },
  {
   "cell_type": "code",
   "execution_count": 30,
   "metadata": {},
   "outputs": [
    {
     "data": {
      "text/plain": [
       "<1x24958 sparse matrix of type '<class 'numpy.int64'>'\n",
       "\twith 73 stored elements in Compressed Sparse Row format>"
      ]
     },
     "execution_count": 30,
     "metadata": {},
     "output_type": "execute_result"
    }
   ],
   "source": [
    "term_document_matrix_train[4]"
   ]
  },
  {
   "cell_type": "code",
   "execution_count": null,
   "metadata": {},
   "outputs": [],
   "source": []
  },
  {
   "cell_type": "markdown",
   "metadata": {},
   "source": [
    "## OK, so how many of the elements will be non-zero?"
   ]
  },
  {
   "cell_type": "code",
   "execution_count": 28,
   "metadata": {},
   "outputs": [
    {
     "data": {
      "text/plain": [
       "0.004324400629114213"
      ]
     },
     "execution_count": 28,
     "metadata": {},
     "output_type": "execute_result"
    }
   ],
   "source": [
    "(term_document_matrix_train > 0).mean()"
   ]
  },
  {
   "cell_type": "code",
   "execution_count": 32,
   "metadata": {},
   "outputs": [
    {
     "name": "stdout",
     "output_type": "stream",
     "text": [
      "accuracy 0.9090\n",
      "f1 0.9122\n"
     ]
    }
   ],
   "source": [
    "from sklearn.linear_model import LogisticRegression\n",
    "from sklearn.metrics import accuracy_score, f1_score\n",
    "\n",
    "lr = LogisticRegression()\n",
    "lr.fit(term_document_matrix_train, data_train.target)\n",
    "lr_preds = lr.predict(term_document_matrix_test)\n",
    "print('accuracy {:.4f}'.format(accuracy_score(data_test.target, lr_preds)))\n",
    "print('f1 {:.4f}'.format(f1_score(data_test.target, lr_preds)))"
   ]
  },
  {
   "cell_type": "code",
   "execution_count": 33,
   "metadata": {},
   "outputs": [
    {
     "data": {
      "text/plain": [
       "window    -1.193121\n",
       "Hi        -0.984980\n",
       "server    -0.932611\n",
       "Motif     -0.888545\n",
       "windows   -0.884611\n",
       "use       -0.873152\n",
       "using     -0.849678\n",
       "do        -0.811083\n",
       "set       -0.785463\n",
       "problem   -0.736265\n",
       "MSG        0.720845\n",
       "user      -0.713934\n",
       "running   -0.712697\n",
       "version   -0.701494\n",
       "code      -0.700811\n",
       "X11R5     -0.698192\n",
       "list      -0.667127\n",
       "widget    -0.666384\n",
       "clients   -0.656623\n",
       "instead   -0.647548\n",
       "dtype: float64"
      ]
     },
     "execution_count": 33,
     "metadata": {},
     "output_type": "execute_result"
    }
   ],
   "source": [
    "lr_coefs = pd.Series(lr.coef_.squeeze(), \n",
    "                     index=vec.get_feature_names())\n",
    "lr_coefs[lr_coefs.abs().nlargest(20).index]"
   ]
  },
  {
   "cell_type": "code",
   "execution_count": null,
   "metadata": {},
   "outputs": [],
   "source": []
  },
  {
   "cell_type": "code",
   "execution_count": null,
   "metadata": {},
   "outputs": [],
   "source": []
  },
  {
   "cell_type": "markdown",
   "metadata": {},
   "source": [
    "# These tasks can get harder: what if the topics are more similar? "
   ]
  },
  {
   "cell_type": "code",
   "execution_count": 34,
   "metadata": {},
   "outputs": [
    {
     "name": "stdout",
     "output_type": "stream",
     "text": [
      "accuracy 0.7979\n",
      "f1 0.8005\n"
     ]
    }
   ],
   "source": [
    "\n",
    "data_train = fetch_20newsgroups(\n",
    "    subset='train', \n",
    "    categories=['comp.sys.ibm.pc.hardware', 'comp.sys.mac.hardware'], \n",
    "    remove=('headers', 'footers', 'quotes')\n",
    ")\n",
    "data_test = fetch_20newsgroups(\n",
    "    subset='test', \n",
    "    categories=['comp.sys.ibm.pc.hardware', 'comp.sys.mac.hardware'], \n",
    "    remove=('headers', 'footers', 'quotes')\n",
    ")\n",
    "\n",
    "\n",
    "vec = CountVectorizer(lowercase=False, )\n",
    "vec.fit(data_train.data)\n",
    "term_document_matrix_train = vec.transform(data_train.data)\n",
    "term_document_matrix_test = vec.transform(data_test.data)\n",
    "\n",
    "lr = LogisticRegression()\n",
    "lr.fit(term_document_matrix_train, data_train.target)\n",
    "\n",
    "lr_preds = lr.predict(term_document_matrix_test)\n",
    "print('accuracy {:.4f}'.format(accuracy_score(data_test.target, lr_preds)))\n",
    "print('f1 {:.4f}'.format(f1_score(data_test.target, lr_preds)))"
   ]
  },
  {
   "cell_type": "code",
   "execution_count": 35,
   "metadata": {},
   "outputs": [
    {
     "data": {
      "text/plain": [
       "Mac            1.663667\n",
       "Apple          1.485327\n",
       "mac            1.198855\n",
       "PC            -1.140943\n",
       "controller    -1.131204\n",
       "Centris        1.034983\n",
       "486           -0.998181\n",
       "IDE           -0.952146\n",
       "LC             0.899960\n",
       "Quadra         0.899059\n",
       "DOS           -0.856487\n",
       "Gateway       -0.818463\n",
       "help          -0.799048\n",
       "motherboard   -0.787825\n",
       "SE             0.780724\n",
       "ISA           -0.778633\n",
       "VLB           -0.757375\n",
       "want           0.741633\n",
       "Western       -0.730075\n",
       "How           -0.726191\n",
       "dtype: float64"
      ]
     },
     "execution_count": 35,
     "metadata": {},
     "output_type": "execute_result"
    }
   ],
   "source": [
    "lr_coefs = pd.Series(lr.coef_.squeeze(), \n",
    "                     index=vec.get_feature_names())\n",
    "lr_coefs[lr_coefs.abs().nlargest(20).index]"
   ]
  },
  {
   "cell_type": "code",
   "execution_count": null,
   "metadata": {},
   "outputs": [],
   "source": []
  },
  {
   "cell_type": "markdown",
   "metadata": {},
   "source": [
    "## Let's try the whole problem (all 20 classes)"
   ]
  },
  {
   "cell_type": "code",
   "execution_count": 8,
   "metadata": {},
   "outputs": [
    {
     "name": "stdout",
     "output_type": "stream",
     "text": [
      "accuracy 0.6021\n"
     ]
    }
   ],
   "source": [
    "\n",
    "data_train = fetch_20newsgroups(\n",
    "    subset='train', \n",
    "    remove=('headers', 'footers', 'quotes')\n",
    ")\n",
    "data_test = fetch_20newsgroups(\n",
    "    subset='test',\n",
    "    remove=('headers', 'footers', 'quotes')\n",
    ")\n",
    "\n",
    "\n",
    "vec = CountVectorizer(lowercase=False, )\n",
    "vec.fit(data_train.data)\n",
    "term_document_matrix_train = vec.transform(data_train.data)\n",
    "term_document_matrix_test = vec.transform(data_test.data)\n",
    "\n",
    "lr = LogisticRegression()\n",
    "lr.fit(term_document_matrix_train, data_train.target)\n",
    "\n",
    "lr_preds = lr.predict(term_document_matrix_test)\n",
    "print('accuracy {:.4f}'.format(accuracy_score(data_test.target, lr_preds)))"
   ]
  },
  {
   "cell_type": "code",
   "execution_count": null,
   "metadata": {},
   "outputs": [],
   "source": []
  },
  {
   "cell_type": "code",
   "execution_count": null,
   "metadata": {},
   "outputs": [],
   "source": []
  },
  {
   "cell_type": "markdown",
   "metadata": {},
   "source": [
    "# Pros:\n",
    " - fast\n",
    " - reliable\n",
    " - interpretable\n",
    " \n",
    "# Cons\n",
    " - Limited\n",
    " - Does not take into account context\n",
    " - What does the norm of a vector mean?"
   ]
  },
  {
   "cell_type": "code",
   "execution_count": null,
   "metadata": {},
   "outputs": [],
   "source": []
  },
  {
   "cell_type": "markdown",
   "metadata": {},
   "source": [
    "# Let's approach the problem with an ANN\n",
    "\n",
    "## Idea: let's try the same approach as MNIST:\n",
    " - add a __hidden layer__ to logistic regression"
   ]
  },
  {
   "cell_type": "markdown",
   "metadata": {},
   "source": [
    "### Safe to restart Notebook"
   ]
  },
  {
   "cell_type": "code",
   "execution_count": 29,
   "metadata": {},
   "outputs": [
    {
     "name": "stdout",
     "output_type": "stream",
     "text": [
      "Populating the interactive namespace from numpy and matplotlib\n"
     ]
    },
    {
     "name": "stderr",
     "output_type": "stream",
     "text": [
      "/Users/hermannviktor/anaconda3/envs/MIT/lib/python3.6/site-packages/IPython/core/magics/pylab.py:160: UserWarning: pylab import has clobbered these variables: ['text']\n",
      "`%matplotlib` prevents importing * from pylab and numpy\n",
      "  \"\\n`%matplotlib` prevents importing * from pylab and numpy\"\n"
     ]
    }
   ],
   "source": [
    "import numpy as np\n",
    "import pandas as pd\n",
    "%pylab inline\n",
    "\n",
    "import keras\n",
    "import keras.backend as K\n",
    "\n",
    "from sklearn.linear_model import LogisticRegression\n",
    "from sklearn.metrics import accuracy_score, f1_score\n",
    "\n",
    "from sklearn.feature_extraction.text import CountVectorizer\n",
    "\n",
    "from sklearn.datasets import fetch_20newsgroups\n",
    "from keras.datasets import imdb"
   ]
  },
  {
   "cell_type": "code",
   "execution_count": null,
   "metadata": {},
   "outputs": [],
   "source": []
  },
  {
   "cell_type": "code",
   "execution_count": 31,
   "metadata": {},
   "outputs": [],
   "source": [
    "# with this code you basically create a function that is for graphical purposes --> you would like to show your model results in a\n",
    "# dotted form\n",
    "from IPython.display import SVG\n",
    "from keras.utils.vis_utils import model_to_dot\n",
    "\n",
    "def plot_model_in_notebook(model):\n",
    "    return SVG(model_to_dot(model, show_shapes=True).create(prog='dot', format='svg'))\n"
   ]
  },
  {
   "cell_type": "markdown",
   "metadata": {},
   "source": [
    "## Recipe:\n",
    " - load the data\n",
    " - clean/preprocess it\n",
    " - count the words: `CountVectorizer` to turn text into matrices\n",
    " - use a neural network to fit the data"
   ]
  },
  {
   "cell_type": "code",
   "execution_count": 33,
   "metadata": {},
   "outputs": [],
   "source": [
    "from keras.utils import to_categorical\n",
    "\n",
    "# NOTE: we fetch ALL the categories\n",
    "data_train = fetch_20newsgroups(\n",
    "    subset='train', \n",
    "    remove=('headers', 'footers', 'quotes')\n",
    ")\n",
    "data_test = fetch_20newsgroups(\n",
    "    subset='test', \n",
    "    remove=('headers', 'footers', 'quotes')\n",
    ")\n",
    "\n",
    "def preprocess_targets(target, num_classes):\n",
    "    return to_categorical(target, num_classes)\n",
    "\n",
    "num_classes = np.unique(data_train.target).shape[0]\n",
    "y_train = preprocess_targets(data_train.target, num_classes)\n",
    "y_test = preprocess_targets(data_test.target, num_classes)\n",
    "\n",
    "\n",
    "vec = CountVectorizer()\n",
    "vec.fit(data_train.data)\n",
    "\n",
    "x_train = vec.transform(data_train.data).toarray()\n",
    "x_test = vec.transform(data_test.data).toarray()\n",
    "\n",
    "cut = int(0.8 * x_train.shape[0])\n",
    "x_train, x_val = x_train[:cut], x_train[cut:]\n",
    "y_train, y_val = y_train[:cut], y_train[cut:]"
   ]
  },
  {
   "cell_type": "code",
   "execution_count": 34,
   "metadata": {},
   "outputs": [
    {
     "name": "stdout",
     "output_type": "stream",
     "text": [
      "using 20 categories of documents\n"
     ]
    }
   ],
   "source": [
    "print('using {} categories of documents'.format(num_classes))"
   ]
  },
  {
   "cell_type": "code",
   "execution_count": 35,
   "metadata": {},
   "outputs": [
    {
     "data": {
      "text/plain": [
       "((9051, 101631), (7532, 101631), (9051, 20), (7532, 20))"
      ]
     },
     "execution_count": 35,
     "metadata": {},
     "output_type": "execute_result"
    }
   ],
   "source": [
    "x_train.shape, x_test.shape, y_train.shape, y_test.shape"
   ]
  },
  {
   "cell_type": "code",
   "execution_count": null,
   "metadata": {},
   "outputs": [],
   "source": []
  },
  {
   "cell_type": "code",
   "execution_count": 36,
   "metadata": {},
   "outputs": [],
   "source": [
    "from keras.models import Model, Input\n",
    "from keras.layers import Dense, Softmax, Dropout\n",
    "from keras.regularizers import l1_l2\n",
    "from keras.optimizers import RMSprop\n",
    "import keras.backend as K\n",
    "\n",
    "K.clear_session()\n",
    "digit_input = Input(shape=(x_train.shape[1],))\n",
    "hidden_state = Dense(64, activation='relu')(digit_input)\n",
    "output = Dense(num_classes, activation='softmax')(hidden_state)\n",
    "model = Model(digit_input, output)\n",
    "\n",
    "model.compile(optimizer=RMSprop(lr=2e-3, decay=1e-5), \n",
    "              loss='categorical_crossentropy', \n",
    "              metrics=['accuracy']\n",
    "             )\n"
   ]
  },
  {
   "cell_type": "code",
   "execution_count": 4,
   "metadata": {},
   "outputs": [
    {
     "data": {
      "image/svg+xml": [
       "<svg height=\"221pt\" viewBox=\"0.00 0.00 291.00 221.00\" width=\"291pt\" xmlns=\"http://www.w3.org/2000/svg\" xmlns:xlink=\"http://www.w3.org/1999/xlink\">\n",
       "<g class=\"graph\" id=\"graph0\" transform=\"scale(1 1) rotate(0) translate(4 217)\">\n",
       "<title>G</title>\n",
       "<polygon fill=\"#ffffff\" points=\"-4,4 -4,-217 287,-217 287,4 -4,4\" stroke=\"transparent\"/>\n",
       "<!-- 140183026919408 -->\n",
       "<g class=\"node\" id=\"node1\">\n",
       "<title>140183026919408</title>\n",
       "<polygon fill=\"none\" points=\"0,-166.5 0,-212.5 283,-212.5 283,-166.5 0,-166.5\" stroke=\"#000000\"/>\n",
       "<text fill=\"#000000\" font-family=\"Times,serif\" font-size=\"14.00\" text-anchor=\"middle\" x=\"62.5\" y=\"-185.8\">input_1: InputLayer</text>\n",
       "<polyline fill=\"none\" points=\"125,-166.5 125,-212.5 \" stroke=\"#000000\"/>\n",
       "<text fill=\"#000000\" font-family=\"Times,serif\" font-size=\"14.00\" text-anchor=\"middle\" x=\"152.5\" y=\"-197.3\">input:</text>\n",
       "<polyline fill=\"none\" points=\"125,-189.5 180,-189.5 \" stroke=\"#000000\"/>\n",
       "<text fill=\"#000000\" font-family=\"Times,serif\" font-size=\"14.00\" text-anchor=\"middle\" x=\"152.5\" y=\"-174.3\">output:</text>\n",
       "<polyline fill=\"none\" points=\"180,-166.5 180,-212.5 \" stroke=\"#000000\"/>\n",
       "<text fill=\"#000000\" font-family=\"Times,serif\" font-size=\"14.00\" text-anchor=\"middle\" x=\"231.5\" y=\"-197.3\">(None, 101631)</text>\n",
       "<polyline fill=\"none\" points=\"180,-189.5 283,-189.5 \" stroke=\"#000000\"/>\n",
       "<text fill=\"#000000\" font-family=\"Times,serif\" font-size=\"14.00\" text-anchor=\"middle\" x=\"231.5\" y=\"-174.3\">(None, 101631)</text>\n",
       "</g>\n",
       "<!-- 140183026825984 -->\n",
       "<g class=\"node\" id=\"node2\">\n",
       "<title>140183026825984</title>\n",
       "<polygon fill=\"none\" points=\"11.5,-83.5 11.5,-129.5 271.5,-129.5 271.5,-83.5 11.5,-83.5\" stroke=\"#000000\"/>\n",
       "<text fill=\"#000000\" font-family=\"Times,serif\" font-size=\"14.00\" text-anchor=\"middle\" x=\"62.5\" y=\"-102.8\">dense_1: Dense</text>\n",
       "<polyline fill=\"none\" points=\"113.5,-83.5 113.5,-129.5 \" stroke=\"#000000\"/>\n",
       "<text fill=\"#000000\" font-family=\"Times,serif\" font-size=\"14.00\" text-anchor=\"middle\" x=\"141\" y=\"-114.3\">input:</text>\n",
       "<polyline fill=\"none\" points=\"113.5,-106.5 168.5,-106.5 \" stroke=\"#000000\"/>\n",
       "<text fill=\"#000000\" font-family=\"Times,serif\" font-size=\"14.00\" text-anchor=\"middle\" x=\"141\" y=\"-91.3\">output:</text>\n",
       "<polyline fill=\"none\" points=\"168.5,-83.5 168.5,-129.5 \" stroke=\"#000000\"/>\n",
       "<text fill=\"#000000\" font-family=\"Times,serif\" font-size=\"14.00\" text-anchor=\"middle\" x=\"220\" y=\"-114.3\">(None, 101631)</text>\n",
       "<polyline fill=\"none\" points=\"168.5,-106.5 271.5,-106.5 \" stroke=\"#000000\"/>\n",
       "<text fill=\"#000000\" font-family=\"Times,serif\" font-size=\"14.00\" text-anchor=\"middle\" x=\"220\" y=\"-91.3\">(None, 64)</text>\n",
       "</g>\n",
       "<!-- 140183026919408&#45;&gt;140183026825984 -->\n",
       "<g class=\"edge\" id=\"edge1\">\n",
       "<title>140183026919408-&gt;140183026825984</title>\n",
       "<path d=\"M141.5,-166.3799C141.5,-158.1745 141.5,-148.7679 141.5,-139.8786\" fill=\"none\" stroke=\"#000000\"/>\n",
       "<polygon fill=\"#000000\" points=\"145.0001,-139.784 141.5,-129.784 138.0001,-139.784 145.0001,-139.784\" stroke=\"#000000\"/>\n",
       "</g>\n",
       "<!-- 140183026919800 -->\n",
       "<g class=\"node\" id=\"node3\">\n",
       "<title>140183026919800</title>\n",
       "<polygon fill=\"none\" points=\"25,-.5 25,-46.5 258,-46.5 258,-.5 25,-.5\" stroke=\"#000000\"/>\n",
       "<text fill=\"#000000\" font-family=\"Times,serif\" font-size=\"14.00\" text-anchor=\"middle\" x=\"76\" y=\"-19.8\">dense_2: Dense</text>\n",
       "<polyline fill=\"none\" points=\"127,-.5 127,-46.5 \" stroke=\"#000000\"/>\n",
       "<text fill=\"#000000\" font-family=\"Times,serif\" font-size=\"14.00\" text-anchor=\"middle\" x=\"154.5\" y=\"-31.3\">input:</text>\n",
       "<polyline fill=\"none\" points=\"127,-23.5 182,-23.5 \" stroke=\"#000000\"/>\n",
       "<text fill=\"#000000\" font-family=\"Times,serif\" font-size=\"14.00\" text-anchor=\"middle\" x=\"154.5\" y=\"-8.3\">output:</text>\n",
       "<polyline fill=\"none\" points=\"182,-.5 182,-46.5 \" stroke=\"#000000\"/>\n",
       "<text fill=\"#000000\" font-family=\"Times,serif\" font-size=\"14.00\" text-anchor=\"middle\" x=\"220\" y=\"-31.3\">(None, 64)</text>\n",
       "<polyline fill=\"none\" points=\"182,-23.5 258,-23.5 \" stroke=\"#000000\"/>\n",
       "<text fill=\"#000000\" font-family=\"Times,serif\" font-size=\"14.00\" text-anchor=\"middle\" x=\"220\" y=\"-8.3\">(None, 20)</text>\n",
       "</g>\n",
       "<!-- 140183026825984&#45;&gt;140183026919800 -->\n",
       "<g class=\"edge\" id=\"edge2\">\n",
       "<title>140183026825984-&gt;140183026919800</title>\n",
       "<path d=\"M141.5,-83.3799C141.5,-75.1745 141.5,-65.7679 141.5,-56.8786\" fill=\"none\" stroke=\"#000000\"/>\n",
       "<polygon fill=\"#000000\" points=\"145.0001,-56.784 141.5,-46.784 138.0001,-56.784 145.0001,-56.784\" stroke=\"#000000\"/>\n",
       "</g>\n",
       "</g>\n",
       "</svg>"
      ],
      "text/plain": [
       "<IPython.core.display.SVG object>"
      ]
     },
     "execution_count": 4,
     "metadata": {},
     "output_type": "execute_result"
    }
   ],
   "source": [
    "plot_model_in_notebook(model)"
   ]
  },
  {
   "cell_type": "code",
   "execution_count": 8,
   "metadata": {},
   "outputs": [
    {
     "data": {
      "text/plain": [
       "6505748"
      ]
     },
     "execution_count": 8,
     "metadata": {},
     "output_type": "execute_result"
    }
   ],
   "source": [
    "model.count_params()"
   ]
  },
  {
   "cell_type": "code",
   "execution_count": 9,
   "metadata": {},
   "outputs": [
    {
     "data": {
      "text/plain": [
       "6505748"
      ]
     },
     "execution_count": 9,
     "metadata": {},
     "output_type": "execute_result"
    }
   ],
   "source": [
    "x_train.shape[1] * 64 + 64 + 64 * num_classes + num_classes"
   ]
  },
  {
   "cell_type": "code",
   "execution_count": 10,
   "metadata": {},
   "outputs": [
    {
     "name": "stdout",
     "output_type": "stream",
     "text": [
      "Train on 9051 samples, validate on 2263 samples\n",
      "Epoch 1/6\n",
      "9051/9051 [==============================] - 14s 1ms/step - loss: 2.4497 - acc: 0.4729 - val_loss: 1.8982 - val_acc: 0.6673\n",
      "Epoch 2/6\n",
      "9051/9051 [==============================] - 12s 1ms/step - loss: 1.3907 - acc: 0.8409 - val_loss: 1.4164 - val_acc: 0.7318\n",
      "Epoch 3/6\n",
      "9051/9051 [==============================] - 13s 1ms/step - loss: 0.8807 - acc: 0.9019 - val_loss: 1.1943 - val_acc: 0.7477\n",
      "Epoch 4/6\n",
      "9051/9051 [==============================] - 12s 1ms/step - loss: 0.6309 - acc: 0.9213 - val_loss: 1.1294 - val_acc: 0.7459\n",
      "Epoch 5/6\n",
      "9051/9051 [==============================] - 13s 1ms/step - loss: 0.4461 - acc: 0.9453 - val_loss: 1.0125 - val_acc: 0.7609\n",
      "Epoch 6/6\n",
      "9051/9051 [==============================] - 12s 1ms/step - loss: 0.3426 - acc: 0.9548 - val_loss: 0.9704 - val_acc: 0.7614\n"
     ]
    },
    {
     "data": {
      "text/plain": [
       "<keras.callbacks.History at 0x7f44d6472eb8>"
      ]
     },
     "execution_count": 10,
     "metadata": {},
     "output_type": "execute_result"
    }
   ],
   "source": [
    "# 4vCPU intel NUC, ~ 12s / epoch -> 2 min\n",
    "model.fit(x_train, y_train, \n",
    "          batch_size=512, \n",
    "          validation_data=(x_val, y_val), \n",
    "          epochs=6, \n",
    "          shuffle=True)"
   ]
  },
  {
   "cell_type": "code",
   "execution_count": 11,
   "metadata": {},
   "outputs": [
    {
     "data": {
      "text/plain": [
       "Text(0.5,0,'epoch')"
      ]
     },
     "execution_count": 11,
     "metadata": {},
     "output_type": "execute_result"
    },
    {
     "data": {
      "image/png": "[encoded data removed]",
      "text/plain": [
       "<Figure size 1152x648 with 1 Axes>"
      ]
     },
     "metadata": {
      "needs_background": "light"
     },
     "output_type": "display_data"
    }
   ],
   "source": [
    "pd.DataFrame(model.history.history)[['acc', 'val_acc']].plot(\n",
    "    figsize=(16,9), fontsize=18, style='o', markersize=18\n",
    ")\n",
    "plt.legend(fontsize=18)\n",
    "plt.xlabel('epoch', fontsize=18)"
   ]
  },
  {
   "cell_type": "code",
   "execution_count": 12,
   "metadata": {},
   "outputs": [
    {
     "data": {
      "text/plain": [
       "0.686404673393521"
      ]
     },
     "execution_count": 12,
     "metadata": {},
     "output_type": "execute_result"
    }
   ],
   "source": [
    "preds = np.argmax(model.predict(x_test), axis=1)\n",
    "accuracy_score(np.argmax(y_test, axis=1), preds)"
   ]
  },
  {
   "cell_type": "code",
   "execution_count": null,
   "metadata": {},
   "outputs": [],
   "source": []
  },
  {
   "cell_type": "markdown",
   "metadata": {},
   "source": [
    "## How do we measure performance? \n",
    "### What is considered \"good\"?"
   ]
  },
  {
   "cell_type": "code",
   "execution_count": null,
   "metadata": {},
   "outputs": [],
   "source": []
  },
  {
   "cell_type": "code",
   "execution_count": 13,
   "metadata": {},
   "outputs": [
    {
     "data": {
      "text/plain": [
       "5     0.054359\n",
       "8     0.054138\n",
       "3     0.053143\n",
       "9     0.053143\n",
       "15    0.052922\n",
       "13    0.052701\n",
       "7     0.052701\n",
       "4     0.052591\n",
       "10    0.052480\n",
       "11    0.052370\n",
       "2     0.052259\n",
       "12    0.052149\n",
       "6     0.051928\n",
       "1     0.051486\n",
       "17    0.050381\n",
       "14    0.050050\n",
       "16    0.047951\n",
       "0     0.041763\n",
       "18    0.039112\n",
       "19    0.032372\n",
       "dtype: float64"
      ]
     },
     "execution_count": 13,
     "metadata": {},
     "output_type": "execute_result"
    }
   ],
   "source": [
    "pd.Series(np.argmax(y_train, axis=1)).value_counts(normalize=True)"
   ]
  },
  {
   "cell_type": "code",
   "execution_count": 14,
   "metadata": {},
   "outputs": [
    {
     "name": "stdout",
     "output_type": "stream",
     "text": [
      "most popular class 5: comp.windows.x\n"
     ]
    },
    {
     "data": {
      "text/plain": [
       "0.0524429102496017"
      ]
     },
     "execution_count": 14,
     "metadata": {},
     "output_type": "execute_result"
    }
   ],
   "source": [
    "most_popular_class = np.argmax(y_train.sum(axis=0))\n",
    "print('most popular class {}: {}'.format(\n",
    "    most_popular_class, data_train.target_names[most_popular_class]\n",
    "))\n",
    "accuracy_score(\n",
    "    np.argmax(y_test, axis=1), \n",
    "    most_popular_class * np.ones(y_test.shape[0])\n",
    ")"
   ]
  },
  {
   "cell_type": "code",
   "execution_count": null,
   "metadata": {},
   "outputs": [],
   "source": []
  },
  {
   "cell_type": "code",
   "execution_count": 15,
   "metadata": {},
   "outputs": [],
   "source": [
    "# Recall- logistic regression got ~60% accuracy"
   ]
  },
  {
   "cell_type": "code",
   "execution_count": 18,
   "metadata": {},
   "outputs": [
    {
     "data": {
      "text/plain": [
       "0.6015666489644185"
      ]
     },
     "execution_count": 18,
     "metadata": {},
     "output_type": "execute_result"
    }
   ],
   "source": [
    "lr = LogisticRegression()\n",
    "lr.fit(x_train, np.argmax(y_train, axis=1))\n",
    "accuracy_score(np.argmax(y_test, axis=1), lr.predict(x_test))"
   ]
  },
  {
   "cell_type": "markdown",
   "metadata": {},
   "source": [
    "# Recap: What did we do:\n",
    "\n",
    "## Document classification:\n",
    " - given a document I want to classify it into a __known__ set of categories\n",
    " - Usage case: now I can assign a category to a new, unknown document\n",
    "\n",
    "## Count Words:\n",
    " - AKA: one hot encoding, bag of words\n",
    " - Make covariates/features of shape $N_{documents}$ x $N_{words}$\n",
    " \n",
    "## Model:\n",
    " - baseline model: 5% accuracy \n",
    " - logistic regression: 60% accuracy\n",
    " - Single hidden layer NN: 67% accuracy\n",
    " \n",
    "$ \\\\ $\n",
    "$ \\\\ $\n",
    "$ \\\\ $\n",
    "# We've only used the same `features` on a more complex `model`\n",
    "# We want to add model complexity\n",
    " - Get a bigger dataset (we want to build bigger models\n",
    "# We want to make more complex feature inputs\n",
    "- Go beyond the __bag of words__ features "
   ]
  },
  {
   "cell_type": "code",
   "execution_count": null,
   "metadata": {},
   "outputs": [],
   "source": []
  },
  {
   "cell_type": "markdown",
   "metadata": {},
   "source": [
    "### Safe to restart here"
   ]
  },
  {
   "cell_type": "markdown",
   "metadata": {},
   "source": [
    "# Let's grab a bigger dataset!"
   ]
  },
  {
   "cell_type": "code",
   "execution_count": 37,
   "metadata": {},
   "outputs": [
    {
     "name": "stdout",
     "output_type": "stream",
     "text": [
      "Populating the interactive namespace from numpy and matplotlib\n"
     ]
    }
   ],
   "source": [
    "import numpy as np\n",
    "import pandas as pd\n",
    "%pylab inline\n",
    "\n",
    "import keras\n",
    "import keras.backend as K\n",
    "\n",
    "from sklearn.linear_model import LogisticRegression\n",
    "from sklearn.metrics import accuracy_score, f1_score"
   ]
  },
  {
   "cell_type": "markdown",
   "metadata": {},
   "source": [
    "# Stanford IMDB dataset\n",
    "### http://ai.stanford.edu/~amaas/data/sentiment/\n",
    "\n",
    "## Stats:\n",
    " - 50k movie reviews of popular movies\n",
    " - each one is labeled as `positive` or `negative`"
   ]
  },
  {
   "cell_type": "markdown",
   "metadata": {},
   "source": [
    "# A Negative Review:\n",
    "### As a history nut who is particularly interested in this particular historical event, I was very disappointed with the movie. Granted, the costumes and staging was quite authentic, but the Hollywood portrayal of this \"British Little Big Horn\" was truly boring.<br /><br />The amount of film footage dedicated to marching or parading troops has to have been unprecedented in film history. Eveytime I heard triumphant background music begin, I knew I had to prepare myself for another laborious scene of meaningless filler. Obviously, the producers had invested heavily into \"staging\" and were determined to get their money's worth.<br /><br />Despite the outstanding cast, their dialogue was, again, boring and their characters were never developed. Whenever Peter O'toole or Burt Lancaster finished a scene, I would cringe with disappointment. Their given lines were so weak and meaningless that I could hardly believe these were the same two great actors who portrayed Lawrence of Arabia and the Bird Man of Alcatraz respectively.<br /><br />There are worse epics, but this one is not much better\n",
    "\n",
    "$ \\\\ $\n",
    "$ \\\\ $\n",
    "$ \\\\ $\n",
    "# A Positive Review:\n",
    "### An American in Paris is a wonderful musical about an American painter living in Paris for inspiration. He meets a rich woman who admires his paintings on the street and she believes she can get his work to be even more popular to the public, e.g. in a museum. Golden Globe nominated Gene Kelly as the artist Jerry Mulligan is just perfect at both singing and especially dancing. He also meets the main girl Lise Bouvier (Leslie Caron) who is engaged to his best friend. He can't help his feelings for this girl, even after he finds out who she is engaged to. Filled with nice romance and wonderful song and dance, this is a very good musical film. It may drag slightly with his dancing dream sequence, i.e. The American in Paris ballet, but there is a good happy ending. It won the Oscars for Best Art Direction-Set Decoration, Best Cinematography, Best Costume Design, Best Music, Scoring of a Musical Picture, Best Writing, Story and Screenplay and Best Picture, and it was nominated for Best Director for Vincente Minnelli and Best Film Editing, it was nominated the BAFTA for Best Film from any Source, and it won the Golden Globe for Best Motion Picture - Musical/Comedy, and it was nominated for Best Director for Vincente Millenni (Liza's father). Gene Kelly was number 66 on The 100 Movie Stars, and he was number 15 on 100 Years, 100 Stars - Men, \"I Got Rhythm\" was number 32 on 100 Years, 100 Songs, the film was number 9 on 100 Years of Musicals, it was number 39 on 100 Years, 100 Passions, it was number 68 on 100 Years, 100 Movies, and it was number 58 on The 100 Greatest Musicals. Very good!"
   ]
  },
  {
   "cell_type": "code",
   "execution_count": null,
   "metadata": {},
   "outputs": [],
   "source": []
  },
  {
   "cell_type": "markdown",
   "metadata": {},
   "source": [
    "# Why is it so hard? "
   ]
  },
  {
   "cell_type": "markdown",
   "metadata": {},
   "source": [
    "# A Negative Review:\n",
    "### As a history nut who is particularly interested in this particular historical event, I was very disappointed with the movie. Granted, the costumes and staging was quite authentic, but the Hollywood portrayal of this \"British Little Big Horn\" was truly boring.<br /><br />The amount of film footage dedicated to marching or parading troops has to have been unprecedented in film history. Eveytime I heard triumphant background music begin, I knew I had to prepare myself for another laborious scene of meaningless filler. Obviously, the producers had invested heavily into \"staging\" and were determined to get their money's worth.<br /><br />`**Despite the outstanding cast**`, their dialogue was, again, boring and their characters were never developed. Whenever Peter O'toole or Burt Lancaster finished a scene, I would cringe with disappointment. Their given lines were so weak and meaningless that I could hardly believe these were the same `**two great actors**` who portrayed Lawrence of Arabia and the Bird Man of Alcatraz respectively.<br /><br />There are worse epics, but this one is not much better\n",
    "\n",
    "$ \\\\ $\n",
    "$ \\\\ $\n",
    "$ \\\\ $\n",
    "# A Positive Review:\n",
    "### An American in Paris is a wonderful musical about an American painter living in Paris for inspiration. He meets a rich woman who admires his paintings on the street and she believes she can get his work to be even more popular to the public, e.g. in a museum. Golden Globe nominated Gene Kelly as the artist Jerry Mulligan is just perfect at both singing and especially dancing. He also meets the main girl Lise Bouvier (Leslie Caron) who is engaged to his best friend. He can't help his feelings for this girl, even after he finds out who she is engaged to. Filled with nice romance and wonderful song and dance, this is a very good musical film. `**It may drag**` slightly with his dancing dream sequence, i.e. The American in Paris ballet, but there is a good happy ending. It won the Oscar for Best Art Direction-Set Decoration, Best Cinematography, Best Costume Design, Best Music, Scoring of a Musical Picture, Best Writing, Story and Screenplay and Best Picture, and it was nominated for Best Director for Vincente Minnelli and Best Film Editing, it was nominated the BAFTA for Best Film from any Source, and it won the Golden Globe for Best Motion Picture - Musical/Comedy, and it was nominated for Best Director for Vincente Millenni (Liza's father). Gene Kelly was number 66 on The 100 Movie Stars, and he was number 15 on 100 Years, 100 Stars - Men, \"I Got Rhythm\" was number 32 on 100 Years, 100 Songs, the film was number 9 on 100 Years of Musicals, it was number 39 on 100 Years, 100 Passions, it was number 68 on 100 Years, 100 Movies, and it was number 58 on The 100 Greatest Musicals. Very good!"
   ]
  },
  {
   "cell_type": "code",
   "execution_count": null,
   "metadata": {},
   "outputs": [],
   "source": []
  },
  {
   "cell_type": "markdown",
   "metadata": {},
   "source": [
    "$ \\\\ $\n",
    "$ \\\\ $\n",
    "$ \\\\ $\n",
    "\n",
    "# Why do I care about sentiment analysis? \n",
    "\n",
    "### Maybe you do: I want to trade the next xbox release:\n",
    " - How do I figure out what people on reddit think about the xbox? \n",
    "\n",
    "$ \\\\ $\n",
    "### Maybe you don't... it is often a proxy for something else that is measurable\n",
    " - e.g. stock price"
   ]
  },
  {
   "cell_type": "code",
   "execution_count": null,
   "metadata": {},
   "outputs": [],
   "source": []
  },
  {
   "cell_type": "markdown",
   "metadata": {},
   "source": [
    "## IMDB data in keras\n",
    "### Keras will make this easy\n",
    " - It will give us the text as numbers"
   ]
  },
  {
   "cell_type": "code",
   "execution_count": 3,
   "metadata": {},
   "outputs": [
    {
     "name": "stderr",
     "output_type": "stream",
     "text": [
      "Using TensorFlow backend.\n"
     ]
    },
    {
     "data": {
      "text/plain": [
       "\u001b[0;31mSignature:\u001b[0m \u001b[0mimdb\u001b[0m\u001b[0;34m.\u001b[0m\u001b[0mload_data\u001b[0m\u001b[0;34m(\u001b[0m\u001b[0mpath\u001b[0m\u001b[0;34m=\u001b[0m\u001b[0;34m'imdb.npz'\u001b[0m\u001b[0;34m,\u001b[0m \u001b[0mnum_words\u001b[0m\u001b[0;34m=\u001b[0m\u001b[0;32mNone\u001b[0m\u001b[0;34m,\u001b[0m \u001b[0mskip_top\u001b[0m\u001b[0;34m=\u001b[0m\u001b[0;36m0\u001b[0m\u001b[0;34m,\u001b[0m \u001b[0mmaxlen\u001b[0m\u001b[0;34m=\u001b[0m\u001b[0;32mNone\u001b[0m\u001b[0;34m,\u001b[0m \u001b[0mseed\u001b[0m\u001b[0;34m=\u001b[0m\u001b[0;36m113\u001b[0m\u001b[0;34m,\u001b[0m \u001b[0mstart_char\u001b[0m\u001b[0;34m=\u001b[0m\u001b[0;36m1\u001b[0m\u001b[0;34m,\u001b[0m \u001b[0moov_char\u001b[0m\u001b[0;34m=\u001b[0m\u001b[0;36m2\u001b[0m\u001b[0;34m,\u001b[0m \u001b[0mindex_from\u001b[0m\u001b[0;34m=\u001b[0m\u001b[0;36m3\u001b[0m\u001b[0;34m,\u001b[0m \u001b[0;34m**\u001b[0m\u001b[0mkwargs\u001b[0m\u001b[0;34m)\u001b[0m\u001b[0;34m\u001b[0m\u001b[0;34m\u001b[0m\u001b[0m\n",
       "\u001b[0;31mDocstring:\u001b[0m\n",
       "Loads the IMDB dataset.\n",
       "\n",
       "# Arguments\n",
       "    path: where to cache the data (relative to `~/.keras/dataset`).\n",
       "    num_words: max number of words to include. Words are ranked\n",
       "        by how often they occur (in the training set) and only\n",
       "        the most frequent words are kept\n",
       "    skip_top: skip the top N most frequently occurring words\n",
       "        (which may not be informative).\n",
       "    maxlen: sequences longer than this will be filtered out.\n",
       "    seed: random seed for sample shuffling.\n",
       "    start_char: The start of a sequence will be marked with this character.\n",
       "        Set to 1 because 0 is usually the padding character.\n",
       "    oov_char: words that were cut out because of the `num_words`\n",
       "        or `skip_top` limit will be replaced with this character.\n",
       "    index_from: index actual words with this index and higher.\n",
       "\n",
       "# Returns\n",
       "    Tuple of Numpy arrays: `(x_train, y_train), (x_test, y_test)`.\n",
       "\n",
       "# Raises\n",
       "    ValueError: in case `maxlen` is so low\n",
       "        that no input sequence could be kept.\n",
       "\n",
       "Note that the 'out of vocabulary' character is only used for\n",
       "words that were present in the training set but are not included\n",
       "because they're not making the `num_words` cut here.\n",
       "Words that were not seen in the training set but are in the test set\n",
       "have simply been skipped.\n",
       "\u001b[0;31mFile:\u001b[0m      ~/anaconda3/envs/MIT/lib/python3.6/site-packages/keras/datasets/imdb.py\n",
       "\u001b[0;31mType:\u001b[0m      function\n"
      ]
     },
     "metadata": {},
     "output_type": "display_data"
    }
   ],
   "source": [
    "from keras.datasets import imdb\n",
    "imdb.load_data?"
   ]
  },
  {
   "cell_type": "code",
   "execution_count": null,
   "metadata": {},
   "outputs": [],
   "source": [
    "\n"
   ]
  },
  {
   "cell_type": "markdown",
   "metadata": {},
   "source": [
    "# NOTE:\n",
    "## This will return INTEGER SEQUENCES\n",
    "## We will truncate our vocabulary for convenience\n",
    " - only use the most common ~10000 words"
   ]
  },
  {
   "cell_type": "code",
   "execution_count": null,
   "metadata": {},
   "outputs": [],
   "source": []
  },
  {
   "cell_type": "markdown",
   "metadata": {},
   "source": [
    "## We restrict ourselves to the 10000 most-common words"
   ]
  },
  {
   "cell_type": "code",
   "execution_count": 4,
   "metadata": {},
   "outputs": [
    {
     "data": {
      "text/plain": [
       "((25000,), (25000,), (25000,), (25000,))"
      ]
     },
     "execution_count": 4,
     "metadata": {},
     "output_type": "execute_result"
    }
   ],
   "source": [
    "MAX_WORDS = 10000\n",
    "(x_train, y_train), (x_test, y_test) = imdb.load_data(num_words=MAX_WORDS)\n",
    "\n",
    "x_train.shape, y_train.shape, x_test.shape, y_test.shape"
   ]
  },
  {
   "cell_type": "code",
   "execution_count": 50,
   "metadata": {},
   "outputs": [
    {
     "data": {
      "text/plain": [
       "[1, 14, 47, 8, 30, 31, 7, 4, 249, 108]"
      ]
     },
     "execution_count": 50,
     "metadata": {},
     "output_type": "execute_result"
    }
   ],
   "source": [
    "x_train[2][:10]"
   ]
  },
  {
   "cell_type": "code",
   "execution_count": 55,
   "metadata": {},
   "outputs": [
    {
     "data": {
      "text/plain": [
       "1.0"
      ]
     },
     "execution_count": 55,
     "metadata": {},
     "output_type": "execute_result"
    }
   ],
   "source": [
    "max(word for sent in x_train for word in sent)\n",
    "# reason why it is 9999: we defined that the maximum number of words in 1 document can only be 10000"
   ]
  },
  {
   "cell_type": "code",
   "execution_count": 51,
   "metadata": {},
   "outputs": [
    {
     "data": {
      "text/plain": [
       "array([1, 0, 0, 1, 0, 0, 1, 0])"
      ]
     },
     "execution_count": 51,
     "metadata": {},
     "output_type": "execute_result"
    }
   ],
   "source": [
    "y_train[0:8]"
   ]
  },
  {
   "cell_type": "code",
   "execution_count": 8,
   "metadata": {},
   "outputs": [
    {
     "data": {
      "text/plain": [
       "\u001b[0;31mSignature:\u001b[0m \u001b[0mtok\u001b[0m\u001b[0;34m.\u001b[0m\u001b[0msequences_to_matrix\u001b[0m\u001b[0;34m(\u001b[0m\u001b[0msequences\u001b[0m\u001b[0;34m,\u001b[0m \u001b[0mmode\u001b[0m\u001b[0;34m=\u001b[0m\u001b[0;34m'binary'\u001b[0m\u001b[0;34m)\u001b[0m\u001b[0;34m\u001b[0m\u001b[0;34m\u001b[0m\u001b[0m\n",
       "\u001b[0;31mDocstring:\u001b[0m\n",
       "Converts a list of sequences into a Numpy matrix.\n",
       "\n",
       "# Arguments\n",
       "    sequences: list of sequences\n",
       "        (a sequence is a list of integer word indices).\n",
       "    mode: one of \"binary\", \"count\", \"tfidf\", \"freq\"\n",
       "\n",
       "# Returns\n",
       "    A Numpy matrix.\n",
       "\n",
       "# Raises\n",
       "    ValueError: In case of invalid `mode` argument,\n",
       "        or if the Tokenizer requires to be fit to sample data.\n",
       "\u001b[0;31mFile:\u001b[0m      ~/anaconda3/envs/MIT/lib/python3.6/site-packages/keras_preprocessing/text.py\n",
       "\u001b[0;31mType:\u001b[0m      method\n"
      ]
     },
     "metadata": {},
     "output_type": "display_data"
    }
   ],
   "source": [
    "from keras.preprocessing.text import Tokenizer\n",
    "tok = Tokenizer(num_words=MAX_WORDS)\n",
    "tok.sequences_to_matrix?"
   ]
  },
  {
   "cell_type": "code",
   "execution_count": 9,
   "metadata": {},
   "outputs": [],
   "source": [
    "def text_sequence_to_numpy_array(seqs, num_words=MAX_WORDS):\n",
    "    return Tokenizer(num_words=num_words).sequences_to_matrix(seqs, mode='binary')\n",
    "\n",
    "x_train = text_sequence_to_numpy_array(x_train)\n",
    "x_test = text_sequence_to_numpy_array(x_test)"
   ]
  },
  {
   "cell_type": "code",
   "execution_count": 56,
   "metadata": {},
   "outputs": [
    {
     "data": {
      "text/plain": [
       "(25000, 10000)"
      ]
     },
     "execution_count": 56,
     "metadata": {},
     "output_type": "execute_result"
    }
   ],
   "source": [
    "x_train.shape\n",
    "# 25000: number of documents\n",
    "# 10000: number of words --> this is the number that we defined above (MAX_WORDS)"
   ]
  },
  {
   "cell_type": "code",
   "execution_count": 9,
   "metadata": {},
   "outputs": [],
   "source": [
    "cut = int(0.8 * x_train.shape[0])\n",
    "x_train, x_val = x_train[:cut], x_train[cut:]\n",
    "y_train, y_val = y_train[:cut], y_train[cut:]"
   ]
  },
  {
   "cell_type": "code",
   "execution_count": 10,
   "metadata": {},
   "outputs": [
    {
     "data": {
      "text/plain": [
       "((20000, 10000), (20000,))"
      ]
     },
     "execution_count": 10,
     "metadata": {},
     "output_type": "execute_result"
    }
   ],
   "source": [
    "x_train.shape, y_train.shape"
   ]
  },
  {
   "cell_type": "markdown",
   "metadata": {},
   "source": [
    "## This is a pretty balanced problem"
   ]
  },
  {
   "cell_type": "code",
   "execution_count": 11,
   "metadata": {},
   "outputs": [
    {
     "data": {
      "text/plain": [
       "0.50155"
      ]
     },
     "execution_count": 11,
     "metadata": {},
     "output_type": "execute_result"
    }
   ],
   "source": [
    "y_train.mean()"
   ]
  },
  {
   "cell_type": "code",
   "execution_count": null,
   "metadata": {},
   "outputs": [],
   "source": []
  },
  {
   "cell_type": "markdown",
   "metadata": {},
   "source": [
    "# Start with a baseline of Logistic Regression"
   ]
  },
  {
   "cell_type": "code",
   "execution_count": 57,
   "metadata": {},
   "outputs": [
    {
     "name": "stderr",
     "output_type": "stream",
     "text": [
      "/Users/hermannviktor/anaconda3/envs/MIT/lib/python3.6/site-packages/sklearn/linear_model/logistic.py:432: FutureWarning: Default solver will be changed to 'lbfgs' in 0.22. Specify a solver to silence this warning.\n",
      "  FutureWarning)\n"
     ]
    },
    {
     "data": {
      "text/plain": [
       "0.86204"
      ]
     },
     "execution_count": 57,
     "metadata": {},
     "output_type": "execute_result"
    }
   ],
   "source": [
    "lr = LogisticRegression()\n",
    "lr.fit(x_train, y_train)\n",
    "accuracy_score(y_test, lr.predict(x_test))"
   ]
  },
  {
   "cell_type": "code",
   "execution_count": 58,
   "metadata": {},
   "outputs": [],
   "source": [
    "from keras.models import Model, Input\n",
    "from keras.layers import Dense, Softmax, Dropout\n",
    "from keras.optimizers import RMSprop\n",
    "import keras.backend as K\n",
    "\n",
    "K.clear_session()\n",
    "word_input = Input(shape=(MAX_WORDS,))\n",
    "hidden_state = Dense(512, activation='relu')(word_input)\n",
    "hidden_state = Dropout(0.5)(hidden_state)\n",
    "hidden_state = Dense(128, activation='relu')(hidden_state)\n",
    "hidden_state = Dropout(0.5)(hidden_state)\n",
    "hidden_state = Dense(64, activation='relu')(hidden_state)\n",
    "hidden_state = Dropout(0.5)(hidden_state)\n",
    "output = Dense(1, activation='sigmoid')(hidden_state)\n",
    "model = Model(word_input, output)\n",
    "\n",
    "model.compile(optimizer='rmsprop', \n",
    "              loss='binary_crossentropy', \n",
    "              metrics=['accuracy'])\n"
   ]
  },
  {
   "cell_type": "code",
   "execution_count": 60,
   "metadata": {},
   "outputs": [
    {
     "ename": "ImportError",
     "evalue": "Failed to import `pydot`. Please install `pydot`. For example with `pip install pydot`.",
     "output_type": "error",
     "traceback": [
      "\u001b[0;31m---------------------------------------------------------------------------\u001b[0m",
      "\u001b[0;31mImportError\u001b[0m                               Traceback (most recent call last)",
      "\u001b[0;32m<ipython-input-60-e44577cd029c>\u001b[0m in \u001b[0;36m<module>\u001b[0;34m\u001b[0m\n\u001b[1;32m      5\u001b[0m     \u001b[0;32mreturn\u001b[0m \u001b[0mSVG\u001b[0m\u001b[0;34m(\u001b[0m\u001b[0mmodel_to_dot\u001b[0m\u001b[0;34m(\u001b[0m\u001b[0mmodel\u001b[0m\u001b[0;34m,\u001b[0m \u001b[0mshow_shapes\u001b[0m\u001b[0;34m=\u001b[0m\u001b[0;32mTrue\u001b[0m\u001b[0;34m)\u001b[0m\u001b[0;34m.\u001b[0m\u001b[0mcreate\u001b[0m\u001b[0;34m(\u001b[0m\u001b[0mprog\u001b[0m\u001b[0;34m=\u001b[0m\u001b[0;34m'dot'\u001b[0m\u001b[0;34m,\u001b[0m \u001b[0mformat\u001b[0m\u001b[0;34m=\u001b[0m\u001b[0;34m'svg'\u001b[0m\u001b[0;34m)\u001b[0m\u001b[0;34m)\u001b[0m\u001b[0;34m\u001b[0m\u001b[0;34m\u001b[0m\u001b[0m\n\u001b[1;32m      6\u001b[0m \u001b[0;34m\u001b[0m\u001b[0m\n\u001b[0;32m----> 7\u001b[0;31m \u001b[0mplot_model_in_notebook\u001b[0m\u001b[0;34m(\u001b[0m\u001b[0mmodel\u001b[0m\u001b[0;34m)\u001b[0m\u001b[0;34m\u001b[0m\u001b[0;34m\u001b[0m\u001b[0m\n\u001b[0m",
      "\u001b[0;32m<ipython-input-60-e44577cd029c>\u001b[0m in \u001b[0;36mplot_model_in_notebook\u001b[0;34m(model)\u001b[0m\n\u001b[1;32m      3\u001b[0m \u001b[0;34m\u001b[0m\u001b[0m\n\u001b[1;32m      4\u001b[0m \u001b[0;32mdef\u001b[0m \u001b[0mplot_model_in_notebook\u001b[0m\u001b[0;34m(\u001b[0m\u001b[0mmodel\u001b[0m\u001b[0;34m)\u001b[0m\u001b[0;34m:\u001b[0m\u001b[0;34m\u001b[0m\u001b[0;34m\u001b[0m\u001b[0m\n\u001b[0;32m----> 5\u001b[0;31m     \u001b[0;32mreturn\u001b[0m \u001b[0mSVG\u001b[0m\u001b[0;34m(\u001b[0m\u001b[0mmodel_to_dot\u001b[0m\u001b[0;34m(\u001b[0m\u001b[0mmodel\u001b[0m\u001b[0;34m,\u001b[0m \u001b[0mshow_shapes\u001b[0m\u001b[0;34m=\u001b[0m\u001b[0;32mTrue\u001b[0m\u001b[0;34m)\u001b[0m\u001b[0;34m.\u001b[0m\u001b[0mcreate\u001b[0m\u001b[0;34m(\u001b[0m\u001b[0mprog\u001b[0m\u001b[0;34m=\u001b[0m\u001b[0;34m'dot'\u001b[0m\u001b[0;34m,\u001b[0m \u001b[0mformat\u001b[0m\u001b[0;34m=\u001b[0m\u001b[0;34m'svg'\u001b[0m\u001b[0;34m)\u001b[0m\u001b[0;34m)\u001b[0m\u001b[0;34m\u001b[0m\u001b[0;34m\u001b[0m\u001b[0m\n\u001b[0m\u001b[1;32m      6\u001b[0m \u001b[0;34m\u001b[0m\u001b[0m\n\u001b[1;32m      7\u001b[0m \u001b[0mplot_model_in_notebook\u001b[0m\u001b[0;34m(\u001b[0m\u001b[0mmodel\u001b[0m\u001b[0;34m)\u001b[0m\u001b[0;34m\u001b[0m\u001b[0;34m\u001b[0m\u001b[0m\n",
      "\u001b[0;32m~/anaconda3/envs/MIT/lib/python3.6/site-packages/keras/utils/vis_utils.py\u001b[0m in \u001b[0;36mmodel_to_dot\u001b[0;34m(model, show_shapes, show_layer_names, rankdir)\u001b[0m\n\u001b[1;32m     53\u001b[0m     \u001b[0;32mfrom\u001b[0m \u001b[0;34m.\u001b[0m\u001b[0;34m.\u001b[0m\u001b[0mmodels\u001b[0m \u001b[0;32mimport\u001b[0m \u001b[0mSequential\u001b[0m\u001b[0;34m\u001b[0m\u001b[0;34m\u001b[0m\u001b[0m\n\u001b[1;32m     54\u001b[0m \u001b[0;34m\u001b[0m\u001b[0m\n\u001b[0;32m---> 55\u001b[0;31m     \u001b[0m_check_pydot\u001b[0m\u001b[0;34m(\u001b[0m\u001b[0;34m)\u001b[0m\u001b[0;34m\u001b[0m\u001b[0;34m\u001b[0m\u001b[0m\n\u001b[0m\u001b[1;32m     56\u001b[0m     \u001b[0mdot\u001b[0m \u001b[0;34m=\u001b[0m \u001b[0mpydot\u001b[0m\u001b[0;34m.\u001b[0m\u001b[0mDot\u001b[0m\u001b[0;34m(\u001b[0m\u001b[0;34m)\u001b[0m\u001b[0;34m\u001b[0m\u001b[0;34m\u001b[0m\u001b[0m\n\u001b[1;32m     57\u001b[0m     \u001b[0mdot\u001b[0m\u001b[0;34m.\u001b[0m\u001b[0mset\u001b[0m\u001b[0;34m(\u001b[0m\u001b[0;34m'rankdir'\u001b[0m\u001b[0;34m,\u001b[0m \u001b[0mrankdir\u001b[0m\u001b[0;34m)\u001b[0m\u001b[0;34m\u001b[0m\u001b[0;34m\u001b[0m\u001b[0m\n",
      "\u001b[0;32m~/anaconda3/envs/MIT/lib/python3.6/site-packages/keras/utils/vis_utils.py\u001b[0m in \u001b[0;36m_check_pydot\u001b[0;34m()\u001b[0m\n\u001b[1;32m     18\u001b[0m     \u001b[0;32mif\u001b[0m \u001b[0mpydot\u001b[0m \u001b[0;32mis\u001b[0m \u001b[0;32mNone\u001b[0m\u001b[0;34m:\u001b[0m\u001b[0;34m\u001b[0m\u001b[0;34m\u001b[0m\u001b[0m\n\u001b[1;32m     19\u001b[0m         raise ImportError(\n\u001b[0;32m---> 20\u001b[0;31m             \u001b[0;34m'Failed to import `pydot`. '\u001b[0m\u001b[0;34m\u001b[0m\u001b[0;34m\u001b[0m\u001b[0m\n\u001b[0m\u001b[1;32m     21\u001b[0m             \u001b[0;34m'Please install `pydot`. '\u001b[0m\u001b[0;34m\u001b[0m\u001b[0;34m\u001b[0m\u001b[0m\n\u001b[1;32m     22\u001b[0m             'For example with `pip install pydot`.')\n",
      "\u001b[0;31mImportError\u001b[0m: Failed to import `pydot`. Please install `pydot`. For example with `pip install pydot`."
     ]
    }
   ],
   "source": [
    "from IPython.display import SVG\n",
    "from keras.utils.vis_utils import model_to_dot\n",
    "\n",
    "def plot_model_in_notebook(model):\n",
    "    return SVG(model_to_dot(model, show_shapes=True).create(prog='dot', format='svg'))\n",
    "\n",
    "plot_model_in_notebook(model)"
   ]
  },
  {
   "cell_type": "code",
   "execution_count": 61,
   "metadata": {},
   "outputs": [
    {
     "data": {
      "text/plain": [
       "5194497"
      ]
     },
     "execution_count": 61,
     "metadata": {},
     "output_type": "execute_result"
    }
   ],
   "source": [
    "model.count_params()"
   ]
  },
  {
   "cell_type": "code",
   "execution_count": 16,
   "metadata": {},
   "outputs": [
    {
     "name": "stdout",
     "output_type": "stream",
     "text": [
      "Train on 20000 samples, validate on 5000 samples\n",
      "Epoch 1/5\n",
      "20000/20000 [==============================] - 19s 967us/step - loss: 0.4265 - acc: 0.8067 - val_loss: 0.2731 - val_acc: 0.8904\n",
      "Epoch 2/5\n",
      "20000/20000 [==============================] - 18s 910us/step - loss: 0.2484 - acc: 0.9079 - val_loss: 0.3006 - val_acc: 0.8890\n",
      "Epoch 3/5\n",
      "20000/20000 [==============================] - 20s 983us/step - loss: 0.1913 - acc: 0.9323 - val_loss: 0.3117 - val_acc: 0.8938\n",
      "Epoch 4/5\n",
      "20000/20000 [==============================] - 19s 956us/step - loss: 0.1482 - acc: 0.9500 - val_loss: 0.4131 - val_acc: 0.8896\n",
      "Epoch 5/5\n",
      "20000/20000 [==============================] - 19s 949us/step - loss: 0.1066 - acc: 0.9677 - val_loss: 0.4730 - val_acc: 0.8848\n"
     ]
    },
    {
     "data": {
      "text/plain": [
       "<keras.callbacks.History at 0x7f1bdc120cf8>"
      ]
     },
     "execution_count": 16,
     "metadata": {},
     "output_type": "execute_result"
    }
   ],
   "source": [
    "model.fit(x_train, y_train, \n",
    "          validation_data=(x_val, y_val), \n",
    "          epochs=5, \n",
    "          shuffle=True, \n",
    "          batch_size=128\n",
    "         )"
   ]
  },
  {
   "cell_type": "code",
   "execution_count": 17,
   "metadata": {},
   "outputs": [
    {
     "data": {
      "text/plain": [
       "Text(0.5, 0, 'epoch')"
      ]
     },
     "execution_count": 17,
     "metadata": {},
     "output_type": "execute_result"
    },
    {
     "data": {
      "image/png": "[encoded data removed]",
      "text/plain": [
       "<Figure size 1152x648 with 1 Axes>"
      ]
     },
     "metadata": {
      "needs_background": "light"
     },
     "output_type": "display_data"
    }
   ],
   "source": [
    "pd.DataFrame(\n",
    "    model.history.history\n",
    ")[['acc', 'val_acc']].plot(\n",
    "    figsize=(16,9), \n",
    "    fontsize=16, \n",
    "    style='o', \n",
    "    markersize=16\n",
    ")\n",
    "plt.legend(fontsize=16)\n",
    "plt.xlabel('epoch', fontsize=16)"
   ]
  },
  {
   "cell_type": "code",
   "execution_count": 18,
   "metadata": {},
   "outputs": [
    {
     "data": {
      "text/plain": [
       "0.86968"
      ]
     },
     "execution_count": 18,
     "metadata": {},
     "output_type": "execute_result"
    }
   ],
   "source": [
    "accuracy_score(y_test, (model.predict(x_test)>0.5).astype(float))"
   ]
  },
  {
   "cell_type": "markdown",
   "metadata": {},
   "source": [
    "# Question:\n",
    "## Why is test-accuracy worse than val?\n",
    "## The network has \"seen\" neither"
   ]
  },
  {
   "cell_type": "code",
   "execution_count": null,
   "metadata": {},
   "outputs": [],
   "source": []
  },
  {
   "cell_type": "markdown",
   "metadata": {},
   "source": [
    "# Now we have a bigger dataset- we can fit bigger models"
   ]
  },
  {
   "cell_type": "code",
   "execution_count": null,
   "metadata": {},
   "outputs": [],
   "source": []
  },
  {
   "cell_type": "markdown",
   "metadata": {},
   "source": [
    "# Bag of Words is very popular, but it has its limits\n",
    "# Go to slides"
   ]
  },
  {
   "cell_type": "code",
   "execution_count": null,
   "metadata": {},
   "outputs": [],
   "source": []
  },
  {
   "cell_type": "code",
   "execution_count": null,
   "metadata": {},
   "outputs": [],
   "source": []
  },
  {
   "cell_type": "markdown",
   "metadata": {},
   "source": [
    "# PART III: BEYOND THE BAG OF WORDS:"
   ]
  },
  {
   "cell_type": "markdown",
   "metadata": {},
   "source": [
    "# We can try to remedy some of these problems!"
   ]
  },
  {
   "cell_type": "code",
   "execution_count": null,
   "metadata": {},
   "outputs": [],
   "source": []
  },
  {
   "cell_type": "markdown",
   "metadata": {},
   "source": [
    "## Remember our old, complex ANN model?"
   ]
  },
  {
   "cell_type": "code",
   "execution_count": 62,
   "metadata": {},
   "outputs": [
    {
     "ename": "ImportError",
     "evalue": "Failed to import `pydot`. Please install `pydot`. For example with `pip install pydot`.",
     "output_type": "error",
     "traceback": [
      "\u001b[0;31m---------------------------------------------------------------------------\u001b[0m",
      "\u001b[0;31mImportError\u001b[0m                               Traceback (most recent call last)",
      "\u001b[0;32m<ipython-input-62-08b3a9dc5b30>\u001b[0m in \u001b[0;36m<module>\u001b[0;34m\u001b[0m\n\u001b[1;32m     16\u001b[0m \u001b[0;34m\u001b[0m\u001b[0m\n\u001b[1;32m     17\u001b[0m \u001b[0;34m\u001b[0m\u001b[0m\n\u001b[0;32m---> 18\u001b[0;31m \u001b[0mplot_model_in_notebook\u001b[0m\u001b[0;34m(\u001b[0m\u001b[0mmodel\u001b[0m\u001b[0;34m)\u001b[0m\u001b[0;34m\u001b[0m\u001b[0;34m\u001b[0m\u001b[0m\n\u001b[0m",
      "\u001b[0;32m<ipython-input-60-e44577cd029c>\u001b[0m in \u001b[0;36mplot_model_in_notebook\u001b[0;34m(model)\u001b[0m\n\u001b[1;32m      3\u001b[0m \u001b[0;34m\u001b[0m\u001b[0m\n\u001b[1;32m      4\u001b[0m \u001b[0;32mdef\u001b[0m \u001b[0mplot_model_in_notebook\u001b[0m\u001b[0;34m(\u001b[0m\u001b[0mmodel\u001b[0m\u001b[0;34m)\u001b[0m\u001b[0;34m:\u001b[0m\u001b[0;34m\u001b[0m\u001b[0;34m\u001b[0m\u001b[0m\n\u001b[0;32m----> 5\u001b[0;31m     \u001b[0;32mreturn\u001b[0m \u001b[0mSVG\u001b[0m\u001b[0;34m(\u001b[0m\u001b[0mmodel_to_dot\u001b[0m\u001b[0;34m(\u001b[0m\u001b[0mmodel\u001b[0m\u001b[0;34m,\u001b[0m \u001b[0mshow_shapes\u001b[0m\u001b[0;34m=\u001b[0m\u001b[0;32mTrue\u001b[0m\u001b[0;34m)\u001b[0m\u001b[0;34m.\u001b[0m\u001b[0mcreate\u001b[0m\u001b[0;34m(\u001b[0m\u001b[0mprog\u001b[0m\u001b[0;34m=\u001b[0m\u001b[0;34m'dot'\u001b[0m\u001b[0;34m,\u001b[0m \u001b[0mformat\u001b[0m\u001b[0;34m=\u001b[0m\u001b[0;34m'svg'\u001b[0m\u001b[0;34m)\u001b[0m\u001b[0;34m)\u001b[0m\u001b[0;34m\u001b[0m\u001b[0;34m\u001b[0m\u001b[0m\n\u001b[0m\u001b[1;32m      6\u001b[0m \u001b[0;34m\u001b[0m\u001b[0m\n\u001b[1;32m      7\u001b[0m \u001b[0mplot_model_in_notebook\u001b[0m\u001b[0;34m(\u001b[0m\u001b[0mmodel\u001b[0m\u001b[0;34m)\u001b[0m\u001b[0;34m\u001b[0m\u001b[0;34m\u001b[0m\u001b[0m\n",
      "\u001b[0;32m~/anaconda3/envs/MIT/lib/python3.6/site-packages/keras/utils/vis_utils.py\u001b[0m in \u001b[0;36mmodel_to_dot\u001b[0;34m(model, show_shapes, show_layer_names, rankdir)\u001b[0m\n\u001b[1;32m     53\u001b[0m     \u001b[0;32mfrom\u001b[0m \u001b[0;34m.\u001b[0m\u001b[0;34m.\u001b[0m\u001b[0mmodels\u001b[0m \u001b[0;32mimport\u001b[0m \u001b[0mSequential\u001b[0m\u001b[0;34m\u001b[0m\u001b[0;34m\u001b[0m\u001b[0m\n\u001b[1;32m     54\u001b[0m \u001b[0;34m\u001b[0m\u001b[0m\n\u001b[0;32m---> 55\u001b[0;31m     \u001b[0m_check_pydot\u001b[0m\u001b[0;34m(\u001b[0m\u001b[0;34m)\u001b[0m\u001b[0;34m\u001b[0m\u001b[0;34m\u001b[0m\u001b[0m\n\u001b[0m\u001b[1;32m     56\u001b[0m     \u001b[0mdot\u001b[0m \u001b[0;34m=\u001b[0m \u001b[0mpydot\u001b[0m\u001b[0;34m.\u001b[0m\u001b[0mDot\u001b[0m\u001b[0;34m(\u001b[0m\u001b[0;34m)\u001b[0m\u001b[0;34m\u001b[0m\u001b[0;34m\u001b[0m\u001b[0m\n\u001b[1;32m     57\u001b[0m     \u001b[0mdot\u001b[0m\u001b[0;34m.\u001b[0m\u001b[0mset\u001b[0m\u001b[0;34m(\u001b[0m\u001b[0;34m'rankdir'\u001b[0m\u001b[0;34m,\u001b[0m \u001b[0mrankdir\u001b[0m\u001b[0;34m)\u001b[0m\u001b[0;34m\u001b[0m\u001b[0;34m\u001b[0m\u001b[0m\n",
      "\u001b[0;32m~/anaconda3/envs/MIT/lib/python3.6/site-packages/keras/utils/vis_utils.py\u001b[0m in \u001b[0;36m_check_pydot\u001b[0;34m()\u001b[0m\n\u001b[1;32m     18\u001b[0m     \u001b[0;32mif\u001b[0m \u001b[0mpydot\u001b[0m \u001b[0;32mis\u001b[0m \u001b[0;32mNone\u001b[0m\u001b[0;34m:\u001b[0m\u001b[0;34m\u001b[0m\u001b[0;34m\u001b[0m\u001b[0m\n\u001b[1;32m     19\u001b[0m         raise ImportError(\n\u001b[0;32m---> 20\u001b[0;31m             \u001b[0;34m'Failed to import `pydot`. '\u001b[0m\u001b[0;34m\u001b[0m\u001b[0;34m\u001b[0m\u001b[0m\n\u001b[0m\u001b[1;32m     21\u001b[0m             \u001b[0;34m'Please install `pydot`. '\u001b[0m\u001b[0;34m\u001b[0m\u001b[0;34m\u001b[0m\u001b[0m\n\u001b[1;32m     22\u001b[0m             'For example with `pip install pydot`.')\n",
      "\u001b[0;31mImportError\u001b[0m: Failed to import `pydot`. Please install `pydot`. For example with `pip install pydot`."
     ]
    }
   ],
   "source": [
    "K.clear_session()\n",
    "\n",
    "word_input = Input(shape=(MAX_WORDS,))\n",
    "hidden_state = Dense(512, activation='relu')(word_input)\n",
    "hidden_state = Dropout(0.5)(hidden_state)\n",
    "hidden_state = Dense(128, activation='relu')(hidden_state)\n",
    "hidden_state = Dropout(0.5)(hidden_state)\n",
    "hidden_state = Dense(64, activation='relu')(hidden_state)\n",
    "hidden_state = Dropout(0.5)(hidden_state)\n",
    "output = Dense(1, activation='sigmoid')(hidden_state)\n",
    "model = Model(word_input, output)\n",
    "\n",
    "model.compile(optimizer='rmsprop', \n",
    "              loss='binary_crossentropy',\n",
    "              metrics=['accuracy'])\n",
    "\n",
    "\n",
    "plot_model_in_notebook(model)"
   ]
  },
  {
   "cell_type": "code",
   "execution_count": null,
   "metadata": {},
   "outputs": [],
   "source": []
  },
  {
   "cell_type": "markdown",
   "metadata": {},
   "source": [
    "# The first \"hidden state\" is a representation of words!\n",
    "## Each unit vector (a word) in the input space corresponds to a 512-dimensional vector in the first hidden layer\n",
    "## This representation is __LEARNED__ from the task at hand"
   ]
  },
  {
   "cell_type": "code",
   "execution_count": null,
   "metadata": {},
   "outputs": [],
   "source": []
  },
  {
   "cell_type": "markdown",
   "metadata": {},
   "source": [
    "# Keras makes this easy!"
   ]
  },
  {
   "cell_type": "code",
   "execution_count": null,
   "metadata": {},
   "outputs": [],
   "source": []
  },
  {
   "cell_type": "code",
   "execution_count": null,
   "metadata": {},
   "outputs": [],
   "source": []
  },
  {
   "cell_type": "markdown",
   "metadata": {},
   "source": [
    "# Word Embeddings:\n",
    "AKA word vectors\n",
    "## Represent words as vectors in a smaller, contiuous space.\n",
    "\n"
   ]
  },
  {
   "cell_type": "code",
   "execution_count": null,
   "metadata": {},
   "outputs": [],
   "source": []
  },
  {
   "cell_type": "markdown",
   "metadata": {},
   "source": [
    "## What does this get us?\n",
    "### Problem solved: Input space can be dense\n",
    "\n",
    "### Maybe we can impart more \"meaning\" into the word vectors\n",
    " - Goal: similar words will have similar representations\n",
    "\n",
    "### We can leverage other text to help\n",
    " - We can use word-vectors taken from elsewhere to help in our sentiment prediction problem!\n",
    "\n",
    "### Word Order\n",
    " - The above did not consider word order (we averaged over all the words)\n",
    " - We will see (next lecture) how word-vectors let us make models that respect word order"
   ]
  },
  {
   "cell_type": "code",
   "execution_count": null,
   "metadata": {},
   "outputs": [],
   "source": []
  },
  {
   "cell_type": "markdown",
   "metadata": {},
   "source": [
    "# Word2Vec (a type of embedding)\n",
    "## Hypothesis: words that appear in similar contexts have similar meanings"
   ]
  },
  {
   "cell_type": "markdown",
   "metadata": {},
   "source": [
    "# GO TO SLIDES"
   ]
  },
  {
   "cell_type": "code",
   "execution_count": null,
   "metadata": {},
   "outputs": [],
   "source": []
  },
  {
   "cell_type": "markdown",
   "metadata": {},
   "source": [
    "# Let's make an model with an embedding\n",
    "## Recipe:\n",
    "1. Load the data as usual integer sequences\n",
    "2. \"Pad\" the sequences so they are all the same length\n",
    " - longer sequences will be truncated\n",
    " - shorter sequences get a lot of `0`s appended to them\n",
    " - have not fear- keras makes this easy\n",
    " - Don't worry: `keras` makes this easy too\n",
    " \n",
    "$ \\\\ $ \n",
    "$ \\\\ $ \n",
    "## The network will try to learn the right embedding for the problem"
   ]
  },
  {
   "cell_type": "code",
   "execution_count": 63,
   "metadata": {},
   "outputs": [],
   "source": [
    "from keras.preprocessing.sequence import pad_sequences\n",
    "\n",
    "MAX_WORDS = 10000\n",
    "MAX_SEQ_LEN = 125\n"
   ]
  },
  {
   "cell_type": "code",
   "execution_count": 64,
   "metadata": {},
   "outputs": [
    {
     "data": {
      "text/plain": [
       "((25000,), (25000,), (25000,), (25000,))"
      ]
     },
     "execution_count": 64,
     "metadata": {},
     "output_type": "execute_result"
    }
   ],
   "source": [
    "(x_train, y_train), (x_test, y_test) = imdb.load_data(num_words=MAX_WORDS)\n",
    "x_train.shape, y_train.shape, x_test.shape, y_test.shape"
   ]
  },
  {
   "cell_type": "code",
   "execution_count": 66,
   "metadata": {},
   "outputs": [
    {
     "name": "stdout",
     "output_type": "stream",
     "text": [
      "(16000, 125) (25000, 125)\n"
     ]
    }
   ],
   "source": [
    "# \"Pad\" the sequences\n",
    "\n",
    "x_train = pad_sequences(\n",
    "    x_train, maxlen=MAX_SEQ_LEN, value=0.0)\n",
    "x_test = pad_sequences(\n",
    "    x_test, maxlen=MAX_SEQ_LEN, value=0.0)\n",
    "\n",
    "\n",
    "# split into train and val\n",
    "\n",
    "cut = int(0.8 * x_train.shape[0])\n",
    "x_train, x_val = x_train[:cut], x_train[cut:]\n",
    "y_train, y_val = y_train[:cut], y_train[cut:]\n",
    "\n",
    "print(x_train.shape, x_test.shape)\n",
    "\n",
    "# number of rows: how many documents there are\n",
    "# number of columns: how many neurons a specific words should be put together"
   ]
  },
  {
   "cell_type": "code",
   "execution_count": 22,
   "metadata": {},
   "outputs": [
    {
     "data": {
      "text/plain": [
       "array([ 130, 4901,   19,    4, 1002,    5,   89,   29,  952,   46,   37,\n",
       "          4,  455,    9,   45,   43,   38, 1543, 1905,  398,    4, 1649,\n",
       "         26, 6853,    5,  163,   11, 3215,    2,    4, 1153,    9,  194,\n",
       "        775,    7, 8255,    2,  349, 2637,  148,  605,    2, 8003,   15,\n",
       "        123,  125,   68,    2, 6853,   15,  349,  165, 4362,   98,    5,\n",
       "          4,  228,    9,   43,    2, 1157,   15,  299,  120,    5,  120,\n",
       "        174,   11,  220,  175,  136,   50,    9, 4373,  228, 8255,    5,\n",
       "          2,  656,  245, 2350,    5,    4, 9837,  131,  152,  491,   18,\n",
       "          2,   32, 7464, 1212,   14,    9,    6,  371,   78,   22,  625,\n",
       "         64, 1382,    9,    8,  168,  145,   23,    4, 1690,   15,   16,\n",
       "          4, 1355,    5,   28,    6,   52,  154,  462,   33,   89,   78,\n",
       "        285,   16,  145,   95], dtype=int32)"
      ]
     },
     "execution_count": 22,
     "metadata": {},
     "output_type": "execute_result"
    }
   ],
   "source": [
    "x_train[1]"
   ]
  },
  {
   "cell_type": "code",
   "execution_count": null,
   "metadata": {},
   "outputs": [],
   "source": []
  },
  {
   "cell_type": "code",
   "execution_count": null,
   "metadata": {},
   "outputs": [],
   "source": []
  },
  {
   "cell_type": "markdown",
   "metadata": {},
   "source": [
    "# What is the shape of our input going to be? \n",
    "## We have sequences of `MAX_SEQ_LEN` integers (max value of `MAX_WORDS`)\n",
    "$ \\\\ $ \n",
    "```\n",
    "x_train = pad_sequences(x_train, maxlen=MAX_SEQ_LEN)\n",
    "```\n",
    "$ \\\\ $ \n",
    "\n",
    "## EACH WORD gets \"embedded\" and becomes a $d_{embedding}$-dimensional, dense vector.\n",
    "$ \\\\ $ \n",
    "$ \\\\ $ \n",
    "```\n",
    "word_input = Input(shape=(MAX_SEQ_LEN,), dtype='int32')\n",
    "hidden_state = Embedding(MAX_WORDS, 128, input_length=MAX_SEQ_LEN)(word_input)\n",
    "```\n",
    "$ \\\\ $ \n",
    "$ \\\\ $ \n",
    "## Our inputs into our network will be shape  $d_{embedding}$ x $\\text{MAX_WORDS}$\n",
    "$ \\\\ $ \n",
    "$ \\\\ $ \n",
    "## This is not only a new shape, its a new size ($2$-d inputs)"
   ]
  },
  {
   "cell_type": "code",
   "execution_count": null,
   "metadata": {},
   "outputs": [],
   "source": []
  },
  {
   "cell_type": "code",
   "execution_count": null,
   "metadata": {},
   "outputs": [],
   "source": []
  },
  {
   "cell_type": "markdown",
   "metadata": {},
   "source": [
    "# Two options:\n",
    " - use `3-d` tensors to operate on our inputs (harder)\n",
    " - manipulate our input to be `1-d` (easier)\n",
    "\n",
    "$ \\\\ $\n",
    "$ \\\\ $\n",
    "\n",
    "# How to change vector shapes? \n",
    " - average across one dimension\n",
    " - \"unroll\" the dimensions\n",
    "\n",
    "$ \\\\ $ \n",
    "$ \\\\ $ \n",
    "# Question:\n",
    "## What did we do with the 2-D images in mnist?"
   ]
  },
  {
   "cell_type": "code",
   "execution_count": null,
   "metadata": {},
   "outputs": [],
   "source": []
  },
  {
   "cell_type": "code",
   "execution_count": 22,
   "metadata": {},
   "outputs": [
    {
     "data": {
      "text/plain": [
       "['I',\n",
       " 'went',\n",
       " 'to',\n",
       " 'the',\n",
       " 'store.',\n",
       " 'I',\n",
       " 'really',\n",
       " 'like',\n",
       " 'Keras.',\n",
       " 'Neural',\n",
       " 'networks',\n",
       " 'are',\n",
       " 'awesome.']"
      ]
     },
     "execution_count": 22,
     "metadata": {},
     "output_type": "execute_result"
    }
   ],
   "source": [
    "lol = [\n",
    "    ['I', 'went', 'to', 'the', 'store.'],\n",
    "    ['I', 'really', 'like', 'Keras.'],\n",
    "    ['Neural', 'networks', 'are', 'awesome.']\n",
    "]\n",
    "\n",
    "flattened_list = []\n",
    "for l in lol:\n",
    "    flattened_list = flattened_list + l\n",
    "    # could also be: flattened_list.extend(l)\n",
    "\n",
    "flattened_list"
   ]
  },
  {
   "cell_type": "code",
   "execution_count": null,
   "metadata": {},
   "outputs": [],
   "source": []
  },
  {
   "cell_type": "markdown",
   "metadata": {},
   "source": [
    "## Question: What are the pros and cons of the two approaches? "
   ]
  },
  {
   "cell_type": "code",
   "execution_count": null,
   "metadata": {},
   "outputs": [],
   "source": []
  },
  {
   "cell_type": "code",
   "execution_count": 68,
   "metadata": {},
   "outputs": [],
   "source": [
    "EMBEDDING_DIM = 100"
   ]
  },
  {
   "cell_type": "markdown",
   "metadata": {},
   "source": [
    "## Average together the embedding vectors over all the words\n",
    "### Do so right after the embedding\n",
    "$ \\\\ $\n",
    "## $\\text{MAX_SEQ_LEN}$ x $d_{embedding} \\rightarrow \\text{  } d_{embedding}$"
   ]
  },
  {
   "cell_type": "code",
   "execution_count": 69,
   "metadata": {},
   "outputs": [],
   "source": [
    "from keras.layers import Embedding, GlobalAveragePooling1D\n",
    "K.clear_session()\n",
    "\n",
    "word_input = Input(shape=(MAX_SEQ_LEN,), dtype='int32')\n",
    "hidden_state = Embedding(MAX_WORDS, \n",
    "                         EMBEDDING_DIM, \n",
    "                         input_length=MAX_SEQ_LEN)(word_input)\n",
    "hidden_state = Dropout(0.5)(hidden_state)\n",
    "hidden_state = GlobalAveragePooling1D()(hidden_state)\n",
    "hidden_state = Dropout(0.5)(hidden_state)\n",
    "hidden_state = Dense(256, activation='relu')(hidden_state)\n",
    "hidden_state = Dropout(0.5)(hidden_state)\n",
    "hidden_state = Dense(32, activation='relu')(hidden_state)\n",
    "hidden_state = Dropout(0.5)(hidden_state)\n",
    "output = Dense(1, activation='sigmoid')(hidden_state)\n",
    "model = Model(word_input, output)\n",
    "\n",
    "model.compile(optimizer='rmsprop', \n",
    "              loss='binary_crossentropy', \n",
    "              metrics=['accuracy'])\n"
   ]
  },
  {
   "cell_type": "code",
   "execution_count": null,
   "metadata": {},
   "outputs": [],
   "source": []
  },
  {
   "cell_type": "code",
   "execution_count": 70,
   "metadata": {},
   "outputs": [
    {
     "ename": "ImportError",
     "evalue": "Failed to import `pydot`. Please install `pydot`. For example with `pip install pydot`.",
     "output_type": "error",
     "traceback": [
      "\u001b[0;31m---------------------------------------------------------------------------\u001b[0m",
      "\u001b[0;31mImportError\u001b[0m                               Traceback (most recent call last)",
      "\u001b[0;32m<ipython-input-70-dafa590b2c2b>\u001b[0m in \u001b[0;36m<module>\u001b[0;34m\u001b[0m\n\u001b[0;32m----> 1\u001b[0;31m \u001b[0mplot_model_in_notebook\u001b[0m\u001b[0;34m(\u001b[0m\u001b[0mmodel\u001b[0m\u001b[0;34m)\u001b[0m\u001b[0;34m\u001b[0m\u001b[0;34m\u001b[0m\u001b[0m\n\u001b[0m",
      "\u001b[0;32m<ipython-input-60-e44577cd029c>\u001b[0m in \u001b[0;36mplot_model_in_notebook\u001b[0;34m(model)\u001b[0m\n\u001b[1;32m      3\u001b[0m \u001b[0;34m\u001b[0m\u001b[0m\n\u001b[1;32m      4\u001b[0m \u001b[0;32mdef\u001b[0m \u001b[0mplot_model_in_notebook\u001b[0m\u001b[0;34m(\u001b[0m\u001b[0mmodel\u001b[0m\u001b[0;34m)\u001b[0m\u001b[0;34m:\u001b[0m\u001b[0;34m\u001b[0m\u001b[0;34m\u001b[0m\u001b[0m\n\u001b[0;32m----> 5\u001b[0;31m     \u001b[0;32mreturn\u001b[0m \u001b[0mSVG\u001b[0m\u001b[0;34m(\u001b[0m\u001b[0mmodel_to_dot\u001b[0m\u001b[0;34m(\u001b[0m\u001b[0mmodel\u001b[0m\u001b[0;34m,\u001b[0m \u001b[0mshow_shapes\u001b[0m\u001b[0;34m=\u001b[0m\u001b[0;32mTrue\u001b[0m\u001b[0;34m)\u001b[0m\u001b[0;34m.\u001b[0m\u001b[0mcreate\u001b[0m\u001b[0;34m(\u001b[0m\u001b[0mprog\u001b[0m\u001b[0;34m=\u001b[0m\u001b[0;34m'dot'\u001b[0m\u001b[0;34m,\u001b[0m \u001b[0mformat\u001b[0m\u001b[0;34m=\u001b[0m\u001b[0;34m'svg'\u001b[0m\u001b[0;34m)\u001b[0m\u001b[0;34m)\u001b[0m\u001b[0;34m\u001b[0m\u001b[0;34m\u001b[0m\u001b[0m\n\u001b[0m\u001b[1;32m      6\u001b[0m \u001b[0;34m\u001b[0m\u001b[0m\n\u001b[1;32m      7\u001b[0m \u001b[0mplot_model_in_notebook\u001b[0m\u001b[0;34m(\u001b[0m\u001b[0mmodel\u001b[0m\u001b[0;34m)\u001b[0m\u001b[0;34m\u001b[0m\u001b[0;34m\u001b[0m\u001b[0m\n",
      "\u001b[0;32m~/anaconda3/envs/MIT/lib/python3.6/site-packages/keras/utils/vis_utils.py\u001b[0m in \u001b[0;36mmodel_to_dot\u001b[0;34m(model, show_shapes, show_layer_names, rankdir)\u001b[0m\n\u001b[1;32m     53\u001b[0m     \u001b[0;32mfrom\u001b[0m \u001b[0;34m.\u001b[0m\u001b[0;34m.\u001b[0m\u001b[0mmodels\u001b[0m \u001b[0;32mimport\u001b[0m \u001b[0mSequential\u001b[0m\u001b[0;34m\u001b[0m\u001b[0;34m\u001b[0m\u001b[0m\n\u001b[1;32m     54\u001b[0m \u001b[0;34m\u001b[0m\u001b[0m\n\u001b[0;32m---> 55\u001b[0;31m     \u001b[0m_check_pydot\u001b[0m\u001b[0;34m(\u001b[0m\u001b[0;34m)\u001b[0m\u001b[0;34m\u001b[0m\u001b[0;34m\u001b[0m\u001b[0m\n\u001b[0m\u001b[1;32m     56\u001b[0m     \u001b[0mdot\u001b[0m \u001b[0;34m=\u001b[0m \u001b[0mpydot\u001b[0m\u001b[0;34m.\u001b[0m\u001b[0mDot\u001b[0m\u001b[0;34m(\u001b[0m\u001b[0;34m)\u001b[0m\u001b[0;34m\u001b[0m\u001b[0;34m\u001b[0m\u001b[0m\n\u001b[1;32m     57\u001b[0m     \u001b[0mdot\u001b[0m\u001b[0;34m.\u001b[0m\u001b[0mset\u001b[0m\u001b[0;34m(\u001b[0m\u001b[0;34m'rankdir'\u001b[0m\u001b[0;34m,\u001b[0m \u001b[0mrankdir\u001b[0m\u001b[0;34m)\u001b[0m\u001b[0;34m\u001b[0m\u001b[0;34m\u001b[0m\u001b[0m\n",
      "\u001b[0;32m~/anaconda3/envs/MIT/lib/python3.6/site-packages/keras/utils/vis_utils.py\u001b[0m in \u001b[0;36m_check_pydot\u001b[0;34m()\u001b[0m\n\u001b[1;32m     18\u001b[0m     \u001b[0;32mif\u001b[0m \u001b[0mpydot\u001b[0m \u001b[0;32mis\u001b[0m \u001b[0;32mNone\u001b[0m\u001b[0;34m:\u001b[0m\u001b[0;34m\u001b[0m\u001b[0;34m\u001b[0m\u001b[0m\n\u001b[1;32m     19\u001b[0m         raise ImportError(\n\u001b[0;32m---> 20\u001b[0;31m             \u001b[0;34m'Failed to import `pydot`. '\u001b[0m\u001b[0;34m\u001b[0m\u001b[0;34m\u001b[0m\u001b[0m\n\u001b[0m\u001b[1;32m     21\u001b[0m             \u001b[0;34m'Please install `pydot`. '\u001b[0m\u001b[0;34m\u001b[0m\u001b[0;34m\u001b[0m\u001b[0m\n\u001b[1;32m     22\u001b[0m             'For example with `pip install pydot`.')\n",
      "\u001b[0;31mImportError\u001b[0m: Failed to import `pydot`. Please install `pydot`. For example with `pip install pydot`."
     ]
    }
   ],
   "source": [
    "plot_model_in_notebook(model)"
   ]
  },
  {
   "cell_type": "code",
   "execution_count": 27,
   "metadata": {},
   "outputs": [
    {
     "data": {
      "text/plain": [
       "1034113"
      ]
     },
     "execution_count": 27,
     "metadata": {},
     "output_type": "execute_result"
    }
   ],
   "source": [
    "model.count_params()"
   ]
  },
  {
   "cell_type": "code",
   "execution_count": 49,
   "metadata": {},
   "outputs": [
    {
     "name": "stdout",
     "output_type": "stream",
     "text": [
      "Train on 20000 samples, validate on 5000 samples\n",
      "Epoch 1/5\n",
      "20000/20000 [==============================] - 6s 309us/step - loss: 0.5883 - acc: 0.6885 - val_loss: 0.3879 - val_acc: 0.8332\n",
      "Epoch 2/5\n",
      "20000/20000 [==============================] - 6s 282us/step - loss: 0.3661 - acc: 0.8431 - val_loss: 0.3297 - val_acc: 0.8610\n",
      "Epoch 3/5\n",
      "20000/20000 [==============================] - 6s 282us/step - loss: 0.3076 - acc: 0.8762 - val_loss: 0.3162 - val_acc: 0.8696\n",
      "Epoch 4/5\n",
      "20000/20000 [==============================] - 6s 281us/step - loss: 0.2772 - acc: 0.8941 - val_loss: 0.3088 - val_acc: 0.8694\n",
      "Epoch 5/5\n",
      "20000/20000 [==============================] - 6s 279us/step - loss: 0.2576 - acc: 0.8990 - val_loss: 0.3126 - val_acc: 0.8676\n"
     ]
    },
    {
     "data": {
      "text/plain": [
       "<keras.callbacks.History at 0x7ffb0c717128>"
      ]
     },
     "execution_count": 49,
     "metadata": {},
     "output_type": "execute_result"
    }
   ],
   "source": [
    "model.fit(x_train, y_train, \n",
    "          validation_data=(x_val, y_val), \n",
    "          epochs=5, \n",
    "          shuffle=True, \n",
    "          batch_size=128)"
   ]
  },
  {
   "cell_type": "code",
   "execution_count": 50,
   "metadata": {},
   "outputs": [
    {
     "data": {
      "text/plain": [
       "Text(0.5,0,'epoch')"
      ]
     },
     "execution_count": 50,
     "metadata": {},
     "output_type": "execute_result"
    },
    {
     "data": {
      "image/png": "[encoded data removed]",
      "text/plain": [
       "<Figure size 1152x648 with 1 Axes>"
      ]
     },
     "metadata": {
      "needs_background": "light"
     },
     "output_type": "display_data"
    }
   ],
   "source": [
    "pd.DataFrame(\n",
    "    model.history.history\n",
    ")[['acc', 'val_acc']].plot(\n",
    "    figsize=(16,9), \n",
    "    fontsize=16, \n",
    "    style='o', \n",
    "    markersize=16\n",
    ")\n",
    "plt.legend(fontsize=16)\n",
    "plt.xlabel('epoch', fontsize=16)"
   ]
  },
  {
   "cell_type": "code",
   "execution_count": 51,
   "metadata": {},
   "outputs": [
    {
     "data": {
      "text/plain": [
       "0.86468"
      ]
     },
     "execution_count": 51,
     "metadata": {},
     "output_type": "execute_result"
    }
   ],
   "source": [
    "accuracy_score(y_test, model.predict(x_test) > 0.5)"
   ]
  },
  {
   "cell_type": "code",
   "execution_count": null,
   "metadata": {},
   "outputs": [],
   "source": []
  },
  {
   "cell_type": "markdown",
   "metadata": {},
   "source": [
    "## The opposite: Carry around 3-d tensors the whole way.\n",
    "### Average at the end"
   ]
  },
  {
   "cell_type": "code",
   "execution_count": 28,
   "metadata": {},
   "outputs": [],
   "source": [
    "K.clear_session()\n",
    "\n",
    "word_input = Input(shape=(MAX_SEQ_LEN,), dtype='int32')\n",
    "hidden_state = Embedding(MAX_WORDS, \n",
    "                         128, \n",
    "                         input_length=MAX_SEQ_LEN)(word_input)\n",
    "hidden_state = Dropout(0.5)(hidden_state)\n",
    "hidden_state = Dense(128, activation='relu')(hidden_state)\n",
    "hidden_state = Dropout(0.5)(hidden_state)\n",
    "hidden_state = Dense(64, activation='relu')(hidden_state)\n",
    "hidden_state = Dropout(0.5)(hidden_state)\n",
    "hidden_state = GlobalAveragePooling1D()(hidden_state)\n",
    "output = Dense(1, activation='sigmoid')(hidden_state)\n",
    "\n",
    "model = Model(word_input, output)\n",
    "\n",
    "model.compile(optimizer='rmsprop', \n",
    "              loss='binary_crossentropy', \n",
    "              metrics=['accuracy'])\n"
   ]
  },
  {
   "cell_type": "code",
   "execution_count": 29,
   "metadata": {},
   "outputs": [
    {
     "data": {
      "image/svg+xml": [
       "<svg height=\"719pt\" viewBox=\"0.00 0.00 490.00 719.00\" width=\"490pt\" xmlns=\"http://www.w3.org/2000/svg\" xmlns:xlink=\"http://www.w3.org/1999/xlink\">\n",
       "<g class=\"graph\" id=\"graph0\" transform=\"scale(1 1) rotate(0) translate(4 715)\">\n",
       "<title>G</title>\n",
       "<polygon fill=\"#ffffff\" points=\"-4,4 -4,-715 486,-715 486,4 -4,4\" stroke=\"transparent\"/>\n",
       "<!-- 139757749550384 -->\n",
       "<g class=\"node\" id=\"node1\">\n",
       "<title>139757749550384</title>\n",
       "<polygon fill=\"none\" points=\"109.5,-664.5 109.5,-710.5 372.5,-710.5 372.5,-664.5 109.5,-664.5\" stroke=\"#000000\"/>\n",
       "<text fill=\"#000000\" font-family=\"Times,serif\" font-size=\"14.00\" text-anchor=\"middle\" x=\"172\" y=\"-683.8\">input_1: InputLayer</text>\n",
       "<polyline fill=\"none\" points=\"234.5,-664.5 234.5,-710.5 \" stroke=\"#000000\"/>\n",
       "<text fill=\"#000000\" font-family=\"Times,serif\" font-size=\"14.00\" text-anchor=\"middle\" x=\"262\" y=\"-695.3\">input:</text>\n",
       "<polyline fill=\"none\" points=\"234.5,-687.5 289.5,-687.5 \" stroke=\"#000000\"/>\n",
       "<text fill=\"#000000\" font-family=\"Times,serif\" font-size=\"14.00\" text-anchor=\"middle\" x=\"262\" y=\"-672.3\">output:</text>\n",
       "<polyline fill=\"none\" points=\"289.5,-664.5 289.5,-710.5 \" stroke=\"#000000\"/>\n",
       "<text fill=\"#000000\" font-family=\"Times,serif\" font-size=\"14.00\" text-anchor=\"middle\" x=\"331\" y=\"-695.3\">(None, 125)</text>\n",
       "<polyline fill=\"none\" points=\"289.5,-687.5 372.5,-687.5 \" stroke=\"#000000\"/>\n",
       "<text fill=\"#000000\" font-family=\"Times,serif\" font-size=\"14.00\" text-anchor=\"middle\" x=\"331\" y=\"-672.3\">(None, 125)</text>\n",
       "</g>\n",
       "<!-- 139757749550776 -->\n",
       "<g class=\"node\" id=\"node2\">\n",
       "<title>139757749550776</title>\n",
       "<polygon fill=\"none\" points=\"78,-581.5 78,-627.5 404,-627.5 404,-581.5 78,-581.5\" stroke=\"#000000\"/>\n",
       "<text fill=\"#000000\" font-family=\"Times,serif\" font-size=\"14.00\" text-anchor=\"middle\" x=\"158.5\" y=\"-600.8\">embedding_1: Embedding</text>\n",
       "<polyline fill=\"none\" points=\"239,-581.5 239,-627.5 \" stroke=\"#000000\"/>\n",
       "<text fill=\"#000000\" font-family=\"Times,serif\" font-size=\"14.00\" text-anchor=\"middle\" x=\"266.5\" y=\"-612.3\">input:</text>\n",
       "<polyline fill=\"none\" points=\"239,-604.5 294,-604.5 \" stroke=\"#000000\"/>\n",
       "<text fill=\"#000000\" font-family=\"Times,serif\" font-size=\"14.00\" text-anchor=\"middle\" x=\"266.5\" y=\"-589.3\">output:</text>\n",
       "<polyline fill=\"none\" points=\"294,-581.5 294,-627.5 \" stroke=\"#000000\"/>\n",
       "<text fill=\"#000000\" font-family=\"Times,serif\" font-size=\"14.00\" text-anchor=\"middle\" x=\"349\" y=\"-612.3\">(None, 125)</text>\n",
       "<polyline fill=\"none\" points=\"294,-604.5 404,-604.5 \" stroke=\"#000000\"/>\n",
       "<text fill=\"#000000\" font-family=\"Times,serif\" font-size=\"14.00\" text-anchor=\"middle\" x=\"349\" y=\"-589.3\">(None, 125, 128)</text>\n",
       "</g>\n",
       "<!-- 139757749550384&#45;&gt;139757749550776 -->\n",
       "<g class=\"edge\" id=\"edge1\">\n",
       "<title>139757749550384-&gt;139757749550776</title>\n",
       "<path d=\"M241,-664.3799C241,-656.1745 241,-646.7679 241,-637.8786\" fill=\"none\" stroke=\"#000000\"/>\n",
       "<polygon fill=\"#000000\" points=\"244.5001,-637.784 241,-627.784 237.5001,-637.784 244.5001,-637.784\" stroke=\"#000000\"/>\n",
       "</g>\n",
       "<!-- 139757749550944 -->\n",
       "<g class=\"node\" id=\"node3\">\n",
       "<title>139757749550944</title>\n",
       "<polygon fill=\"none\" points=\"96,-498.5 96,-544.5 386,-544.5 386,-498.5 96,-498.5\" stroke=\"#000000\"/>\n",
       "<text fill=\"#000000\" font-family=\"Times,serif\" font-size=\"14.00\" text-anchor=\"middle\" x=\"158.5\" y=\"-517.8\">dropout_1: Dropout</text>\n",
       "<polyline fill=\"none\" points=\"221,-498.5 221,-544.5 \" stroke=\"#000000\"/>\n",
       "<text fill=\"#000000\" font-family=\"Times,serif\" font-size=\"14.00\" text-anchor=\"middle\" x=\"248.5\" y=\"-529.3\">input:</text>\n",
       "<polyline fill=\"none\" points=\"221,-521.5 276,-521.5 \" stroke=\"#000000\"/>\n",
       "<text fill=\"#000000\" font-family=\"Times,serif\" font-size=\"14.00\" text-anchor=\"middle\" x=\"248.5\" y=\"-506.3\">output:</text>\n",
       "<polyline fill=\"none\" points=\"276,-498.5 276,-544.5 \" stroke=\"#000000\"/>\n",
       "<text fill=\"#000000\" font-family=\"Times,serif\" font-size=\"14.00\" text-anchor=\"middle\" x=\"331\" y=\"-529.3\">(None, 125, 128)</text>\n",
       "<polyline fill=\"none\" points=\"276,-521.5 386,-521.5 \" stroke=\"#000000\"/>\n",
       "<text fill=\"#000000\" font-family=\"Times,serif\" font-size=\"14.00\" text-anchor=\"middle\" x=\"331\" y=\"-506.3\">(None, 125, 128)</text>\n",
       "</g>\n",
       "<!-- 139757749550776&#45;&gt;139757749550944 -->\n",
       "<g class=\"edge\" id=\"edge2\">\n",
       "<title>139757749550776-&gt;139757749550944</title>\n",
       "<path d=\"M241,-581.3799C241,-573.1745 241,-563.7679 241,-554.8786\" fill=\"none\" stroke=\"#000000\"/>\n",
       "<polygon fill=\"#000000\" points=\"244.5001,-554.784 241,-544.784 237.5001,-554.784 244.5001,-554.784\" stroke=\"#000000\"/>\n",
       "</g>\n",
       "<!-- 139757749550832 -->\n",
       "<g class=\"node\" id=\"node4\">\n",
       "<title>139757749550832</title>\n",
       "<polygon fill=\"none\" points=\"107.5,-415.5 107.5,-461.5 374.5,-461.5 374.5,-415.5 107.5,-415.5\" stroke=\"#000000\"/>\n",
       "<text fill=\"#000000\" font-family=\"Times,serif\" font-size=\"14.00\" text-anchor=\"middle\" x=\"158.5\" y=\"-434.8\">dense_1: Dense</text>\n",
       "<polyline fill=\"none\" points=\"209.5,-415.5 209.5,-461.5 \" stroke=\"#000000\"/>\n",
       "<text fill=\"#000000\" font-family=\"Times,serif\" font-size=\"14.00\" text-anchor=\"middle\" x=\"237\" y=\"-446.3\">input:</text>\n",
       "<polyline fill=\"none\" points=\"209.5,-438.5 264.5,-438.5 \" stroke=\"#000000\"/>\n",
       "<text fill=\"#000000\" font-family=\"Times,serif\" font-size=\"14.00\" text-anchor=\"middle\" x=\"237\" y=\"-423.3\">output:</text>\n",
       "<polyline fill=\"none\" points=\"264.5,-415.5 264.5,-461.5 \" stroke=\"#000000\"/>\n",
       "<text fill=\"#000000\" font-family=\"Times,serif\" font-size=\"14.00\" text-anchor=\"middle\" x=\"319.5\" y=\"-446.3\">(None, 125, 128)</text>\n",
       "<polyline fill=\"none\" points=\"264.5,-438.5 374.5,-438.5 \" stroke=\"#000000\"/>\n",
       "<text fill=\"#000000\" font-family=\"Times,serif\" font-size=\"14.00\" text-anchor=\"middle\" x=\"319.5\" y=\"-423.3\">(None, 125, 128)</text>\n",
       "</g>\n",
       "<!-- 139757749550944&#45;&gt;139757749550832 -->\n",
       "<g class=\"edge\" id=\"edge3\">\n",
       "<title>139757749550944-&gt;139757749550832</title>\n",
       "<path d=\"M241,-498.3799C241,-490.1745 241,-480.7679 241,-471.8786\" fill=\"none\" stroke=\"#000000\"/>\n",
       "<polygon fill=\"#000000\" points=\"244.5001,-471.784 241,-461.784 237.5001,-471.784 244.5001,-471.784\" stroke=\"#000000\"/>\n",
       "</g>\n",
       "<!-- 139757633455328 -->\n",
       "<g class=\"node\" id=\"node5\">\n",
       "<title>139757633455328</title>\n",
       "<polygon fill=\"none\" points=\"96,-332.5 96,-378.5 386,-378.5 386,-332.5 96,-332.5\" stroke=\"#000000\"/>\n",
       "<text fill=\"#000000\" font-family=\"Times,serif\" font-size=\"14.00\" text-anchor=\"middle\" x=\"158.5\" y=\"-351.8\">dropout_2: Dropout</text>\n",
       "<polyline fill=\"none\" points=\"221,-332.5 221,-378.5 \" stroke=\"#000000\"/>\n",
       "<text fill=\"#000000\" font-family=\"Times,serif\" font-size=\"14.00\" text-anchor=\"middle\" x=\"248.5\" y=\"-363.3\">input:</text>\n",
       "<polyline fill=\"none\" points=\"221,-355.5 276,-355.5 \" stroke=\"#000000\"/>\n",
       "<text fill=\"#000000\" font-family=\"Times,serif\" font-size=\"14.00\" text-anchor=\"middle\" x=\"248.5\" y=\"-340.3\">output:</text>\n",
       "<polyline fill=\"none\" points=\"276,-332.5 276,-378.5 \" stroke=\"#000000\"/>\n",
       "<text fill=\"#000000\" font-family=\"Times,serif\" font-size=\"14.00\" text-anchor=\"middle\" x=\"331\" y=\"-363.3\">(None, 125, 128)</text>\n",
       "<polyline fill=\"none\" points=\"276,-355.5 386,-355.5 \" stroke=\"#000000\"/>\n",
       "<text fill=\"#000000\" font-family=\"Times,serif\" font-size=\"14.00\" text-anchor=\"middle\" x=\"331\" y=\"-340.3\">(None, 125, 128)</text>\n",
       "</g>\n",
       "<!-- 139757749550832&#45;&gt;139757633455328 -->\n",
       "<g class=\"edge\" id=\"edge4\">\n",
       "<title>139757749550832-&gt;139757633455328</title>\n",
       "<path d=\"M241,-415.3799C241,-407.1745 241,-397.7679 241,-388.8786\" fill=\"none\" stroke=\"#000000\"/>\n",
       "<polygon fill=\"#000000\" points=\"244.5001,-388.784 241,-378.784 237.5001,-388.784 244.5001,-388.784\" stroke=\"#000000\"/>\n",
       "</g>\n",
       "<!-- 139757749473968 -->\n",
       "<g class=\"node\" id=\"node6\">\n",
       "<title>139757749473968</title>\n",
       "<polygon fill=\"none\" points=\"107.5,-249.5 107.5,-295.5 374.5,-295.5 374.5,-249.5 107.5,-249.5\" stroke=\"#000000\"/>\n",
       "<text fill=\"#000000\" font-family=\"Times,serif\" font-size=\"14.00\" text-anchor=\"middle\" x=\"158.5\" y=\"-268.8\">dense_2: Dense</text>\n",
       "<polyline fill=\"none\" points=\"209.5,-249.5 209.5,-295.5 \" stroke=\"#000000\"/>\n",
       "<text fill=\"#000000\" font-family=\"Times,serif\" font-size=\"14.00\" text-anchor=\"middle\" x=\"237\" y=\"-280.3\">input:</text>\n",
       "<polyline fill=\"none\" points=\"209.5,-272.5 264.5,-272.5 \" stroke=\"#000000\"/>\n",
       "<text fill=\"#000000\" font-family=\"Times,serif\" font-size=\"14.00\" text-anchor=\"middle\" x=\"237\" y=\"-257.3\">output:</text>\n",
       "<polyline fill=\"none\" points=\"264.5,-249.5 264.5,-295.5 \" stroke=\"#000000\"/>\n",
       "<text fill=\"#000000\" font-family=\"Times,serif\" font-size=\"14.00\" text-anchor=\"middle\" x=\"319.5\" y=\"-280.3\">(None, 125, 128)</text>\n",
       "<polyline fill=\"none\" points=\"264.5,-272.5 374.5,-272.5 \" stroke=\"#000000\"/>\n",
       "<text fill=\"#000000\" font-family=\"Times,serif\" font-size=\"14.00\" text-anchor=\"middle\" x=\"319.5\" y=\"-257.3\">(None, 125, 64)</text>\n",
       "</g>\n",
       "<!-- 139757633455328&#45;&gt;139757749473968 -->\n",
       "<g class=\"edge\" id=\"edge5\">\n",
       "<title>139757633455328-&gt;139757749473968</title>\n",
       "<path d=\"M241,-332.3799C241,-324.1745 241,-314.7679 241,-305.8786\" fill=\"none\" stroke=\"#000000\"/>\n",
       "<polygon fill=\"#000000\" points=\"244.5001,-305.784 241,-295.784 237.5001,-305.784 244.5001,-305.784\" stroke=\"#000000\"/>\n",
       "</g>\n",
       "<!-- 139757749563744 -->\n",
       "<g class=\"node\" id=\"node7\">\n",
       "<title>139757749563744</title>\n",
       "<polygon fill=\"none\" points=\"99,-166.5 99,-212.5 383,-212.5 383,-166.5 99,-166.5\" stroke=\"#000000\"/>\n",
       "<text fill=\"#000000\" font-family=\"Times,serif\" font-size=\"14.00\" text-anchor=\"middle\" x=\"161.5\" y=\"-185.8\">dropout_3: Dropout</text>\n",
       "<polyline fill=\"none\" points=\"224,-166.5 224,-212.5 \" stroke=\"#000000\"/>\n",
       "<text fill=\"#000000\" font-family=\"Times,serif\" font-size=\"14.00\" text-anchor=\"middle\" x=\"251.5\" y=\"-197.3\">input:</text>\n",
       "<polyline fill=\"none\" points=\"224,-189.5 279,-189.5 \" stroke=\"#000000\"/>\n",
       "<text fill=\"#000000\" font-family=\"Times,serif\" font-size=\"14.00\" text-anchor=\"middle\" x=\"251.5\" y=\"-174.3\">output:</text>\n",
       "<polyline fill=\"none\" points=\"279,-166.5 279,-212.5 \" stroke=\"#000000\"/>\n",
       "<text fill=\"#000000\" font-family=\"Times,serif\" font-size=\"14.00\" text-anchor=\"middle\" x=\"331\" y=\"-197.3\">(None, 125, 64)</text>\n",
       "<polyline fill=\"none\" points=\"279,-189.5 383,-189.5 \" stroke=\"#000000\"/>\n",
       "<text fill=\"#000000\" font-family=\"Times,serif\" font-size=\"14.00\" text-anchor=\"middle\" x=\"331\" y=\"-174.3\">(None, 125, 64)</text>\n",
       "</g>\n",
       "<!-- 139757749473968&#45;&gt;139757749563744 -->\n",
       "<g class=\"edge\" id=\"edge6\">\n",
       "<title>139757749473968-&gt;139757749563744</title>\n",
       "<path d=\"M241,-249.3799C241,-241.1745 241,-231.7679 241,-222.8786\" fill=\"none\" stroke=\"#000000\"/>\n",
       "<polygon fill=\"#000000\" points=\"244.5001,-222.784 241,-212.784 237.5001,-222.784 244.5001,-222.784\" stroke=\"#000000\"/>\n",
       "</g>\n",
       "<!-- 139758067952160 -->\n",
       "<g class=\"node\" id=\"node8\">\n",
       "<title>139758067952160</title>\n",
       "<polygon fill=\"none\" points=\"0,-83.5 0,-129.5 482,-129.5 482,-83.5 0,-83.5\" stroke=\"#000000\"/>\n",
       "<text fill=\"#000000\" font-family=\"Times,serif\" font-size=\"14.00\" text-anchor=\"middle\" x=\"161.5\" y=\"-102.8\">global_average_pooling1d_1: GlobalAveragePooling1D</text>\n",
       "<polyline fill=\"none\" points=\"323,-83.5 323,-129.5 \" stroke=\"#000000\"/>\n",
       "<text fill=\"#000000\" font-family=\"Times,serif\" font-size=\"14.00\" text-anchor=\"middle\" x=\"350.5\" y=\"-114.3\">input:</text>\n",
       "<polyline fill=\"none\" points=\"323,-106.5 378,-106.5 \" stroke=\"#000000\"/>\n",
       "<text fill=\"#000000\" font-family=\"Times,serif\" font-size=\"14.00\" text-anchor=\"middle\" x=\"350.5\" y=\"-91.3\">output:</text>\n",
       "<polyline fill=\"none\" points=\"378,-83.5 378,-129.5 \" stroke=\"#000000\"/>\n",
       "<text fill=\"#000000\" font-family=\"Times,serif\" font-size=\"14.00\" text-anchor=\"middle\" x=\"430\" y=\"-114.3\">(None, 125, 64)</text>\n",
       "<polyline fill=\"none\" points=\"378,-106.5 482,-106.5 \" stroke=\"#000000\"/>\n",
       "<text fill=\"#000000\" font-family=\"Times,serif\" font-size=\"14.00\" text-anchor=\"middle\" x=\"430\" y=\"-91.3\">(None, 64)</text>\n",
       "</g>\n",
       "<!-- 139757749563744&#45;&gt;139758067952160 -->\n",
       "<g class=\"edge\" id=\"edge7\">\n",
       "<title>139757749563744-&gt;139758067952160</title>\n",
       "<path d=\"M241,-166.3799C241,-158.1745 241,-148.7679 241,-139.8786\" fill=\"none\" stroke=\"#000000\"/>\n",
       "<polygon fill=\"#000000\" points=\"244.5001,-139.784 241,-129.784 237.5001,-139.784 244.5001,-139.784\" stroke=\"#000000\"/>\n",
       "</g>\n",
       "<!-- 139757749551056 -->\n",
       "<g class=\"node\" id=\"node9\">\n",
       "<title>139757749551056</title>\n",
       "<polygon fill=\"none\" points=\"124.5,-.5 124.5,-46.5 357.5,-46.5 357.5,-.5 124.5,-.5\" stroke=\"#000000\"/>\n",
       "<text fill=\"#000000\" font-family=\"Times,serif\" font-size=\"14.00\" text-anchor=\"middle\" x=\"175.5\" y=\"-19.8\">dense_3: Dense</text>\n",
       "<polyline fill=\"none\" points=\"226.5,-.5 226.5,-46.5 \" stroke=\"#000000\"/>\n",
       "<text fill=\"#000000\" font-family=\"Times,serif\" font-size=\"14.00\" text-anchor=\"middle\" x=\"254\" y=\"-31.3\">input:</text>\n",
       "<polyline fill=\"none\" points=\"226.5,-23.5 281.5,-23.5 \" stroke=\"#000000\"/>\n",
       "<text fill=\"#000000\" font-family=\"Times,serif\" font-size=\"14.00\" text-anchor=\"middle\" x=\"254\" y=\"-8.3\">output:</text>\n",
       "<polyline fill=\"none\" points=\"281.5,-.5 281.5,-46.5 \" stroke=\"#000000\"/>\n",
       "<text fill=\"#000000\" font-family=\"Times,serif\" font-size=\"14.00\" text-anchor=\"middle\" x=\"319.5\" y=\"-31.3\">(None, 64)</text>\n",
       "<polyline fill=\"none\" points=\"281.5,-23.5 357.5,-23.5 \" stroke=\"#000000\"/>\n",
       "<text fill=\"#000000\" font-family=\"Times,serif\" font-size=\"14.00\" text-anchor=\"middle\" x=\"319.5\" y=\"-8.3\">(None, 1)</text>\n",
       "</g>\n",
       "<!-- 139758067952160&#45;&gt;139757749551056 -->\n",
       "<g class=\"edge\" id=\"edge8\">\n",
       "<title>139758067952160-&gt;139757749551056</title>\n",
       "<path d=\"M241,-83.3799C241,-75.1745 241,-65.7679 241,-56.8786\" fill=\"none\" stroke=\"#000000\"/>\n",
       "<polygon fill=\"#000000\" points=\"244.5001,-56.784 241,-46.784 237.5001,-56.784 244.5001,-56.784\" stroke=\"#000000\"/>\n",
       "</g>\n",
       "</g>\n",
       "</svg>"
      ],
      "text/plain": [
       "<IPython.core.display.SVG object>"
      ]
     },
     "execution_count": 29,
     "metadata": {},
     "output_type": "execute_result"
    }
   ],
   "source": [
    "plot_model_in_notebook(model)"
   ]
  },
  {
   "cell_type": "code",
   "execution_count": 54,
   "metadata": {},
   "outputs": [
    {
     "data": {
      "text/plain": [
       "1304833"
      ]
     },
     "execution_count": 54,
     "metadata": {},
     "output_type": "execute_result"
    }
   ],
   "source": [
    "model.count_params()"
   ]
  },
  {
   "cell_type": "code",
   "execution_count": 33,
   "metadata": {},
   "outputs": [
    {
     "name": "stdout",
     "output_type": "stream",
     "text": [
      "Train on 20000 samples, validate on 5000 samples\n",
      "Epoch 1/5\n",
      "20000/20000 [==============================] - 14s 712us/step - loss: 0.5732 - acc: 0.7047 - val_loss: 0.4008 - val_acc: 0.8308\n",
      "Epoch 2/5\n",
      "20000/20000 [==============================] - 14s 681us/step - loss: 0.3297 - acc: 0.8619 - val_loss: 0.3525 - val_acc: 0.8484\n",
      "Epoch 3/5\n",
      "20000/20000 [==============================] - 12s 621us/step - loss: 0.2685 - acc: 0.8904 - val_loss: 0.3120 - val_acc: 0.8702\n",
      "Epoch 4/5\n",
      "20000/20000 [==============================] - 12s 602us/step - loss: 0.2367 - acc: 0.9044 - val_loss: 0.3994 - val_acc: 0.8324\n",
      "Epoch 5/5\n",
      "20000/20000 [==============================] - 12s 603us/step - loss: 0.2156 - acc: 0.9158 - val_loss: 0.3176 - val_acc: 0.8688\n"
     ]
    },
    {
     "data": {
      "text/plain": [
       "<keras.callbacks.History at 0x7f6a3018b5f8>"
      ]
     },
     "execution_count": 33,
     "metadata": {},
     "output_type": "execute_result"
    }
   ],
   "source": [
    "model.fit(\n",
    "    x_train, y_train, \n",
    "    validation_data=(x_val, y_val), \n",
    "    epochs=5, \n",
    "    shuffle=True, \n",
    "    batch_size=128\n",
    ")"
   ]
  },
  {
   "cell_type": "code",
   "execution_count": 34,
   "metadata": {},
   "outputs": [
    {
     "data": {
      "text/plain": [
       "Text(0.5,0,'epoch')"
      ]
     },
     "execution_count": 34,
     "metadata": {},
     "output_type": "execute_result"
    },
    {
     "data": {
      "image/png": "[encoded data removed]",
      "text/plain": [
       "<Figure size 1152x648 with 1 Axes>"
      ]
     },
     "metadata": {},
     "output_type": "display_data"
    }
   ],
   "source": [
    "pd.DataFrame(model.history.history)[['acc', 'val_acc']].plot(\n",
    "    figsize=(16,9), fontsize=16, style='o', markersize=16\n",
    ")\n",
    "plt.legend(fontsize=16)\n",
    "plt.xlabel('epoch', fontsize=16)"
   ]
  },
  {
   "cell_type": "code",
   "execution_count": 35,
   "metadata": {},
   "outputs": [
    {
     "data": {
      "text/plain": [
       "0.86208"
      ]
     },
     "execution_count": 35,
     "metadata": {},
     "output_type": "execute_result"
    }
   ],
   "source": [
    "accuracy_score(y_test, model.predict(x_test) > 0.5)"
   ]
  },
  {
   "cell_type": "code",
   "execution_count": null,
   "metadata": {},
   "outputs": [],
   "source": []
  },
  {
   "cell_type": "code",
   "execution_count": null,
   "metadata": {},
   "outputs": [],
   "source": []
  },
  {
   "cell_type": "markdown",
   "metadata": {},
   "source": [
    "# Different Approach: Flattening\n",
    "###  \"Unwind\" the tensor"
   ]
  },
  {
   "cell_type": "code",
   "execution_count": 32,
   "metadata": {},
   "outputs": [],
   "source": [
    "from keras.layers import Flatten\n",
    "K.clear_session()\n",
    "\n",
    "word_input = Input(shape=(MAX_SEQ_LEN,), dtype='int32')\n",
    "hidden_state = Embedding(\n",
    "    MAX_WORDS, \n",
    "    128, \n",
    "    input_length=MAX_SEQ_LEN)(word_input)\n",
    "hidden_state = Dropout(0.5)(hidden_state)\n",
    "hidden_state = Flatten()(hidden_state)\n",
    "hidden_state = Dense(128, activation='relu')(hidden_state)\n",
    "hidden_state = Dropout(0.5)(hidden_state)\n",
    "hidden_state = Dense(64, activation='relu')(hidden_state)\n",
    "hidden_state = Dropout(0.5)(hidden_state)\n",
    "output = Dense(1, activation='sigmoid')(hidden_state)\n",
    "\n",
    "model = Model(word_input, output)\n",
    "\n",
    "model.compile(optimizer='rmsprop', loss='binary_crossentropy', metrics=['accuracy'])\n"
   ]
  },
  {
   "cell_type": "code",
   "execution_count": 33,
   "metadata": {},
   "outputs": [
    {
     "data": {
      "image/svg+xml": [
       "<svg height=\"719pt\" viewBox=\"0.00 0.00 334.00 719.00\" width=\"334pt\" xmlns=\"http://www.w3.org/2000/svg\" xmlns:xlink=\"http://www.w3.org/1999/xlink\">\n",
       "<g class=\"graph\" id=\"graph0\" transform=\"scale(1 1) rotate(0) translate(4 715)\">\n",
       "<title>G</title>\n",
       "<polygon fill=\"#ffffff\" points=\"-4,4 -4,-715 330,-715 330,4 -4,4\" stroke=\"transparent\"/>\n",
       "<!-- 139757701642616 -->\n",
       "<g class=\"node\" id=\"node1\">\n",
       "<title>139757701642616</title>\n",
       "<polygon fill=\"none\" points=\"31.5,-664.5 31.5,-710.5 294.5,-710.5 294.5,-664.5 31.5,-664.5\" stroke=\"#000000\"/>\n",
       "<text fill=\"#000000\" font-family=\"Times,serif\" font-size=\"14.00\" text-anchor=\"middle\" x=\"94\" y=\"-683.8\">input_1: InputLayer</text>\n",
       "<polyline fill=\"none\" points=\"156.5,-664.5 156.5,-710.5 \" stroke=\"#000000\"/>\n",
       "<text fill=\"#000000\" font-family=\"Times,serif\" font-size=\"14.00\" text-anchor=\"middle\" x=\"184\" y=\"-695.3\">input:</text>\n",
       "<polyline fill=\"none\" points=\"156.5,-687.5 211.5,-687.5 \" stroke=\"#000000\"/>\n",
       "<text fill=\"#000000\" font-family=\"Times,serif\" font-size=\"14.00\" text-anchor=\"middle\" x=\"184\" y=\"-672.3\">output:</text>\n",
       "<polyline fill=\"none\" points=\"211.5,-664.5 211.5,-710.5 \" stroke=\"#000000\"/>\n",
       "<text fill=\"#000000\" font-family=\"Times,serif\" font-size=\"14.00\" text-anchor=\"middle\" x=\"253\" y=\"-695.3\">(None, 125)</text>\n",
       "<polyline fill=\"none\" points=\"211.5,-687.5 294.5,-687.5 \" stroke=\"#000000\"/>\n",
       "<text fill=\"#000000\" font-family=\"Times,serif\" font-size=\"14.00\" text-anchor=\"middle\" x=\"253\" y=\"-672.3\">(None, 125)</text>\n",
       "</g>\n",
       "<!-- 139757701643792 -->\n",
       "<g class=\"node\" id=\"node2\">\n",
       "<title>139757701643792</title>\n",
       "<polygon fill=\"none\" points=\"0,-581.5 0,-627.5 326,-627.5 326,-581.5 0,-581.5\" stroke=\"#000000\"/>\n",
       "<text fill=\"#000000\" font-family=\"Times,serif\" font-size=\"14.00\" text-anchor=\"middle\" x=\"80.5\" y=\"-600.8\">embedding_1: Embedding</text>\n",
       "<polyline fill=\"none\" points=\"161,-581.5 161,-627.5 \" stroke=\"#000000\"/>\n",
       "<text fill=\"#000000\" font-family=\"Times,serif\" font-size=\"14.00\" text-anchor=\"middle\" x=\"188.5\" y=\"-612.3\">input:</text>\n",
       "<polyline fill=\"none\" points=\"161,-604.5 216,-604.5 \" stroke=\"#000000\"/>\n",
       "<text fill=\"#000000\" font-family=\"Times,serif\" font-size=\"14.00\" text-anchor=\"middle\" x=\"188.5\" y=\"-589.3\">output:</text>\n",
       "<polyline fill=\"none\" points=\"216,-581.5 216,-627.5 \" stroke=\"#000000\"/>\n",
       "<text fill=\"#000000\" font-family=\"Times,serif\" font-size=\"14.00\" text-anchor=\"middle\" x=\"271\" y=\"-612.3\">(None, 125)</text>\n",
       "<polyline fill=\"none\" points=\"216,-604.5 326,-604.5 \" stroke=\"#000000\"/>\n",
       "<text fill=\"#000000\" font-family=\"Times,serif\" font-size=\"14.00\" text-anchor=\"middle\" x=\"271\" y=\"-589.3\">(None, 125, 128)</text>\n",
       "</g>\n",
       "<!-- 139757701642616&#45;&gt;139757701643792 -->\n",
       "<g class=\"edge\" id=\"edge1\">\n",
       "<title>139757701642616-&gt;139757701643792</title>\n",
       "<path d=\"M163,-664.3799C163,-656.1745 163,-646.7679 163,-637.8786\" fill=\"none\" stroke=\"#000000\"/>\n",
       "<polygon fill=\"#000000\" points=\"166.5001,-637.784 163,-627.784 159.5001,-637.784 166.5001,-637.784\" stroke=\"#000000\"/>\n",
       "</g>\n",
       "<!-- 139757701644016 -->\n",
       "<g class=\"node\" id=\"node3\">\n",
       "<title>139757701644016</title>\n",
       "<polygon fill=\"none\" points=\"18,-498.5 18,-544.5 308,-544.5 308,-498.5 18,-498.5\" stroke=\"#000000\"/>\n",
       "<text fill=\"#000000\" font-family=\"Times,serif\" font-size=\"14.00\" text-anchor=\"middle\" x=\"80.5\" y=\"-517.8\">dropout_1: Dropout</text>\n",
       "<polyline fill=\"none\" points=\"143,-498.5 143,-544.5 \" stroke=\"#000000\"/>\n",
       "<text fill=\"#000000\" font-family=\"Times,serif\" font-size=\"14.00\" text-anchor=\"middle\" x=\"170.5\" y=\"-529.3\">input:</text>\n",
       "<polyline fill=\"none\" points=\"143,-521.5 198,-521.5 \" stroke=\"#000000\"/>\n",
       "<text fill=\"#000000\" font-family=\"Times,serif\" font-size=\"14.00\" text-anchor=\"middle\" x=\"170.5\" y=\"-506.3\">output:</text>\n",
       "<polyline fill=\"none\" points=\"198,-498.5 198,-544.5 \" stroke=\"#000000\"/>\n",
       "<text fill=\"#000000\" font-family=\"Times,serif\" font-size=\"14.00\" text-anchor=\"middle\" x=\"253\" y=\"-529.3\">(None, 125, 128)</text>\n",
       "<polyline fill=\"none\" points=\"198,-521.5 308,-521.5 \" stroke=\"#000000\"/>\n",
       "<text fill=\"#000000\" font-family=\"Times,serif\" font-size=\"14.00\" text-anchor=\"middle\" x=\"253\" y=\"-506.3\">(None, 125, 128)</text>\n",
       "</g>\n",
       "<!-- 139757701643792&#45;&gt;139757701644016 -->\n",
       "<g class=\"edge\" id=\"edge2\">\n",
       "<title>139757701643792-&gt;139757701644016</title>\n",
       "<path d=\"M163,-581.3799C163,-573.1745 163,-563.7679 163,-554.8786\" fill=\"none\" stroke=\"#000000\"/>\n",
       "<polygon fill=\"#000000\" points=\"166.5001,-554.784 163,-544.784 159.5001,-554.784 166.5001,-554.784\" stroke=\"#000000\"/>\n",
       "</g>\n",
       "<!-- 139757701643232 -->\n",
       "<g class=\"node\" id=\"node4\">\n",
       "<title>139757701643232</title>\n",
       "<polygon fill=\"none\" points=\"25.5,-415.5 25.5,-461.5 300.5,-461.5 300.5,-415.5 25.5,-415.5\" stroke=\"#000000\"/>\n",
       "<text fill=\"#000000\" font-family=\"Times,serif\" font-size=\"14.00\" text-anchor=\"middle\" x=\"80.5\" y=\"-434.8\">flatten_1: Flatten</text>\n",
       "<polyline fill=\"none\" points=\"135.5,-415.5 135.5,-461.5 \" stroke=\"#000000\"/>\n",
       "<text fill=\"#000000\" font-family=\"Times,serif\" font-size=\"14.00\" text-anchor=\"middle\" x=\"163\" y=\"-446.3\">input:</text>\n",
       "<polyline fill=\"none\" points=\"135.5,-438.5 190.5,-438.5 \" stroke=\"#000000\"/>\n",
       "<text fill=\"#000000\" font-family=\"Times,serif\" font-size=\"14.00\" text-anchor=\"middle\" x=\"163\" y=\"-423.3\">output:</text>\n",
       "<polyline fill=\"none\" points=\"190.5,-415.5 190.5,-461.5 \" stroke=\"#000000\"/>\n",
       "<text fill=\"#000000\" font-family=\"Times,serif\" font-size=\"14.00\" text-anchor=\"middle\" x=\"245.5\" y=\"-446.3\">(None, 125, 128)</text>\n",
       "<polyline fill=\"none\" points=\"190.5,-438.5 300.5,-438.5 \" stroke=\"#000000\"/>\n",
       "<text fill=\"#000000\" font-family=\"Times,serif\" font-size=\"14.00\" text-anchor=\"middle\" x=\"245.5\" y=\"-423.3\">(None, 16000)</text>\n",
       "</g>\n",
       "<!-- 139757701644016&#45;&gt;139757701643232 -->\n",
       "<g class=\"edge\" id=\"edge3\">\n",
       "<title>139757701644016-&gt;139757701643232</title>\n",
       "<path d=\"M163,-498.3799C163,-490.1745 163,-480.7679 163,-471.8786\" fill=\"none\" stroke=\"#000000\"/>\n",
       "<polygon fill=\"#000000\" points=\"166.5001,-471.784 163,-461.784 159.5001,-471.784 166.5001,-471.784\" stroke=\"#000000\"/>\n",
       "</g>\n",
       "<!-- 139757701642952 -->\n",
       "<g class=\"node\" id=\"node5\">\n",
       "<title>139757701642952</title>\n",
       "<polygon fill=\"none\" points=\"36.5,-332.5 36.5,-378.5 289.5,-378.5 289.5,-332.5 36.5,-332.5\" stroke=\"#000000\"/>\n",
       "<text fill=\"#000000\" font-family=\"Times,serif\" font-size=\"14.00\" text-anchor=\"middle\" x=\"87.5\" y=\"-351.8\">dense_1: Dense</text>\n",
       "<polyline fill=\"none\" points=\"138.5,-332.5 138.5,-378.5 \" stroke=\"#000000\"/>\n",
       "<text fill=\"#000000\" font-family=\"Times,serif\" font-size=\"14.00\" text-anchor=\"middle\" x=\"166\" y=\"-363.3\">input:</text>\n",
       "<polyline fill=\"none\" points=\"138.5,-355.5 193.5,-355.5 \" stroke=\"#000000\"/>\n",
       "<text fill=\"#000000\" font-family=\"Times,serif\" font-size=\"14.00\" text-anchor=\"middle\" x=\"166\" y=\"-340.3\">output:</text>\n",
       "<polyline fill=\"none\" points=\"193.5,-332.5 193.5,-378.5 \" stroke=\"#000000\"/>\n",
       "<text fill=\"#000000\" font-family=\"Times,serif\" font-size=\"14.00\" text-anchor=\"middle\" x=\"241.5\" y=\"-363.3\">(None, 16000)</text>\n",
       "<polyline fill=\"none\" points=\"193.5,-355.5 289.5,-355.5 \" stroke=\"#000000\"/>\n",
       "<text fill=\"#000000\" font-family=\"Times,serif\" font-size=\"14.00\" text-anchor=\"middle\" x=\"241.5\" y=\"-340.3\">(None, 128)</text>\n",
       "</g>\n",
       "<!-- 139757701643232&#45;&gt;139757701642952 -->\n",
       "<g class=\"edge\" id=\"edge4\">\n",
       "<title>139757701643232-&gt;139757701642952</title>\n",
       "<path d=\"M163,-415.3799C163,-407.1745 163,-397.7679 163,-388.8786\" fill=\"none\" stroke=\"#000000\"/>\n",
       "<polygon fill=\"#000000\" points=\"166.5001,-388.784 163,-378.784 159.5001,-388.784 166.5001,-388.784\" stroke=\"#000000\"/>\n",
       "</g>\n",
       "<!-- 139757701642840 -->\n",
       "<g class=\"node\" id=\"node6\">\n",
       "<title>139757701642840</title>\n",
       "<polygon fill=\"none\" points=\"31.5,-249.5 31.5,-295.5 294.5,-295.5 294.5,-249.5 31.5,-249.5\" stroke=\"#000000\"/>\n",
       "<text fill=\"#000000\" font-family=\"Times,serif\" font-size=\"14.00\" text-anchor=\"middle\" x=\"94\" y=\"-268.8\">dropout_2: Dropout</text>\n",
       "<polyline fill=\"none\" points=\"156.5,-249.5 156.5,-295.5 \" stroke=\"#000000\"/>\n",
       "<text fill=\"#000000\" font-family=\"Times,serif\" font-size=\"14.00\" text-anchor=\"middle\" x=\"184\" y=\"-280.3\">input:</text>\n",
       "<polyline fill=\"none\" points=\"156.5,-272.5 211.5,-272.5 \" stroke=\"#000000\"/>\n",
       "<text fill=\"#000000\" font-family=\"Times,serif\" font-size=\"14.00\" text-anchor=\"middle\" x=\"184\" y=\"-257.3\">output:</text>\n",
       "<polyline fill=\"none\" points=\"211.5,-249.5 211.5,-295.5 \" stroke=\"#000000\"/>\n",
       "<text fill=\"#000000\" font-family=\"Times,serif\" font-size=\"14.00\" text-anchor=\"middle\" x=\"253\" y=\"-280.3\">(None, 128)</text>\n",
       "<polyline fill=\"none\" points=\"211.5,-272.5 294.5,-272.5 \" stroke=\"#000000\"/>\n",
       "<text fill=\"#000000\" font-family=\"Times,serif\" font-size=\"14.00\" text-anchor=\"middle\" x=\"253\" y=\"-257.3\">(None, 128)</text>\n",
       "</g>\n",
       "<!-- 139757701642952&#45;&gt;139757701642840 -->\n",
       "<g class=\"edge\" id=\"edge5\">\n",
       "<title>139757701642952-&gt;139757701642840</title>\n",
       "<path d=\"M163,-332.3799C163,-324.1745 163,-314.7679 163,-305.8786\" fill=\"none\" stroke=\"#000000\"/>\n",
       "<polygon fill=\"#000000\" points=\"166.5001,-305.784 163,-295.784 159.5001,-305.784 166.5001,-305.784\" stroke=\"#000000\"/>\n",
       "</g>\n",
       "<!-- 139757701286936 -->\n",
       "<g class=\"node\" id=\"node7\">\n",
       "<title>139757701286936</title>\n",
       "<polygon fill=\"none\" points=\"43,-166.5 43,-212.5 283,-212.5 283,-166.5 43,-166.5\" stroke=\"#000000\"/>\n",
       "<text fill=\"#000000\" font-family=\"Times,serif\" font-size=\"14.00\" text-anchor=\"middle\" x=\"94\" y=\"-185.8\">dense_2: Dense</text>\n",
       "<polyline fill=\"none\" points=\"145,-166.5 145,-212.5 \" stroke=\"#000000\"/>\n",
       "<text fill=\"#000000\" font-family=\"Times,serif\" font-size=\"14.00\" text-anchor=\"middle\" x=\"172.5\" y=\"-197.3\">input:</text>\n",
       "<polyline fill=\"none\" points=\"145,-189.5 200,-189.5 \" stroke=\"#000000\"/>\n",
       "<text fill=\"#000000\" font-family=\"Times,serif\" font-size=\"14.00\" text-anchor=\"middle\" x=\"172.5\" y=\"-174.3\">output:</text>\n",
       "<polyline fill=\"none\" points=\"200,-166.5 200,-212.5 \" stroke=\"#000000\"/>\n",
       "<text fill=\"#000000\" font-family=\"Times,serif\" font-size=\"14.00\" text-anchor=\"middle\" x=\"241.5\" y=\"-197.3\">(None, 128)</text>\n",
       "<polyline fill=\"none\" points=\"200,-189.5 283,-189.5 \" stroke=\"#000000\"/>\n",
       "<text fill=\"#000000\" font-family=\"Times,serif\" font-size=\"14.00\" text-anchor=\"middle\" x=\"241.5\" y=\"-174.3\">(None, 64)</text>\n",
       "</g>\n",
       "<!-- 139757701642840&#45;&gt;139757701286936 -->\n",
       "<g class=\"edge\" id=\"edge6\">\n",
       "<title>139757701642840-&gt;139757701286936</title>\n",
       "<path d=\"M163,-249.3799C163,-241.1745 163,-231.7679 163,-222.8786\" fill=\"none\" stroke=\"#000000\"/>\n",
       "<polygon fill=\"#000000\" points=\"166.5001,-222.784 163,-212.784 159.5001,-222.784 166.5001,-222.784\" stroke=\"#000000\"/>\n",
       "</g>\n",
       "<!-- 139757701287440 -->\n",
       "<g class=\"node\" id=\"node8\">\n",
       "<title>139757701287440</title>\n",
       "<polygon fill=\"none\" points=\"35,-83.5 35,-129.5 291,-129.5 291,-83.5 35,-83.5\" stroke=\"#000000\"/>\n",
       "<text fill=\"#000000\" font-family=\"Times,serif\" font-size=\"14.00\" text-anchor=\"middle\" x=\"97.5\" y=\"-102.8\">dropout_3: Dropout</text>\n",
       "<polyline fill=\"none\" points=\"160,-83.5 160,-129.5 \" stroke=\"#000000\"/>\n",
       "<text fill=\"#000000\" font-family=\"Times,serif\" font-size=\"14.00\" text-anchor=\"middle\" x=\"187.5\" y=\"-114.3\">input:</text>\n",
       "<polyline fill=\"none\" points=\"160,-106.5 215,-106.5 \" stroke=\"#000000\"/>\n",
       "<text fill=\"#000000\" font-family=\"Times,serif\" font-size=\"14.00\" text-anchor=\"middle\" x=\"187.5\" y=\"-91.3\">output:</text>\n",
       "<polyline fill=\"none\" points=\"215,-83.5 215,-129.5 \" stroke=\"#000000\"/>\n",
       "<text fill=\"#000000\" font-family=\"Times,serif\" font-size=\"14.00\" text-anchor=\"middle\" x=\"253\" y=\"-114.3\">(None, 64)</text>\n",
       "<polyline fill=\"none\" points=\"215,-106.5 291,-106.5 \" stroke=\"#000000\"/>\n",
       "<text fill=\"#000000\" font-family=\"Times,serif\" font-size=\"14.00\" text-anchor=\"middle\" x=\"253\" y=\"-91.3\">(None, 64)</text>\n",
       "</g>\n",
       "<!-- 139757701286936&#45;&gt;139757701287440 -->\n",
       "<g class=\"edge\" id=\"edge7\">\n",
       "<title>139757701286936-&gt;139757701287440</title>\n",
       "<path d=\"M163,-166.3799C163,-158.1745 163,-148.7679 163,-139.8786\" fill=\"none\" stroke=\"#000000\"/>\n",
       "<polygon fill=\"#000000\" points=\"166.5001,-139.784 163,-129.784 159.5001,-139.784 166.5001,-139.784\" stroke=\"#000000\"/>\n",
       "</g>\n",
       "<!-- 139757654766984 -->\n",
       "<g class=\"node\" id=\"node9\">\n",
       "<title>139757654766984</title>\n",
       "<polygon fill=\"none\" points=\"46.5,-.5 46.5,-46.5 279.5,-46.5 279.5,-.5 46.5,-.5\" stroke=\"#000000\"/>\n",
       "<text fill=\"#000000\" font-family=\"Times,serif\" font-size=\"14.00\" text-anchor=\"middle\" x=\"97.5\" y=\"-19.8\">dense_3: Dense</text>\n",
       "<polyline fill=\"none\" points=\"148.5,-.5 148.5,-46.5 \" stroke=\"#000000\"/>\n",
       "<text fill=\"#000000\" font-family=\"Times,serif\" font-size=\"14.00\" text-anchor=\"middle\" x=\"176\" y=\"-31.3\">input:</text>\n",
       "<polyline fill=\"none\" points=\"148.5,-23.5 203.5,-23.5 \" stroke=\"#000000\"/>\n",
       "<text fill=\"#000000\" font-family=\"Times,serif\" font-size=\"14.00\" text-anchor=\"middle\" x=\"176\" y=\"-8.3\">output:</text>\n",
       "<polyline fill=\"none\" points=\"203.5,-.5 203.5,-46.5 \" stroke=\"#000000\"/>\n",
       "<text fill=\"#000000\" font-family=\"Times,serif\" font-size=\"14.00\" text-anchor=\"middle\" x=\"241.5\" y=\"-31.3\">(None, 64)</text>\n",
       "<polyline fill=\"none\" points=\"203.5,-23.5 279.5,-23.5 \" stroke=\"#000000\"/>\n",
       "<text fill=\"#000000\" font-family=\"Times,serif\" font-size=\"14.00\" text-anchor=\"middle\" x=\"241.5\" y=\"-8.3\">(None, 1)</text>\n",
       "</g>\n",
       "<!-- 139757701287440&#45;&gt;139757654766984 -->\n",
       "<g class=\"edge\" id=\"edge8\">\n",
       "<title>139757701287440-&gt;139757654766984</title>\n",
       "<path d=\"M163,-83.3799C163,-75.1745 163,-65.7679 163,-56.8786\" fill=\"none\" stroke=\"#000000\"/>\n",
       "<polygon fill=\"#000000\" points=\"166.5001,-56.784 163,-46.784 159.5001,-56.784 166.5001,-56.784\" stroke=\"#000000\"/>\n",
       "</g>\n",
       "</g>\n",
       "</svg>"
      ],
      "text/plain": [
       "<IPython.core.display.SVG object>"
      ]
     },
     "execution_count": 33,
     "metadata": {},
     "output_type": "execute_result"
    }
   ],
   "source": [
    "plot_model_in_notebook(model)"
   ]
  },
  {
   "cell_type": "code",
   "execution_count": 34,
   "metadata": {},
   "outputs": [
    {
     "data": {
      "text/plain": [
       "3336449"
      ]
     },
     "execution_count": 34,
     "metadata": {},
     "output_type": "execute_result"
    }
   ],
   "source": [
    "model.count_params()"
   ]
  },
  {
   "cell_type": "markdown",
   "metadata": {},
   "source": [
    "## NOTE: more parameters!"
   ]
  },
  {
   "cell_type": "code",
   "execution_count": 35,
   "metadata": {},
   "outputs": [
    {
     "name": "stdout",
     "output_type": "stream",
     "text": [
      "Train on 20000 samples, validate on 5000 samples\n",
      "Epoch 1/5\n",
      "20000/20000 [==============================] - 16s 783us/step - loss: 0.5970 - acc: 0.6468 - val_loss: 0.3922 - val_acc: 0.8222\n",
      "Epoch 2/5\n",
      "20000/20000 [==============================] - 17s 853us/step - loss: 0.2979 - acc: 0.8773 - val_loss: 0.3411 - val_acc: 0.8534\n",
      "Epoch 3/5\n",
      "20000/20000 [==============================] - 18s 882us/step - loss: 0.1586 - acc: 0.9402 - val_loss: 0.3969 - val_acc: 0.8452\n",
      "Epoch 4/5\n",
      "20000/20000 [==============================] - 17s 850us/step - loss: 0.0753 - acc: 0.9742 - val_loss: 0.5352 - val_acc: 0.8372\n",
      "Epoch 5/5\n",
      "20000/20000 [==============================] - 17s 865us/step - loss: 0.0394 - acc: 0.9869 - val_loss: 0.6314 - val_acc: 0.8466\n"
     ]
    },
    {
     "data": {
      "text/plain": [
       "<keras.callbacks.History at 0x7f1be0289be0>"
      ]
     },
     "execution_count": 35,
     "metadata": {},
     "output_type": "execute_result"
    }
   ],
   "source": [
    "model.fit(\n",
    "    x_train, y_train, \n",
    "    validation_data=(x_val, y_val), \n",
    "    epochs=5, \n",
    "    shuffle=True, \n",
    "    batch_size=128\n",
    ")"
   ]
  },
  {
   "cell_type": "code",
   "execution_count": 36,
   "metadata": {},
   "outputs": [
    {
     "data": {
      "text/plain": [
       "Text(0.5, 0, 'epoch')"
      ]
     },
     "execution_count": 36,
     "metadata": {},
     "output_type": "execute_result"
    },
    {
     "data": {
      "image/png": "[encoded data removed]",
      "text/plain": [
       "<Figure size 1152x648 with 1 Axes>"
      ]
     },
     "metadata": {
      "needs_background": "light"
     },
     "output_type": "display_data"
    }
   ],
   "source": [
    "pd.DataFrame(model.history.history)[['acc', 'val_acc']].plot(\n",
    "    figsize=(16,9), fontsize=16, style='o', markersize=16\n",
    ")\n",
    "plt.legend(fontsize=16)\n",
    "plt.xlabel('epoch', fontsize=16)"
   ]
  },
  {
   "cell_type": "code",
   "execution_count": 60,
   "metadata": {},
   "outputs": [
    {
     "data": {
      "text/plain": [
       "0.84244"
      ]
     },
     "execution_count": 60,
     "metadata": {},
     "output_type": "execute_result"
    }
   ],
   "source": [
    "accuracy_score(y_test, model.predict(x_test) > 0.5)"
   ]
  },
  {
   "cell_type": "code",
   "execution_count": null,
   "metadata": {},
   "outputs": [],
   "source": []
  },
  {
   "cell_type": "markdown",
   "metadata": {},
   "source": [
    "# PART IV: PRETRAINED WORD EMBEDDINGS"
   ]
  },
  {
   "cell_type": "markdown",
   "metadata": {},
   "source": [
    "# Using a pretrained word embedding"
   ]
  },
  {
   "cell_type": "markdown",
   "metadata": {},
   "source": [
    "# train a model with word vectors from elsewhere"
   ]
  },
  {
   "cell_type": "markdown",
   "metadata": {},
   "source": [
    " - safe to restart notebook"
   ]
  },
  {
   "cell_type": "code",
   "execution_count": null,
   "metadata": {},
   "outputs": [],
   "source": []
  },
  {
   "cell_type": "markdown",
   "metadata": {},
   "source": [
    "# We will use a different kind of word embedding called GloVe\n",
    "## https://nlp.stanford.edu/projects/glove/\n",
    "$ \\\\ $\n",
    "\n",
    "## GloVe is based on co-occurence of words in documents\n",
    "\n",
    "## Pre-trained word vectors on huge corpora exist:\n",
    " - Wikipedia 2014 + Gigaword 5 (6B tokens, 400K vocab, uncased, 50d, 100d, 200d, & 300d vectors, 822 MB download): glove.6B.zip\n",
    " - Common Crawl (42B tokens, 1.9M vocab, uncased, 300d vectors, 1.75 GB download): glove.42B.300d.zip\n",
    " - Common Crawl (840B tokens, 2.2M vocab, cased, 300d vectors, 2.03 GB download): glove.840B.300d.zip\n",
    " - Twitter (2B tweets, 27B tokens, 1.2M vocab, uncased, 25d, 50d, 100d, & 200d vectors, 1.42 GB download): glove.twitter.27B.zip\n",
    "\n",
    "### You can download them from here\n",
    "### http://nlp.stanford.edu/data/glove.6B.zip  "
   ]
  },
  {
   "cell_type": "code",
   "execution_count": null,
   "metadata": {},
   "outputs": [],
   "source": []
  },
  {
   "cell_type": "code",
   "execution_count": 1,
   "metadata": {},
   "outputs": [
    {
     "name": "stdout",
     "output_type": "stream",
     "text": [
      "Populating the interactive namespace from numpy and matplotlib\n"
     ]
    },
    {
     "name": "stderr",
     "output_type": "stream",
     "text": [
      "Using TensorFlow backend.\n"
     ]
    }
   ],
   "source": [
    "import numpy as np\n",
    "import pandas as pd\n",
    "%pylab inline\n",
    "\n",
    "import keras\n",
    "import keras.backend as K\n",
    "\n",
    "from sklearn.linear_model import LogisticRegression\n",
    "from sklearn.metrics import accuracy_score, f1_score"
   ]
  },
  {
   "cell_type": "code",
   "execution_count": 3,
   "metadata": {},
   "outputs": [],
   "source": [
    "def load_glove_file(filepath):\n",
    "    word_to_vector = {}\n",
    "    with open(filepath) as f:\n",
    "        for line in f:\n",
    "            values = line.split()\n",
    "            word = values[0]\n",
    "            vector = np.asarray(values[1:], dtype='float32')\n",
    "            word_to_vector[word] = vector\n",
    "    return word_to_vector\n",
    "\n",
    "#word_vecs = load_glove_file('/home/mikey/sloan-course/data/glove/glove.6B.50d.txt')\n",
    "#word_vecs = load_glove_file('/home/mikey/Documents/data/glove/glove.6B.50d.txt')\n",
    "word_vecs = load_glove_file('/Users/hermannviktor/Python/Databases/glove.6B.50d.txt')"
   ]
  },
  {
   "cell_type": "code",
   "execution_count": 4,
   "metadata": {},
   "outputs": [
    {
     "data": {
      "text/plain": [
       "400000"
      ]
     },
     "execution_count": 4,
     "metadata": {},
     "output_type": "execute_result"
    }
   ],
   "source": [
    "len(word_vecs)"
   ]
  },
  {
   "cell_type": "code",
   "execution_count": 5,
   "metadata": {},
   "outputs": [
    {
     "data": {
      "text/plain": [
       "array([ 4.1800e-01,  2.4968e-01, -4.1242e-01,  1.2170e-01,  3.4527e-01,\n",
       "       -4.4457e-02, -4.9688e-01, -1.7862e-01, -6.6023e-04, -6.5660e-01,\n",
       "        2.7843e-01, -1.4767e-01, -5.5677e-01,  1.4658e-01, -9.5095e-03,\n",
       "        1.1658e-02,  1.0204e-01, -1.2792e-01, -8.4430e-01, -1.2181e-01,\n",
       "       -1.6801e-02, -3.3279e-01, -1.5520e-01, -2.3131e-01, -1.9181e-01,\n",
       "       -1.8823e+00, -7.6746e-01,  9.9051e-02, -4.2125e-01, -1.9526e-01,\n",
       "        4.0071e+00, -1.8594e-01, -5.2287e-01, -3.1681e-01,  5.9213e-04,\n",
       "        7.4449e-03,  1.7778e-01, -1.5897e-01,  1.2041e-02, -5.4223e-02,\n",
       "       -2.9871e-01, -1.5749e-01, -3.4758e-01, -4.5637e-02, -4.4251e-01,\n",
       "        1.8785e-01,  2.7849e-03, -1.8411e-01, -1.1514e-01, -7.8581e-01],\n",
       "      dtype=float32)"
      ]
     },
     "execution_count": 5,
     "metadata": {},
     "output_type": "execute_result"
    }
   ],
   "source": [
    "word_vecs['the']"
   ]
  },
  {
   "cell_type": "code",
   "execution_count": 5,
   "metadata": {},
   "outputs": [
    {
     "data": {
      "text/html": [
       "<div>\n",
       "<style scoped>\n",
       "    .dataframe tbody tr th:only-of-type {\n",
       "        vertical-align: middle;\n",
       "    }\n",
       "\n",
       "    .dataframe tbody tr th {\n",
       "        vertical-align: top;\n",
       "    }\n",
       "\n",
       "    .dataframe thead th {\n",
       "        text-align: right;\n",
       "    }\n",
       "</style>\n",
       "<table border=\"1\" class=\"dataframe\">\n",
       "  <thead>\n",
       "    <tr style=\"text-align: right;\">\n",
       "      <th></th>\n",
       "      <th>0</th>\n",
       "      <th>1</th>\n",
       "      <th>2</th>\n",
       "      <th>3</th>\n",
       "      <th>4</th>\n",
       "      <th>5</th>\n",
       "      <th>6</th>\n",
       "      <th>7</th>\n",
       "      <th>8</th>\n",
       "      <th>9</th>\n",
       "      <th>...</th>\n",
       "      <th>40</th>\n",
       "      <th>41</th>\n",
       "      <th>42</th>\n",
       "      <th>43</th>\n",
       "      <th>44</th>\n",
       "      <th>45</th>\n",
       "      <th>46</th>\n",
       "      <th>47</th>\n",
       "      <th>48</th>\n",
       "      <th>49</th>\n",
       "    </tr>\n",
       "  </thead>\n",
       "  <tbody>\n",
       "    <tr>\n",
       "      <th>the</th>\n",
       "      <td>0.418000</td>\n",
       "      <td>0.249680</td>\n",
       "      <td>-0.41242</td>\n",
       "      <td>0.12170</td>\n",
       "      <td>0.34527</td>\n",
       "      <td>-0.044457</td>\n",
       "      <td>-0.49688</td>\n",
       "      <td>-0.17862</td>\n",
       "      <td>-0.00066</td>\n",
       "      <td>-0.656600</td>\n",
       "      <td>...</td>\n",
       "      <td>-0.298710</td>\n",
       "      <td>-0.157490</td>\n",
       "      <td>-0.347580</td>\n",
       "      <td>-0.045637</td>\n",
       "      <td>-0.44251</td>\n",
       "      <td>0.187850</td>\n",
       "      <td>0.002785</td>\n",
       "      <td>-0.184110</td>\n",
       "      <td>-0.115140</td>\n",
       "      <td>-0.78581</td>\n",
       "    </tr>\n",
       "    <tr>\n",
       "      <th>,</th>\n",
       "      <td>0.013441</td>\n",
       "      <td>0.236820</td>\n",
       "      <td>-0.16899</td>\n",
       "      <td>0.40951</td>\n",
       "      <td>0.63812</td>\n",
       "      <td>0.477090</td>\n",
       "      <td>-0.42852</td>\n",
       "      <td>-0.55641</td>\n",
       "      <td>-0.36400</td>\n",
       "      <td>-0.239380</td>\n",
       "      <td>...</td>\n",
       "      <td>-0.080262</td>\n",
       "      <td>0.630030</td>\n",
       "      <td>0.321110</td>\n",
       "      <td>-0.467650</td>\n",
       "      <td>0.22786</td>\n",
       "      <td>0.360340</td>\n",
       "      <td>-0.378180</td>\n",
       "      <td>-0.566570</td>\n",
       "      <td>0.044691</td>\n",
       "      <td>0.30392</td>\n",
       "    </tr>\n",
       "    <tr>\n",
       "      <th>.</th>\n",
       "      <td>0.151640</td>\n",
       "      <td>0.301770</td>\n",
       "      <td>-0.16763</td>\n",
       "      <td>0.17684</td>\n",
       "      <td>0.31719</td>\n",
       "      <td>0.339730</td>\n",
       "      <td>-0.43478</td>\n",
       "      <td>-0.31086</td>\n",
       "      <td>-0.44999</td>\n",
       "      <td>-0.294860</td>\n",
       "      <td>...</td>\n",
       "      <td>-0.000064</td>\n",
       "      <td>0.068987</td>\n",
       "      <td>0.087939</td>\n",
       "      <td>-0.102850</td>\n",
       "      <td>-0.13931</td>\n",
       "      <td>0.223140</td>\n",
       "      <td>-0.080803</td>\n",
       "      <td>-0.356520</td>\n",
       "      <td>0.016413</td>\n",
       "      <td>0.10216</td>\n",
       "    </tr>\n",
       "    <tr>\n",
       "      <th>of</th>\n",
       "      <td>0.708530</td>\n",
       "      <td>0.570880</td>\n",
       "      <td>-0.47160</td>\n",
       "      <td>0.18048</td>\n",
       "      <td>0.54449</td>\n",
       "      <td>0.726030</td>\n",
       "      <td>0.18157</td>\n",
       "      <td>-0.52393</td>\n",
       "      <td>0.10381</td>\n",
       "      <td>-0.175660</td>\n",
       "      <td>...</td>\n",
       "      <td>-0.347270</td>\n",
       "      <td>0.284830</td>\n",
       "      <td>0.075693</td>\n",
       "      <td>-0.062178</td>\n",
       "      <td>-0.38988</td>\n",
       "      <td>0.229020</td>\n",
       "      <td>-0.216170</td>\n",
       "      <td>-0.225620</td>\n",
       "      <td>-0.093918</td>\n",
       "      <td>-0.80375</td>\n",
       "    </tr>\n",
       "    <tr>\n",
       "      <th>to</th>\n",
       "      <td>0.680470</td>\n",
       "      <td>-0.039263</td>\n",
       "      <td>0.30186</td>\n",
       "      <td>-0.17792</td>\n",
       "      <td>0.42962</td>\n",
       "      <td>0.032246</td>\n",
       "      <td>-0.41376</td>\n",
       "      <td>0.13228</td>\n",
       "      <td>-0.29847</td>\n",
       "      <td>-0.085253</td>\n",
       "      <td>...</td>\n",
       "      <td>-0.094375</td>\n",
       "      <td>0.018324</td>\n",
       "      <td>0.210480</td>\n",
       "      <td>-0.030880</td>\n",
       "      <td>-0.19722</td>\n",
       "      <td>0.082279</td>\n",
       "      <td>-0.094340</td>\n",
       "      <td>-0.073297</td>\n",
       "      <td>-0.064699</td>\n",
       "      <td>-0.26044</td>\n",
       "    </tr>\n",
       "  </tbody>\n",
       "</table>\n",
       "<p>5 rows × 50 columns</p>\n",
       "</div>"
      ],
      "text/plain": [
       "           0         1        2        3        4         5        6   \\\n",
       "the  0.418000  0.249680 -0.41242  0.12170  0.34527 -0.044457 -0.49688   \n",
       ",    0.013441  0.236820 -0.16899  0.40951  0.63812  0.477090 -0.42852   \n",
       ".    0.151640  0.301770 -0.16763  0.17684  0.31719  0.339730 -0.43478   \n",
       "of   0.708530  0.570880 -0.47160  0.18048  0.54449  0.726030  0.18157   \n",
       "to   0.680470 -0.039263  0.30186 -0.17792  0.42962  0.032246 -0.41376   \n",
       "\n",
       "          7        8         9    ...           40        41        42  \\\n",
       "the -0.17862 -0.00066 -0.656600   ...    -0.298710 -0.157490 -0.347580   \n",
       ",   -0.55641 -0.36400 -0.239380   ...    -0.080262  0.630030  0.321110   \n",
       ".   -0.31086 -0.44999 -0.294860   ...    -0.000064  0.068987  0.087939   \n",
       "of  -0.52393  0.10381 -0.175660   ...    -0.347270  0.284830  0.075693   \n",
       "to   0.13228 -0.29847 -0.085253   ...    -0.094375  0.018324  0.210480   \n",
       "\n",
       "           43       44        45        46        47        48       49  \n",
       "the -0.045637 -0.44251  0.187850  0.002785 -0.184110 -0.115140 -0.78581  \n",
       ",   -0.467650  0.22786  0.360340 -0.378180 -0.566570  0.044691  0.30392  \n",
       ".   -0.102850 -0.13931  0.223140 -0.080803 -0.356520  0.016413  0.10216  \n",
       "of  -0.062178 -0.38988  0.229020 -0.216170 -0.225620 -0.093918 -0.80375  \n",
       "to  -0.030880 -0.19722  0.082279 -0.094340 -0.073297 -0.064699 -0.26044  \n",
       "\n",
       "[5 rows x 50 columns]"
      ]
     },
     "execution_count": 5,
     "metadata": {},
     "output_type": "execute_result"
    }
   ],
   "source": [
    "pd.DataFrame.from_dict(word_vecs, orient='index').head()"
   ]
  },
  {
   "cell_type": "code",
   "execution_count": 6,
   "metadata": {},
   "outputs": [],
   "source": [
    "from sklearn.metrics.pairwise import cosine_similarity\n",
    "def most_similar(embeddings_df, word, topn=10):\n",
    "    ser = embeddings_df.loc[word]\n",
    "    return most_similar_to_series(\n",
    "        embeddings_df, \n",
    "        ser, \n",
    "        topn=topn+1\n",
    "    ).drop(word)\n",
    "\n",
    "\n",
    "def most_similar_to_series(embeddings_df, ser, topn=10):\n",
    "    similarities = cosine_similarity(\n",
    "        embeddings_df.values, \n",
    "        ser.values.reshape(1, -1)\n",
    "    )\n",
    "    similarities = pd.Series(\n",
    "        similarities.squeeze(),\n",
    "        index=embeddings_df.index\n",
    "    )\n",
    "    return similarities.nlargest(topn)"
   ]
  },
  {
   "cell_type": "code",
   "execution_count": 7,
   "metadata": {},
   "outputs": [],
   "source": [
    "df = pd.DataFrame.from_dict(word_vecs, orient='index')"
   ]
  },
  {
   "cell_type": "code",
   "execution_count": 8,
   "metadata": {},
   "outputs": [
    {
     "data": {
      "text/plain": [
       "prince     0.823618\n",
       "queen      0.783904\n",
       "ii         0.774623\n",
       "emperor    0.773625\n",
       "son        0.766719\n",
       "uncle      0.762715\n",
       "kingdom    0.754216\n",
       "throne     0.753991\n",
       "brother    0.749241\n",
       "ruler      0.743425\n",
       "dtype: float64"
      ]
     },
     "execution_count": 8,
     "metadata": {},
     "output_type": "execute_result"
    }
   ],
   "source": [
    "word = 'king'\n",
    "most_similar(df, word)"
   ]
  },
  {
   "cell_type": "code",
   "execution_count": 9,
   "metadata": {},
   "outputs": [
    {
     "data": {
      "text/plain": [
       "king         0.885983\n",
       "queen        0.860958\n",
       "daughter     0.768451\n",
       "prince       0.764070\n",
       "throne       0.763497\n",
       "princess     0.751273\n",
       "elizabeth    0.750649\n",
       "father       0.731450\n",
       "kingdom      0.729616\n",
       "mother       0.728001\n",
       "dtype: float64"
      ]
     },
     "execution_count": 9,
     "metadata": {},
     "output_type": "execute_result"
    }
   ],
   "source": [
    "ser = df.loc['king'] - df.loc['man'] + df.loc['woman']\n",
    "#ser\n",
    "most_similar_to_series(df, ser)"
   ]
  },
  {
   "cell_type": "code",
   "execution_count": null,
   "metadata": {},
   "outputs": [],
   "source": []
  },
  {
   "cell_type": "markdown",
   "metadata": {},
   "source": [
    "# Plan of attack\n",
    "## 1. Load data\n",
    "## 2. Split text into sequences of words\n",
    "## 3. Turn words into ints\n",
    " - we will keep a map of word $\\rightarrow$ int and int $\\rightarrow$ word\n",
    "\n",
    "## 4. Make all sequences the same length\n",
    "## 5. Turn `ints` into word-vectors\n",
    "## 6. Build a model"
   ]
  },
  {
   "cell_type": "code",
   "execution_count": null,
   "metadata": {},
   "outputs": [],
   "source": []
  },
  {
   "cell_type": "markdown",
   "metadata": {},
   "source": [
    "# We need the raw text for the imdb data\n",
    "## free to download: http://ai.stanford.edu/~amaas/data/sentiment/"
   ]
  },
  {
   "cell_type": "code",
   "execution_count": null,
   "metadata": {},
   "outputs": [],
   "source": []
  },
  {
   "cell_type": "code",
   "execution_count": 10,
   "metadata": {},
   "outputs": [],
   "source": [
    "import os\n",
    "import glob\n",
    "\n",
    "\n",
    "def load_imdb_data_text(imdb_data_dir, random_seed=1234):\n",
    "    train_dir = os.path.join(imdb_data_dir, 'train')\n",
    "    test_dir = os.path.join(imdb_data_dir, 'test')\n",
    "\n",
    "    np.random.seed(random_seed)\n",
    "    texts = []\n",
    "    targets = []\n",
    "    for label in ('pos', 'neg'):\n",
    "        data_dir = os.path.join(train_dir, label)\n",
    "        files = glob.glob(os.path.join(data_dir, '*.txt'))\n",
    "        for filename in files:\n",
    "            with open(filename) as fi:\n",
    "                text = fi.read()\n",
    "            if label == 'pos':\n",
    "                target = 1\n",
    "            else:\n",
    "                target = 0\n",
    "            texts.append(text)\n",
    "            targets.append(target)\n",
    "\n",
    "    train_docs = texts\n",
    "    y_train = np.array(targets)\n",
    "\n",
    "\n",
    "    texts = []\n",
    "    targets = []\n",
    "    for label in ('pos', 'neg'):\n",
    "        data_dir = os.path.join(test_dir, label)\n",
    "        files = glob.glob(os.path.join(data_dir, '*.txt'))\n",
    "        for filename in files:\n",
    "            with open(filename) as fi:\n",
    "                text = fi.read()\n",
    "            if label == 'pos':\n",
    "                target = 1\n",
    "            else:\n",
    "                target = 0\n",
    "            texts.append(text)\n",
    "            targets.append(target)\n",
    "\n",
    "    test_docs = texts\n",
    "    y_test = np.array(targets)\n",
    "\n",
    "    inds = np.arange(y_train.shape[0])\n",
    "    np.random.shuffle(inds)\n",
    "\n",
    "    train_docs = [train_docs[i] for i in inds]\n",
    "    y_train = y_train[inds]\n",
    "    \n",
    "    return (train_docs, y_train), (test_docs, y_test)\n",
    "\n"
   ]
  },
  {
   "cell_type": "code",
   "execution_count": 11,
   "metadata": {},
   "outputs": [],
   "source": [
    "# 1. Load the data\n",
    "IMDB_DIR = '/home/mikey/Documents/data/aclImdb/'\n",
    "(train_docs, y_train), (test_docs, y_test) = load_imdb_data_text(IMDB_DIR)"
   ]
  },
  {
   "cell_type": "code",
   "execution_count": 12,
   "metadata": {},
   "outputs": [
    {
     "name": "stdout",
     "output_type": "stream",
     "text": [
      "There is something kind of sad about seeing someone who is so good at doing something try to do something very different ... and end up being mediocre. I was thinking about Jordan playing baseball, but the same applies to Steve Martin.<br /><br />This movie is reasonably well acted and directed, but the script is a stinker. Martin did a great job adapting a classic story into a comedy in \"Roxanne\", but this effort to bring a Victorian drama to the contemporary scene smacks straight into a wall of implausibility. If you want to see an old story updated with some style, best to rent \"Great Expectations\".\n",
      "0\n"
     ]
    }
   ],
   "source": [
    "print(train_docs[4])\n",
    "print(y_train[4])"
   ]
  },
  {
   "cell_type": "code",
   "execution_count": 13,
   "metadata": {},
   "outputs": [],
   "source": [
    "# 2-3: Turn text (articles) into sequences of ints\n",
    "from keras.preprocessing.text import Tokenizer\n",
    "from keras.preprocessing.sequence import pad_sequences\n",
    "from keras.utils import to_categorical"
   ]
  },
  {
   "cell_type": "code",
   "execution_count": 14,
   "metadata": {},
   "outputs": [],
   "source": [
    "tok = Tokenizer()\n",
    "tok.texts_to_sequences?"
   ]
  },
  {
   "cell_type": "code",
   "execution_count": 15,
   "metadata": {},
   "outputs": [
    {
     "data": {
      "text/plain": [
       "50"
      ]
     },
     "execution_count": 15,
     "metadata": {},
     "output_type": "execute_result"
    }
   ],
   "source": [
    "# Some constants\n",
    "MAX_WORDS = 30000\n",
    "MAX_SEQ_LEN = 125\n",
    "EMBEDDING_DIM = word_vecs['the'].shape[0]\n",
    "EMBEDDING_DIM"
   ]
  },
  {
   "cell_type": "code",
   "execution_count": 16,
   "metadata": {},
   "outputs": [],
   "source": [
    "tok = Tokenizer(num_words=MAX_WORDS)\n",
    "tok.fit_on_texts(train_docs)\n",
    "\n",
    "int_sequences_train = tok.texts_to_sequences(train_docs)\n",
    "int_sequences_test = tok.texts_to_sequences(test_docs)\n"
   ]
  },
  {
   "cell_type": "code",
   "execution_count": 17,
   "metadata": {},
   "outputs": [
    {
     "data": {
      "text/plain": [
       "[1, 9878, 2345, 6, 206, 3, 821, 28, 4, 1]"
      ]
     },
     "execution_count": 17,
     "metadata": {},
     "output_type": "execute_result"
    }
   ],
   "source": [
    "int_sequences_train[0][:10]"
   ]
  },
  {
   "cell_type": "code",
   "execution_count": 18,
   "metadata": {},
   "outputs": [
    {
     "data": {
      "text/plain": [
       "['the', 'beaver', 'trilogy', 'is', 'without', 'a', 'doubt', 'one', 'of', 'the']"
      ]
     },
     "execution_count": 18,
     "metadata": {},
     "output_type": "execute_result"
    }
   ],
   "source": [
    "reverse_lookup = {index: word for word, index in tok.word_index.items()}\n",
    "[reverse_lookup.get(ii) for ii in int_sequences_train[0][:10]]"
   ]
  },
  {
   "cell_type": "code",
   "execution_count": 19,
   "metadata": {},
   "outputs": [
    {
     "data": {
      "text/plain": [
       "[221, 139, 70]"
      ]
     },
     "execution_count": 19,
     "metadata": {},
     "output_type": "execute_result"
    }
   ],
   "source": [
    "[len(seq) for seq in int_sequences_train[:3]]"
   ]
  },
  {
   "cell_type": "code",
   "execution_count": 20,
   "metadata": {},
   "outputs": [
    {
     "data": {
      "text/plain": [
       "1"
      ]
     },
     "execution_count": 20,
     "metadata": {},
     "output_type": "execute_result"
    }
   ],
   "source": [
    "min(tok.word_index.values())"
   ]
  },
  {
   "cell_type": "markdown",
   "metadata": {},
   "source": [
    "# We will reserve 0 as a padding value"
   ]
  },
  {
   "cell_type": "code",
   "execution_count": null,
   "metadata": {},
   "outputs": [],
   "source": []
  },
  {
   "cell_type": "code",
   "execution_count": 21,
   "metadata": {},
   "outputs": [],
   "source": [
    "# 4. Turn into same length sequences\n",
    "int_sequences_train = pad_sequences(\n",
    "    int_sequences_train, MAX_SEQ_LEN)\n",
    "int_sequences_test = pad_sequences(\n",
    "    int_sequences_test, MAX_SEQ_LEN)"
   ]
  },
  {
   "cell_type": "code",
   "execution_count": 22,
   "metadata": {},
   "outputs": [
    {
     "data": {
      "text/plain": [
       "[125, 125, 125]"
      ]
     },
     "execution_count": 22,
     "metadata": {},
     "output_type": "execute_result"
    }
   ],
   "source": [
    "[len(seq) for seq in int_sequences_train[:3]]"
   ]
  },
  {
   "cell_type": "code",
   "execution_count": 23,
   "metadata": {},
   "outputs": [
    {
     "data": {
      "text/plain": [
       "array([ 2345,     6,    21, 11307,     7,     7,   100,   257,   107,\n",
       "           1,  2345,     3,   168,   208,    10,    78,    25,     5,\n",
       "         971,    12,    10,    97,   239,    78,   206,     1,  2043,\n",
       "        6436,   307,    42,    37,     3,   350,    43,   307,    15,\n",
       "           1, 10307,  3626,   550,  2419,     2,     6,   218,    50,\n",
       "          14,     3,  3606,  5844,    45,   332,     3,  6436,   334,\n",
       "          71,     9,   109,     3,    49,   371,  6436,     6,   181,\n",
       "         160,   148,     2,    22,    67,    64,     1, 14360,     4,\n",
       "           3,   191,   320,     8,    11,  2537,   500,  1983,   371,\n",
       "           7,     7,    11,     6,   239,    79,    28,     4, 10307,\n",
       "       12997,   115,   552,     2,    10,    59,    40,   116,     5,\n",
       "          64,    32,  6538,   659,    41,     1,   201, 27631,  1992,\n",
       "         277,    22,    64,    11,    19,   487,   112,    76, 20598,\n",
       "        4416,  2124,    43,     4,   126,   416,   123,   171],\n",
       "      dtype=int32)"
      ]
     },
     "execution_count": 23,
     "metadata": {},
     "output_type": "execute_result"
    }
   ],
   "source": [
    "int_sequences_train[0]"
   ]
  },
  {
   "cell_type": "code",
   "execution_count": 24,
   "metadata": {},
   "outputs": [
    {
     "data": {
      "text/plain": [
       "['trilogy',\n",
       " 'is',\n",
       " 'not',\n",
       " 'trent',\n",
       " 'br',\n",
       " 'br',\n",
       " 'after',\n",
       " 'having',\n",
       " 'seen',\n",
       " 'the',\n",
       " 'trilogy',\n",
       " 'a',\n",
       " 'few',\n",
       " 'times',\n",
       " 'i',\n",
       " 'do',\n",
       " 'have',\n",
       " 'to',\n",
       " 'admit',\n",
       " 'that',\n",
       " 'i',\n",
       " 'could',\n",
       " 'probably',\n",
       " 'do',\n",
       " 'without',\n",
       " 'the',\n",
       " 'sean',\n",
       " 'penn',\n",
       " 'version',\n",
       " \"it's\",\n",
       " 'like',\n",
       " 'a',\n",
       " 'try',\n",
       " 'out',\n",
       " 'version',\n",
       " 'for',\n",
       " 'the',\n",
       " 'crispin',\n",
       " 'glover',\n",
       " 'kid',\n",
       " 'section',\n",
       " 'and',\n",
       " 'is',\n",
       " 'interesting',\n",
       " 'more',\n",
       " 'as',\n",
       " 'a',\n",
       " 'curiosity',\n",
       " 'item',\n",
       " 'if',\n",
       " \"you're\",\n",
       " 'a',\n",
       " 'penn',\n",
       " 'fan',\n",
       " 'than',\n",
       " 'it',\n",
       " 'being',\n",
       " 'a',\n",
       " 'good',\n",
       " 'video',\n",
       " 'penn',\n",
       " 'is',\n",
       " 'pretty',\n",
       " 'funny',\n",
       " 'though',\n",
       " 'and',\n",
       " 'you',\n",
       " 'can',\n",
       " 'see',\n",
       " 'the',\n",
       " 'makings',\n",
       " 'of',\n",
       " 'a',\n",
       " 'big',\n",
       " 'star',\n",
       " 'in',\n",
       " 'this',\n",
       " 'gritty',\n",
       " 'b',\n",
       " 'w',\n",
       " 'video',\n",
       " 'br',\n",
       " 'br',\n",
       " 'this',\n",
       " 'is',\n",
       " 'probably',\n",
       " 'also',\n",
       " 'one',\n",
       " 'of',\n",
       " 'crispin',\n",
       " \"glover's\",\n",
       " 'best',\n",
       " 'roles',\n",
       " 'and',\n",
       " 'i',\n",
       " 'would',\n",
       " 'just',\n",
       " 'love',\n",
       " 'to',\n",
       " 'see',\n",
       " 'an',\n",
       " 'updated',\n",
       " 'documentary',\n",
       " 'about',\n",
       " 'the',\n",
       " 'original',\n",
       " \"groovin'\",\n",
       " 'gary',\n",
       " 'once',\n",
       " 'you',\n",
       " 'see',\n",
       " 'this',\n",
       " 'film',\n",
       " \"you'll\",\n",
       " 'never',\n",
       " 'get',\n",
       " \"gary's\",\n",
       " 'nervous',\n",
       " 'laughter',\n",
       " 'out',\n",
       " 'of',\n",
       " 'your',\n",
       " 'head',\n",
       " 'ever',\n",
       " 'again']"
      ]
     },
     "execution_count": 24,
     "metadata": {},
     "output_type": "execute_result"
    }
   ],
   "source": [
    "[reverse_lookup.get(ii) for ii in int_sequences_train[0] if ii > 0]"
   ]
  },
  {
   "cell_type": "code",
   "execution_count": null,
   "metadata": {},
   "outputs": [],
   "source": []
  },
  {
   "cell_type": "markdown",
   "metadata": {},
   "source": [
    "## We need an embedding matrix that is ordered!"
   ]
  },
  {
   "cell_type": "code",
   "execution_count": 25,
   "metadata": {},
   "outputs": [
    {
     "data": {
      "text/plain": [
       "(1, 88582)"
      ]
     },
     "execution_count": 25,
     "metadata": {},
     "output_type": "execute_result"
    }
   ],
   "source": [
    "min(tok.word_index.values()), max(tok.word_index.values())"
   ]
  },
  {
   "cell_type": "code",
   "execution_count": 26,
   "metadata": {},
   "outputs": [
    {
     "data": {
      "text/plain": [
       "30000"
      ]
     },
     "execution_count": 26,
     "metadata": {},
     "output_type": "execute_result"
    }
   ],
   "source": [
    "num_words = min(MAX_WORDS, len(tok.word_index) + 1)\n",
    "num_words"
   ]
  },
  {
   "cell_type": "code",
   "execution_count": null,
   "metadata": {},
   "outputs": [],
   "source": []
  },
  {
   "cell_type": "code",
   "execution_count": 27,
   "metadata": {},
   "outputs": [],
   "source": [
    "# make an embedding matrix\n",
    "embedding_matrix = np.zeros((num_words, EMBEDDING_DIM))\n",
    "for word, i in tok.word_index.items():\n",
    "    if i >= MAX_WORDS:\n",
    "        continue\n",
    "    embedding_vector = word_vecs.get(word)\n",
    "    if embedding_vector is not None:\n",
    "        # words not found in embedding index will be all-zeros.\n",
    "        embedding_matrix[i] = embedding_vector"
   ]
  },
  {
   "cell_type": "code",
   "execution_count": 28,
   "metadata": {},
   "outputs": [
    {
     "data": {
      "text/plain": [
       "array([0., 0., 0., 0., 0., 0., 0., 0., 0., 0., 0., 0., 0., 0., 0., 0., 0.,\n",
       "       0., 0., 0., 0., 0., 0., 0., 0., 0., 0., 0., 0., 0., 0., 0., 0., 0.,\n",
       "       0., 0., 0., 0., 0., 0., 0., 0., 0., 0., 0., 0., 0., 0., 0., 0.])"
      ]
     },
     "execution_count": 28,
     "metadata": {},
     "output_type": "execute_result"
    }
   ],
   "source": [
    "embedding_matrix[0]"
   ]
  },
  {
   "cell_type": "code",
   "execution_count": 29,
   "metadata": {},
   "outputs": [
    {
     "data": {
      "text/plain": [
       "(30000, 50)"
      ]
     },
     "execution_count": 29,
     "metadata": {},
     "output_type": "execute_result"
    }
   ],
   "source": [
    "embedding_matrix.shape"
   ]
  },
  {
   "cell_type": "code",
   "execution_count": 30,
   "metadata": {},
   "outputs": [],
   "source": [
    "# split the data\n",
    "inds = np.arange(int_sequences_train.shape[0])\n",
    "np.random.shuffle(inds)\n",
    "int_sequences_train = int_sequences_train[inds]\n",
    "y_train = y_train[inds]\n",
    "\n",
    "cut = int(0.9 * int_sequences_train.shape[0])\n",
    "int_sequences_train, int_sequences_val = (\n",
    "    int_sequences_train[:cut], int_sequences_train[cut:]\n",
    ")\n",
    "y_train, y_val = y_train[:cut], y_train[cut:]\n"
   ]
  },
  {
   "cell_type": "code",
   "execution_count": 31,
   "metadata": {},
   "outputs": [
    {
     "data": {
      "text/plain": [
       "(22500, 125)"
      ]
     },
     "execution_count": 31,
     "metadata": {},
     "output_type": "execute_result"
    }
   ],
   "source": [
    "int_sequences_train.shape"
   ]
  },
  {
   "cell_type": "code",
   "execution_count": null,
   "metadata": {},
   "outputs": [],
   "source": []
  },
  {
   "cell_type": "code",
   "execution_count": 32,
   "metadata": {},
   "outputs": [],
   "source": [
    "from keras.models import Model, Input\n",
    "from keras.layers import Dense, Softmax, Dropout, Embedding, GlobalAveragePooling1D, GlobalMaxPooling1D\n",
    "from keras.initializers import Constant\n",
    "import keras.backend as K\n",
    "\n",
    "K.clear_session()\n",
    "\n",
    "word_input = Input(shape=(MAX_SEQ_LEN,), dtype='int32')\n",
    "\n",
    "hidden_state = Embedding(\n",
    "    MAX_WORDS, \n",
    "    EMBEDDING_DIM,\n",
    "    embeddings_initializer=Constant(embedding_matrix),\n",
    "    trainable=False,\n",
    "    input_length=MAX_SEQ_LEN)(word_input)\n",
    "\n",
    "hidden_state = Dropout(0.2)(hidden_state)\n",
    "hidden_state = Dense(128, activation='relu')(hidden_state)\n",
    "hidden_state = Dropout(0.5)(hidden_state)\n",
    "hidden_state = GlobalAveragePooling1D()(hidden_state)\n",
    "hidden_state = Dense(64, activation='relu')(hidden_state)\n",
    "hidden_state = Dropout(0.5)(hidden_state)\n",
    "\n",
    "output = Dense(1, activation='sigmoid')(hidden_state)\n",
    "\n",
    "model = Model(word_input, output)\n",
    "model.compile(optimizer='rmsprop', \n",
    "              loss='binary_crossentropy', \n",
    "              metrics=['accuracy']\n",
    "             )\n"
   ]
  },
  {
   "cell_type": "code",
   "execution_count": 33,
   "metadata": {},
   "outputs": [
    {
     "data": {
      "image/svg+xml": [
       "<svg height=\"719pt\" viewBox=\"0.00 0.00 496.00 719.00\" width=\"496pt\" xmlns=\"http://www.w3.org/2000/svg\" xmlns:xlink=\"http://www.w3.org/1999/xlink\">\n",
       "<g class=\"graph\" id=\"graph0\" transform=\"scale(1 1) rotate(0) translate(4 715)\">\n",
       "<title>G</title>\n",
       "<polygon fill=\"#ffffff\" points=\"-4,4 -4,-715 492,-715 492,4 -4,4\" stroke=\"transparent\"/>\n",
       "<!-- 140046738511016 -->\n",
       "<g class=\"node\" id=\"node1\">\n",
       "<title>140046738511016</title>\n",
       "<polygon fill=\"none\" points=\"112.5,-664.5 112.5,-710.5 375.5,-710.5 375.5,-664.5 112.5,-664.5\" stroke=\"#000000\"/>\n",
       "<text fill=\"#000000\" font-family=\"Times,serif\" font-size=\"14.00\" text-anchor=\"middle\" x=\"175\" y=\"-683.8\">input_1: InputLayer</text>\n",
       "<polyline fill=\"none\" points=\"237.5,-664.5 237.5,-710.5 \" stroke=\"#000000\"/>\n",
       "<text fill=\"#000000\" font-family=\"Times,serif\" font-size=\"14.00\" text-anchor=\"middle\" x=\"265\" y=\"-695.3\">input:</text>\n",
       "<polyline fill=\"none\" points=\"237.5,-687.5 292.5,-687.5 \" stroke=\"#000000\"/>\n",
       "<text fill=\"#000000\" font-family=\"Times,serif\" font-size=\"14.00\" text-anchor=\"middle\" x=\"265\" y=\"-672.3\">output:</text>\n",
       "<polyline fill=\"none\" points=\"292.5,-664.5 292.5,-710.5 \" stroke=\"#000000\"/>\n",
       "<text fill=\"#000000\" font-family=\"Times,serif\" font-size=\"14.00\" text-anchor=\"middle\" x=\"334\" y=\"-695.3\">(None, 125)</text>\n",
       "<polyline fill=\"none\" points=\"292.5,-687.5 375.5,-687.5 \" stroke=\"#000000\"/>\n",
       "<text fill=\"#000000\" font-family=\"Times,serif\" font-size=\"14.00\" text-anchor=\"middle\" x=\"334\" y=\"-672.3\">(None, 125)</text>\n",
       "</g>\n",
       "<!-- 140047139850000 -->\n",
       "<g class=\"node\" id=\"node2\">\n",
       "<title>140047139850000</title>\n",
       "<polygon fill=\"none\" points=\"84,-581.5 84,-627.5 404,-627.5 404,-581.5 84,-581.5\" stroke=\"#000000\"/>\n",
       "<text fill=\"#000000\" font-family=\"Times,serif\" font-size=\"14.00\" text-anchor=\"middle\" x=\"164.5\" y=\"-600.8\">embedding_1: Embedding</text>\n",
       "<polyline fill=\"none\" points=\"245,-581.5 245,-627.5 \" stroke=\"#000000\"/>\n",
       "<text fill=\"#000000\" font-family=\"Times,serif\" font-size=\"14.00\" text-anchor=\"middle\" x=\"272.5\" y=\"-612.3\">input:</text>\n",
       "<polyline fill=\"none\" points=\"245,-604.5 300,-604.5 \" stroke=\"#000000\"/>\n",
       "<text fill=\"#000000\" font-family=\"Times,serif\" font-size=\"14.00\" text-anchor=\"middle\" x=\"272.5\" y=\"-589.3\">output:</text>\n",
       "<polyline fill=\"none\" points=\"300,-581.5 300,-627.5 \" stroke=\"#000000\"/>\n",
       "<text fill=\"#000000\" font-family=\"Times,serif\" font-size=\"14.00\" text-anchor=\"middle\" x=\"352\" y=\"-612.3\">(None, 125)</text>\n",
       "<polyline fill=\"none\" points=\"300,-604.5 404,-604.5 \" stroke=\"#000000\"/>\n",
       "<text fill=\"#000000\" font-family=\"Times,serif\" font-size=\"14.00\" text-anchor=\"middle\" x=\"352\" y=\"-589.3\">(None, 125, 50)</text>\n",
       "</g>\n",
       "<!-- 140046738511016&#45;&gt;140047139850000 -->\n",
       "<g class=\"edge\" id=\"edge1\">\n",
       "<title>140046738511016-&gt;140047139850000</title>\n",
       "<path d=\"M244,-664.3799C244,-656.1745 244,-646.7679 244,-637.8786\" fill=\"none\" stroke=\"#000000\"/>\n",
       "<polygon fill=\"#000000\" points=\"247.5001,-637.784 244,-627.784 240.5001,-637.784 247.5001,-637.784\" stroke=\"#000000\"/>\n",
       "</g>\n",
       "<!-- 140046738144560 -->\n",
       "<g class=\"node\" id=\"node3\">\n",
       "<title>140046738144560</title>\n",
       "<polygon fill=\"none\" points=\"102,-498.5 102,-544.5 386,-544.5 386,-498.5 102,-498.5\" stroke=\"#000000\"/>\n",
       "<text fill=\"#000000\" font-family=\"Times,serif\" font-size=\"14.00\" text-anchor=\"middle\" x=\"164.5\" y=\"-517.8\">dropout_1: Dropout</text>\n",
       "<polyline fill=\"none\" points=\"227,-498.5 227,-544.5 \" stroke=\"#000000\"/>\n",
       "<text fill=\"#000000\" font-family=\"Times,serif\" font-size=\"14.00\" text-anchor=\"middle\" x=\"254.5\" y=\"-529.3\">input:</text>\n",
       "<polyline fill=\"none\" points=\"227,-521.5 282,-521.5 \" stroke=\"#000000\"/>\n",
       "<text fill=\"#000000\" font-family=\"Times,serif\" font-size=\"14.00\" text-anchor=\"middle\" x=\"254.5\" y=\"-506.3\">output:</text>\n",
       "<polyline fill=\"none\" points=\"282,-498.5 282,-544.5 \" stroke=\"#000000\"/>\n",
       "<text fill=\"#000000\" font-family=\"Times,serif\" font-size=\"14.00\" text-anchor=\"middle\" x=\"334\" y=\"-529.3\">(None, 125, 50)</text>\n",
       "<polyline fill=\"none\" points=\"282,-521.5 386,-521.5 \" stroke=\"#000000\"/>\n",
       "<text fill=\"#000000\" font-family=\"Times,serif\" font-size=\"14.00\" text-anchor=\"middle\" x=\"334\" y=\"-506.3\">(None, 125, 50)</text>\n",
       "</g>\n",
       "<!-- 140047139850000&#45;&gt;140046738144560 -->\n",
       "<g class=\"edge\" id=\"edge2\">\n",
       "<title>140047139850000-&gt;140046738144560</title>\n",
       "<path d=\"M244,-581.3799C244,-573.1745 244,-563.7679 244,-554.8786\" fill=\"none\" stroke=\"#000000\"/>\n",
       "<polygon fill=\"#000000\" points=\"247.5001,-554.784 244,-544.784 240.5001,-554.784 247.5001,-554.784\" stroke=\"#000000\"/>\n",
       "</g>\n",
       "<!-- 140047139800848 -->\n",
       "<g class=\"node\" id=\"node4\">\n",
       "<title>140047139800848</title>\n",
       "<polygon fill=\"none\" points=\"110.5,-415.5 110.5,-461.5 377.5,-461.5 377.5,-415.5 110.5,-415.5\" stroke=\"#000000\"/>\n",
       "<text fill=\"#000000\" font-family=\"Times,serif\" font-size=\"14.00\" text-anchor=\"middle\" x=\"161.5\" y=\"-434.8\">dense_1: Dense</text>\n",
       "<polyline fill=\"none\" points=\"212.5,-415.5 212.5,-461.5 \" stroke=\"#000000\"/>\n",
       "<text fill=\"#000000\" font-family=\"Times,serif\" font-size=\"14.00\" text-anchor=\"middle\" x=\"240\" y=\"-446.3\">input:</text>\n",
       "<polyline fill=\"none\" points=\"212.5,-438.5 267.5,-438.5 \" stroke=\"#000000\"/>\n",
       "<text fill=\"#000000\" font-family=\"Times,serif\" font-size=\"14.00\" text-anchor=\"middle\" x=\"240\" y=\"-423.3\">output:</text>\n",
       "<polyline fill=\"none\" points=\"267.5,-415.5 267.5,-461.5 \" stroke=\"#000000\"/>\n",
       "<text fill=\"#000000\" font-family=\"Times,serif\" font-size=\"14.00\" text-anchor=\"middle\" x=\"322.5\" y=\"-446.3\">(None, 125, 50)</text>\n",
       "<polyline fill=\"none\" points=\"267.5,-438.5 377.5,-438.5 \" stroke=\"#000000\"/>\n",
       "<text fill=\"#000000\" font-family=\"Times,serif\" font-size=\"14.00\" text-anchor=\"middle\" x=\"322.5\" y=\"-423.3\">(None, 125, 128)</text>\n",
       "</g>\n",
       "<!-- 140046738144560&#45;&gt;140047139800848 -->\n",
       "<g class=\"edge\" id=\"edge3\">\n",
       "<title>140046738144560-&gt;140047139800848</title>\n",
       "<path d=\"M244,-498.3799C244,-490.1745 244,-480.7679 244,-471.8786\" fill=\"none\" stroke=\"#000000\"/>\n",
       "<polygon fill=\"#000000\" points=\"247.5001,-471.784 244,-461.784 240.5001,-471.784 247.5001,-471.784\" stroke=\"#000000\"/>\n",
       "</g>\n",
       "<!-- 140046738196296 -->\n",
       "<g class=\"node\" id=\"node5\">\n",
       "<title>140046738196296</title>\n",
       "<polygon fill=\"none\" points=\"99,-332.5 99,-378.5 389,-378.5 389,-332.5 99,-332.5\" stroke=\"#000000\"/>\n",
       "<text fill=\"#000000\" font-family=\"Times,serif\" font-size=\"14.00\" text-anchor=\"middle\" x=\"161.5\" y=\"-351.8\">dropout_2: Dropout</text>\n",
       "<polyline fill=\"none\" points=\"224,-332.5 224,-378.5 \" stroke=\"#000000\"/>\n",
       "<text fill=\"#000000\" font-family=\"Times,serif\" font-size=\"14.00\" text-anchor=\"middle\" x=\"251.5\" y=\"-363.3\">input:</text>\n",
       "<polyline fill=\"none\" points=\"224,-355.5 279,-355.5 \" stroke=\"#000000\"/>\n",
       "<text fill=\"#000000\" font-family=\"Times,serif\" font-size=\"14.00\" text-anchor=\"middle\" x=\"251.5\" y=\"-340.3\">output:</text>\n",
       "<polyline fill=\"none\" points=\"279,-332.5 279,-378.5 \" stroke=\"#000000\"/>\n",
       "<text fill=\"#000000\" font-family=\"Times,serif\" font-size=\"14.00\" text-anchor=\"middle\" x=\"334\" y=\"-363.3\">(None, 125, 128)</text>\n",
       "<polyline fill=\"none\" points=\"279,-355.5 389,-355.5 \" stroke=\"#000000\"/>\n",
       "<text fill=\"#000000\" font-family=\"Times,serif\" font-size=\"14.00\" text-anchor=\"middle\" x=\"334\" y=\"-340.3\">(None, 125, 128)</text>\n",
       "</g>\n",
       "<!-- 140047139800848&#45;&gt;140046738196296 -->\n",
       "<g class=\"edge\" id=\"edge4\">\n",
       "<title>140047139800848-&gt;140046738196296</title>\n",
       "<path d=\"M244,-415.3799C244,-407.1745 244,-397.7679 244,-388.8786\" fill=\"none\" stroke=\"#000000\"/>\n",
       "<polygon fill=\"#000000\" points=\"247.5001,-388.784 244,-378.784 240.5001,-388.784 247.5001,-388.784\" stroke=\"#000000\"/>\n",
       "</g>\n",
       "<!-- 140046738566728 -->\n",
       "<g class=\"node\" id=\"node6\">\n",
       "<title>140046738566728</title>\n",
       "<polygon fill=\"none\" points=\"0,-249.5 0,-295.5 488,-295.5 488,-249.5 0,-249.5\" stroke=\"#000000\"/>\n",
       "<text fill=\"#000000\" font-family=\"Times,serif\" font-size=\"14.00\" text-anchor=\"middle\" x=\"161.5\" y=\"-268.8\">global_average_pooling1d_1: GlobalAveragePooling1D</text>\n",
       "<polyline fill=\"none\" points=\"323,-249.5 323,-295.5 \" stroke=\"#000000\"/>\n",
       "<text fill=\"#000000\" font-family=\"Times,serif\" font-size=\"14.00\" text-anchor=\"middle\" x=\"350.5\" y=\"-280.3\">input:</text>\n",
       "<polyline fill=\"none\" points=\"323,-272.5 378,-272.5 \" stroke=\"#000000\"/>\n",
       "<text fill=\"#000000\" font-family=\"Times,serif\" font-size=\"14.00\" text-anchor=\"middle\" x=\"350.5\" y=\"-257.3\">output:</text>\n",
       "<polyline fill=\"none\" points=\"378,-249.5 378,-295.5 \" stroke=\"#000000\"/>\n",
       "<text fill=\"#000000\" font-family=\"Times,serif\" font-size=\"14.00\" text-anchor=\"middle\" x=\"433\" y=\"-280.3\">(None, 125, 128)</text>\n",
       "<polyline fill=\"none\" points=\"378,-272.5 488,-272.5 \" stroke=\"#000000\"/>\n",
       "<text fill=\"#000000\" font-family=\"Times,serif\" font-size=\"14.00\" text-anchor=\"middle\" x=\"433\" y=\"-257.3\">(None, 128)</text>\n",
       "</g>\n",
       "<!-- 140046738196296&#45;&gt;140046738566728 -->\n",
       "<g class=\"edge\" id=\"edge5\">\n",
       "<title>140046738196296-&gt;140046738566728</title>\n",
       "<path d=\"M244,-332.3799C244,-324.1745 244,-314.7679 244,-305.8786\" fill=\"none\" stroke=\"#000000\"/>\n",
       "<polygon fill=\"#000000\" points=\"247.5001,-305.784 244,-295.784 240.5001,-305.784 247.5001,-305.784\" stroke=\"#000000\"/>\n",
       "</g>\n",
       "<!-- 140046743498648 -->\n",
       "<g class=\"node\" id=\"node7\">\n",
       "<title>140046743498648</title>\n",
       "<polygon fill=\"none\" points=\"124,-166.5 124,-212.5 364,-212.5 364,-166.5 124,-166.5\" stroke=\"#000000\"/>\n",
       "<text fill=\"#000000\" font-family=\"Times,serif\" font-size=\"14.00\" text-anchor=\"middle\" x=\"175\" y=\"-185.8\">dense_2: Dense</text>\n",
       "<polyline fill=\"none\" points=\"226,-166.5 226,-212.5 \" stroke=\"#000000\"/>\n",
       "<text fill=\"#000000\" font-family=\"Times,serif\" font-size=\"14.00\" text-anchor=\"middle\" x=\"253.5\" y=\"-197.3\">input:</text>\n",
       "<polyline fill=\"none\" points=\"226,-189.5 281,-189.5 \" stroke=\"#000000\"/>\n",
       "<text fill=\"#000000\" font-family=\"Times,serif\" font-size=\"14.00\" text-anchor=\"middle\" x=\"253.5\" y=\"-174.3\">output:</text>\n",
       "<polyline fill=\"none\" points=\"281,-166.5 281,-212.5 \" stroke=\"#000000\"/>\n",
       "<text fill=\"#000000\" font-family=\"Times,serif\" font-size=\"14.00\" text-anchor=\"middle\" x=\"322.5\" y=\"-197.3\">(None, 128)</text>\n",
       "<polyline fill=\"none\" points=\"281,-189.5 364,-189.5 \" stroke=\"#000000\"/>\n",
       "<text fill=\"#000000\" font-family=\"Times,serif\" font-size=\"14.00\" text-anchor=\"middle\" x=\"322.5\" y=\"-174.3\">(None, 64)</text>\n",
       "</g>\n",
       "<!-- 140046738566728&#45;&gt;140046743498648 -->\n",
       "<g class=\"edge\" id=\"edge6\">\n",
       "<title>140046738566728-&gt;140046743498648</title>\n",
       "<path d=\"M244,-249.3799C244,-241.1745 244,-231.7679 244,-222.8786\" fill=\"none\" stroke=\"#000000\"/>\n",
       "<polygon fill=\"#000000\" points=\"247.5001,-222.784 244,-212.784 240.5001,-222.784 247.5001,-222.784\" stroke=\"#000000\"/>\n",
       "</g>\n",
       "<!-- 140046738565160 -->\n",
       "<g class=\"node\" id=\"node8\">\n",
       "<title>140046738565160</title>\n",
       "<polygon fill=\"none\" points=\"116,-83.5 116,-129.5 372,-129.5 372,-83.5 116,-83.5\" stroke=\"#000000\"/>\n",
       "<text fill=\"#000000\" font-family=\"Times,serif\" font-size=\"14.00\" text-anchor=\"middle\" x=\"178.5\" y=\"-102.8\">dropout_3: Dropout</text>\n",
       "<polyline fill=\"none\" points=\"241,-83.5 241,-129.5 \" stroke=\"#000000\"/>\n",
       "<text fill=\"#000000\" font-family=\"Times,serif\" font-size=\"14.00\" text-anchor=\"middle\" x=\"268.5\" y=\"-114.3\">input:</text>\n",
       "<polyline fill=\"none\" points=\"241,-106.5 296,-106.5 \" stroke=\"#000000\"/>\n",
       "<text fill=\"#000000\" font-family=\"Times,serif\" font-size=\"14.00\" text-anchor=\"middle\" x=\"268.5\" y=\"-91.3\">output:</text>\n",
       "<polyline fill=\"none\" points=\"296,-83.5 296,-129.5 \" stroke=\"#000000\"/>\n",
       "<text fill=\"#000000\" font-family=\"Times,serif\" font-size=\"14.00\" text-anchor=\"middle\" x=\"334\" y=\"-114.3\">(None, 64)</text>\n",
       "<polyline fill=\"none\" points=\"296,-106.5 372,-106.5 \" stroke=\"#000000\"/>\n",
       "<text fill=\"#000000\" font-family=\"Times,serif\" font-size=\"14.00\" text-anchor=\"middle\" x=\"334\" y=\"-91.3\">(None, 64)</text>\n",
       "</g>\n",
       "<!-- 140046743498648&#45;&gt;140046738565160 -->\n",
       "<g class=\"edge\" id=\"edge7\">\n",
       "<title>140046743498648-&gt;140046738565160</title>\n",
       "<path d=\"M244,-166.3799C244,-158.1745 244,-148.7679 244,-139.8786\" fill=\"none\" stroke=\"#000000\"/>\n",
       "<polygon fill=\"#000000\" points=\"247.5001,-139.784 244,-129.784 240.5001,-139.784 247.5001,-139.784\" stroke=\"#000000\"/>\n",
       "</g>\n",
       "<!-- 140046737997272 -->\n",
       "<g class=\"node\" id=\"node9\">\n",
       "<title>140046737997272</title>\n",
       "<polygon fill=\"none\" points=\"127.5,-.5 127.5,-46.5 360.5,-46.5 360.5,-.5 127.5,-.5\" stroke=\"#000000\"/>\n",
       "<text fill=\"#000000\" font-family=\"Times,serif\" font-size=\"14.00\" text-anchor=\"middle\" x=\"178.5\" y=\"-19.8\">dense_3: Dense</text>\n",
       "<polyline fill=\"none\" points=\"229.5,-.5 229.5,-46.5 \" stroke=\"#000000\"/>\n",
       "<text fill=\"#000000\" font-family=\"Times,serif\" font-size=\"14.00\" text-anchor=\"middle\" x=\"257\" y=\"-31.3\">input:</text>\n",
       "<polyline fill=\"none\" points=\"229.5,-23.5 284.5,-23.5 \" stroke=\"#000000\"/>\n",
       "<text fill=\"#000000\" font-family=\"Times,serif\" font-size=\"14.00\" text-anchor=\"middle\" x=\"257\" y=\"-8.3\">output:</text>\n",
       "<polyline fill=\"none\" points=\"284.5,-.5 284.5,-46.5 \" stroke=\"#000000\"/>\n",
       "<text fill=\"#000000\" font-family=\"Times,serif\" font-size=\"14.00\" text-anchor=\"middle\" x=\"322.5\" y=\"-31.3\">(None, 64)</text>\n",
       "<polyline fill=\"none\" points=\"284.5,-23.5 360.5,-23.5 \" stroke=\"#000000\"/>\n",
       "<text fill=\"#000000\" font-family=\"Times,serif\" font-size=\"14.00\" text-anchor=\"middle\" x=\"322.5\" y=\"-8.3\">(None, 1)</text>\n",
       "</g>\n",
       "<!-- 140046738565160&#45;&gt;140046737997272 -->\n",
       "<g class=\"edge\" id=\"edge8\">\n",
       "<title>140046738565160-&gt;140046737997272</title>\n",
       "<path d=\"M244,-83.3799C244,-75.1745 244,-65.7679 244,-56.8786\" fill=\"none\" stroke=\"#000000\"/>\n",
       "<polygon fill=\"#000000\" points=\"247.5001,-56.784 244,-46.784 240.5001,-56.784 247.5001,-56.784\" stroke=\"#000000\"/>\n",
       "</g>\n",
       "</g>\n",
       "</svg>"
      ],
      "text/plain": [
       "<IPython.core.display.SVG object>"
      ]
     },
     "execution_count": 33,
     "metadata": {},
     "output_type": "execute_result"
    }
   ],
   "source": [
    "from IPython.display import SVG\n",
    "from keras.utils.vis_utils import model_to_dot\n",
    "\n",
    "def plot_model_in_notebook(model):\n",
    "    return SVG(model_to_dot(model, show_shapes=True).create(prog='dot', format='svg'))\n",
    "\n",
    "plot_model_in_notebook(model)"
   ]
  },
  {
   "cell_type": "code",
   "execution_count": 34,
   "metadata": {},
   "outputs": [
    {
     "data": {
      "text/plain": [
       "1514849"
      ]
     },
     "execution_count": 34,
     "metadata": {},
     "output_type": "execute_result"
    }
   ],
   "source": [
    "model.count_params()"
   ]
  },
  {
   "cell_type": "code",
   "execution_count": 35,
   "metadata": {},
   "outputs": [
    {
     "name": "stdout",
     "output_type": "stream",
     "text": [
      "Train on 22500 samples, validate on 2500 samples\n",
      "Epoch 1/20\n",
      "22500/22500 [==============================] - 9s 397us/step - loss: 0.6657 - acc: 0.6018 - val_loss: 0.6175 - val_acc: 0.6888\n",
      "Epoch 2/20\n",
      "22500/22500 [==============================] - 9s 392us/step - loss: 0.6072 - acc: 0.6778 - val_loss: 0.5663 - val_acc: 0.7292\n",
      "Epoch 3/20\n",
      "22500/22500 [==============================] - 9s 393us/step - loss: 0.5694 - acc: 0.7089 - val_loss: 0.5337 - val_acc: 0.7456\n",
      "Epoch 4/20\n",
      "22500/22500 [==============================] - 9s 392us/step - loss: 0.5477 - acc: 0.7244 - val_loss: 0.5271 - val_acc: 0.7500\n",
      "Epoch 5/20\n",
      "22500/22500 [==============================] - 8s 376us/step - loss: 0.5359 - acc: 0.7375 - val_loss: 0.5151 - val_acc: 0.7564\n",
      "Epoch 6/20\n",
      "22500/22500 [==============================] - 9s 379us/step - loss: 0.5256 - acc: 0.7439 - val_loss: 0.5016 - val_acc: 0.7648\n",
      "Epoch 7/20\n",
      "22500/22500 [==============================] - 9s 380us/step - loss: 0.5177 - acc: 0.7472 - val_loss: 0.4870 - val_acc: 0.7652\n",
      "Epoch 8/20\n",
      "22500/22500 [==============================] - 9s 386us/step - loss: 0.5149 - acc: 0.7499 - val_loss: 0.5016 - val_acc: 0.7528\n",
      "Epoch 9/20\n",
      "22500/22500 [==============================] - 9s 389us/step - loss: 0.5095 - acc: 0.7583 - val_loss: 0.4791 - val_acc: 0.7764\n",
      "Epoch 10/20\n",
      "22500/22500 [==============================] - 9s 399us/step - loss: 0.5014 - acc: 0.7597 - val_loss: 0.4746 - val_acc: 0.7764\n",
      "Epoch 11/20\n",
      "22500/22500 [==============================] - 9s 407us/step - loss: 0.4984 - acc: 0.7605 - val_loss: 0.4747 - val_acc: 0.7716\n",
      "Epoch 12/20\n",
      "22500/22500 [==============================] - 10s 426us/step - loss: 0.4958 - acc: 0.7642 - val_loss: 0.4705 - val_acc: 0.7760\n",
      "Epoch 13/20\n",
      "22500/22500 [==============================] - 9s 407us/step - loss: 0.4911 - acc: 0.7680 - val_loss: 0.4652 - val_acc: 0.7860\n",
      "Epoch 14/20\n",
      "22500/22500 [==============================] - 9s 399us/step - loss: 0.4862 - acc: 0.7699 - val_loss: 0.4583 - val_acc: 0.7788\n",
      "Epoch 15/20\n",
      "22500/22500 [==============================] - 9s 404us/step - loss: 0.4826 - acc: 0.7733 - val_loss: 0.4545 - val_acc: 0.7808\n",
      "Epoch 16/20\n",
      "22500/22500 [==============================] - 9s 404us/step - loss: 0.4796 - acc: 0.7721 - val_loss: 0.4537 - val_acc: 0.7840\n",
      "Epoch 17/20\n",
      "22500/22500 [==============================] - 9s 420us/step - loss: 0.4795 - acc: 0.7741 - val_loss: 0.4469 - val_acc: 0.7836\n",
      "Epoch 18/20\n",
      "22500/22500 [==============================] - 9s 411us/step - loss: 0.4774 - acc: 0.7748 - val_loss: 0.4656 - val_acc: 0.7888\n",
      "Epoch 19/20\n",
      "22500/22500 [==============================] - 9s 382us/step - loss: 0.4745 - acc: 0.7760 - val_loss: 0.4482 - val_acc: 0.7944\n",
      "Epoch 20/20\n",
      "22500/22500 [==============================] - 9s 382us/step - loss: 0.4724 - acc: 0.7783 - val_loss: 0.4439 - val_acc: 0.7820\n"
     ]
    },
    {
     "data": {
      "text/plain": [
       "<keras.callbacks.History at 0x7f22890faf60>"
      ]
     },
     "execution_count": 35,
     "metadata": {},
     "output_type": "execute_result"
    }
   ],
   "source": [
    "model.fit(\n",
    "    int_sequences_train, y_train, \n",
    "    validation_data=(int_sequences_val, y_val), \n",
    "    epochs=20, \n",
    "    shuffle=True, \n",
    "    batch_size=256, \n",
    "    verbose=1\n",
    ")"
   ]
  },
  {
   "cell_type": "code",
   "execution_count": 36,
   "metadata": {},
   "outputs": [
    {
     "data": {
      "text/plain": [
       "<matplotlib.axes._subplots.AxesSubplot at 0x7f22890fe6d8>"
      ]
     },
     "execution_count": 36,
     "metadata": {},
     "output_type": "execute_result"
    },
    {
     "data": {
      "image/png": "[encoded data removed]",
      "text/plain": [
       "<Figure size 1152x648 with 1 Axes>"
      ]
     },
     "metadata": {
      "needs_background": "light"
     },
     "output_type": "display_data"
    }
   ],
   "source": [
    "acc_cols = ['val_acc', 'acc']\n",
    "pd.DataFrame(model.history.history)[acc_cols].plot(figsize=(16,9))"
   ]
  },
  {
   "cell_type": "code",
   "execution_count": 37,
   "metadata": {},
   "outputs": [
    {
     "data": {
      "text/plain": [
       "0.79944"
      ]
     },
     "execution_count": 37,
     "metadata": {},
     "output_type": "execute_result"
    }
   ],
   "source": [
    "#accuracy_score(np.argmax(y_test, axis=1), np.argmax(model.predict(int_sequences_test), axis=1).astype(int))\n",
    "accuracy_score(y_test, model.predict(int_sequences_test) > 0.5)"
   ]
  },
  {
   "cell_type": "code",
   "execution_count": null,
   "metadata": {},
   "outputs": [],
   "source": []
  },
  {
   "cell_type": "code",
   "execution_count": null,
   "metadata": {},
   "outputs": [],
   "source": []
  },
  {
   "cell_type": "markdown",
   "metadata": {},
   "source": [
    "## Now repeat with trainable embeddings"
   ]
  },
  {
   "cell_type": "code",
   "execution_count": 38,
   "metadata": {},
   "outputs": [],
   "source": [
    "K.clear_session()\n",
    "\n",
    "word_input = Input(shape=(MAX_SEQ_LEN,), dtype='int32')\n",
    "\n",
    "hidden_state = Embedding(\n",
    "    MAX_WORDS, \n",
    "    EMBEDDING_DIM,\n",
    "    embeddings_initializer=Constant(embedding_matrix),\n",
    "    trainable=True,\n",
    "    input_length=MAX_SEQ_LEN)(word_input)\n",
    "\n",
    "hidden_state = Dropout(0.2)(hidden_state)\n",
    "hidden_state = Dense(128, activation='relu')(hidden_state)\n",
    "hidden_state = Dropout(0.5)(hidden_state)\n",
    "hidden_state = GlobalAveragePooling1D()(hidden_state)\n",
    "hidden_state = Dense(64, activation='relu')(hidden_state)\n",
    "hidden_state = Dropout(0.5)(hidden_state)\n",
    "\n",
    "output = Dense(1, activation='sigmoid')(hidden_state)\n",
    "\n",
    "model = Model(word_input, output)\n",
    "model.compile(optimizer='rmsprop', \n",
    "              loss='binary_crossentropy', \n",
    "              metrics=['accuracy']\n",
    "             )\n"
   ]
  },
  {
   "cell_type": "code",
   "execution_count": 39,
   "metadata": {},
   "outputs": [
    {
     "data": {
      "text/plain": [
       "<matplotlib.axes._subplots.AxesSubplot at 0x7f2276f50978>"
      ]
     },
     "execution_count": 39,
     "metadata": {},
     "output_type": "execute_result"
    },
    {
     "data": {
      "image/png": "[encoded data removed]",
      "text/plain": [
       "<Figure size 1152x648 with 1 Axes>"
      ]
     },
     "metadata": {
      "needs_background": "light"
     },
     "output_type": "display_data"
    }
   ],
   "source": [
    "model.fit(int_sequences_train, y_train, \n",
    "          validation_data=(int_sequences_val, y_val), \n",
    "          epochs=20, \n",
    "          shuffle=True, \n",
    "          batch_size=256, \n",
    "          verbose=0\n",
    "         )\n",
    "\n",
    "acc_cols = ['val_acc', 'acc']\n",
    "pd.DataFrame(\n",
    "    model.history.history\n",
    ")[acc_cols].plot(figsize=(16,9), fontsize=16)"
   ]
  },
  {
   "cell_type": "code",
   "execution_count": 40,
   "metadata": {},
   "outputs": [
    {
     "data": {
      "text/plain": [
       "0.85772"
      ]
     },
     "execution_count": 40,
     "metadata": {},
     "output_type": "execute_result"
    }
   ],
   "source": [
    "accuracy_score(y_test, model.predict(int_sequences_test) > 0.5)"
   ]
  },
  {
   "cell_type": "code",
   "execution_count": null,
   "metadata": {},
   "outputs": [],
   "source": []
  },
  {
   "cell_type": "markdown",
   "metadata": {},
   "source": [
    "# Why is this so cool?\n",
    "## The ability to do semi-supervised learning here allows us to train on very little data"
   ]
  },
  {
   "cell_type": "code",
   "execution_count": null,
   "metadata": {},
   "outputs": [],
   "source": []
  },
  {
   "cell_type": "code",
   "execution_count": 35,
   "metadata": {},
   "outputs": [],
   "source": [
    "MAX_WORDS = 10000\n",
    "EMBEDDING_DIM = 50\n",
    "\n",
    "DOCS_TO_USE = 300\n",
    "MAX_SEQ_LEN = 30"
   ]
  },
  {
   "cell_type": "code",
   "execution_count": 36,
   "metadata": {},
   "outputs": [],
   "source": [
    "# 1. Load the data\n",
    "IMDB_DIR = '/home/mikey/Documents/data/aclImdb/'\n",
    "(train_docs, y_train), (test_docs, y_test) = load_imdb_data_text(IMDB_DIR)"
   ]
  },
  {
   "cell_type": "code",
   "execution_count": 37,
   "metadata": {},
   "outputs": [],
   "source": [
    "from keras.preprocessing.text import Tokenizer\n",
    "from keras.preprocessing.sequence import pad_sequences\n",
    "\n",
    "\n",
    "\n",
    "tok = Tokenizer(num_words=MAX_WORDS)\n",
    "tok.fit_on_texts(train_docs)\n",
    "\n",
    "int_sequences_train = tok.texts_to_sequences(train_docs)\n",
    "int_sequences_test = tok.texts_to_sequences(test_docs)\n",
    "\n",
    "int_sequences_train = pad_sequences(\n",
    "    int_sequences_train, maxlen=MAX_SEQ_LEN)\n",
    "int_sequences_test = pad_sequences(\n",
    "    int_sequences_test, maxlen=MAX_SEQ_LEN)\n",
    "\n",
    "embedding_matrix = np.zeros((MAX_WORDS, EMBEDDING_DIM))\n",
    "for word, i in tok.word_index.items():\n",
    "    if i >= MAX_WORDS:\n",
    "        continue\n",
    "    embedding_vector = word_vecs.get(word)\n",
    "    if embedding_vector is not None:\n",
    "        # words not found in embedding index will be all-zeros.\n",
    "        embedding_matrix[i] = embedding_vector"
   ]
  },
  {
   "cell_type": "code",
   "execution_count": 38,
   "metadata": {},
   "outputs": [],
   "source": [
    "K.clear_session()\n",
    "\n",
    "word_input = Input(shape=(MAX_SEQ_LEN,), dtype='int32')\n",
    "hidden_state = Embedding(MAX_WORDS, \n",
    "                         EMBEDDING_DIM, \n",
    "                         input_length=MAX_SEQ_LEN\n",
    "                        )(word_input)\n",
    "hidden_state = Dropout(0.5)(hidden_state)\n",
    "hidden_state = GlobalAveragePooling1D()(hidden_state)\n",
    "hidden_state = Dropout(0.5)(hidden_state)\n",
    "hidden_state = Dense(256, activation='relu')(hidden_state)\n",
    "hidden_state = Dropout(0.5)(hidden_state)\n",
    "hidden_state = Dense(32, activation='relu')(hidden_state)\n",
    "hidden_state = Dropout(0.5)(hidden_state)\n",
    "output = Dense(1, activation='sigmoid')(hidden_state)\n",
    "\n",
    "model = Model(word_input, output)\n",
    "\n",
    "model.compile(optimizer='rmsprop', \n",
    "              loss='binary_crossentropy', \n",
    "              metrics=['accuracy'])\n"
   ]
  },
  {
   "cell_type": "code",
   "execution_count": 39,
   "metadata": {},
   "outputs": [],
   "source": [
    "DOCS_TO_USE = 200"
   ]
  },
  {
   "cell_type": "code",
   "execution_count": 66,
   "metadata": {},
   "outputs": [
    {
     "data": {
      "text/plain": [
       "<keras.callbacks.History at 0x7f7d484ac860>"
      ]
     },
     "execution_count": 66,
     "metadata": {},
     "output_type": "execute_result"
    }
   ],
   "source": [
    "train_inds = np.arange(int_sequences_train.shape[0])\n",
    "np.random.shuffle(train_inds)\n",
    "train_inds = train_inds[:DOCS_TO_USE]\n",
    "\n",
    "model.fit(\n",
    "    int_sequences_train[train_inds], y_train[train_inds], \n",
    "    epochs=1000, \n",
    "    shuffle=True, \n",
    "    verbose=0\n",
    ")\n"
   ]
  },
  {
   "cell_type": "code",
   "execution_count": 67,
   "metadata": {},
   "outputs": [
    {
     "data": {
      "text/plain": [
       "0.6908"
      ]
     },
     "execution_count": 67,
     "metadata": {},
     "output_type": "execute_result"
    }
   ],
   "source": [
    "accuracy_score(y_test, model.predict(int_sequences_test) > 0.5)"
   ]
  },
  {
   "cell_type": "code",
   "execution_count": null,
   "metadata": {},
   "outputs": [],
   "source": []
  },
  {
   "cell_type": "code",
   "execution_count": null,
   "metadata": {},
   "outputs": [],
   "source": []
  }
 ],
 "metadata": {
  "kernelspec": {
   "display_name": "Python [conda env:MIT]",
   "language": "python",
   "name": "conda-env-MIT-py"
  },
  "language_info": {
   "codemirror_mode": {
    "name": "ipython",
    "version": 3
   },
   "file_extension": ".py",
   "mimetype": "text/x-python",
   "name": "python",
   "nbconvert_exporter": "python",
   "pygments_lexer": "ipython3",
   "version": "3.6.7"
  }
 },
 "nbformat": 4,
 "nbformat_minor": 2
}
